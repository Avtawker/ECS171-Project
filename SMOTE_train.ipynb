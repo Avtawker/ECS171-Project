{
 "cells": [
  {
   "cell_type": "code",
   "execution_count": 2,
   "metadata": {},
   "outputs": [],
   "source": [
    "import numpy as np\n",
    "import pandas as pd\n",
    "import seaborn as sns\n",
    "import matplotlib.pyplot as plt"
   ]
  },
  {
   "cell_type": "code",
   "execution_count": 3,
   "metadata": {},
   "outputs": [],
   "source": [
    "data = pd.read_csv('data.csv')\n",
    "data = data.dropna()"
   ]
  },
  {
   "cell_type": "code",
   "execution_count": 4,
   "metadata": {},
   "outputs": [
    {
     "name": "stderr",
     "output_type": "stream",
     "text": [
      "/var/folders/f9/jdxhns6s5xqbjc5h71x7s2740000gn/T/ipykernel_2764/254387578.py:5: FutureWarning: Series.__getitem__ treating keys as positions is deprecated. In a future version, integer keys will always be treated as labels (consistent with DataFrame behavior). To access a value by position, use `ser.iloc[pos]`\n",
      "  if abs(corr[\"Bankrupt?\"][i]) > 0.15:\n"
     ]
    }
   ],
   "source": [
    "corr = data.corr()\n",
    "vars = []\n",
    "\n",
    "for i in range(len(corr[\"Bankrupt?\"])):\n",
    "    if abs(corr[\"Bankrupt?\"][i]) > 0.15:\n",
    "        vars.append(corr[\"Bankrupt?\"].index[i])"
   ]
  },
  {
   "cell_type": "code",
   "execution_count": 5,
   "metadata": {},
   "outputs": [
    {
     "data": {
      "text/html": [
       "<div>\n",
       "<style scoped>\n",
       "    .dataframe tbody tr th:only-of-type {\n",
       "        vertical-align: middle;\n",
       "    }\n",
       "\n",
       "    .dataframe tbody tr th {\n",
       "        vertical-align: top;\n",
       "    }\n",
       "\n",
       "    .dataframe thead th {\n",
       "        text-align: right;\n",
       "    }\n",
       "</style>\n",
       "<table border=\"1\" class=\"dataframe\">\n",
       "  <thead>\n",
       "    <tr style=\"text-align: right;\">\n",
       "      <th></th>\n",
       "      <th>Bankrupt?</th>\n",
       "      <th>ROA(C) before interest and depreciation before interest</th>\n",
       "      <th>ROA(A) before interest and % after tax</th>\n",
       "      <th>ROA(B) before interest and depreciation after tax</th>\n",
       "      <th>Net Value Per Share (B)</th>\n",
       "      <th>Net Value Per Share (A)</th>\n",
       "      <th>Net Value Per Share (C)</th>\n",
       "      <th>Persistent EPS in the Last Four Seasons</th>\n",
       "      <th>Per Share Net profit before tax (Yuan ¥)</th>\n",
       "      <th>Debt ratio %</th>\n",
       "      <th>...</th>\n",
       "      <th>Net profit before tax/Paid-in capital</th>\n",
       "      <th>Working Capital to Total Assets</th>\n",
       "      <th>Current Liability to Assets</th>\n",
       "      <th>Current Liabilities/Equity</th>\n",
       "      <th>Retained Earnings to Total Assets</th>\n",
       "      <th>Current Liability to Equity</th>\n",
       "      <th>Current Liability to Current Assets</th>\n",
       "      <th>Net Income to Total Assets</th>\n",
       "      <th>Net Income to Stockholder's Equity</th>\n",
       "      <th>Liability to Equity</th>\n",
       "    </tr>\n",
       "  </thead>\n",
       "  <tbody>\n",
       "    <tr>\n",
       "      <th>0</th>\n",
       "      <td>1</td>\n",
       "      <td>0.370594</td>\n",
       "      <td>0.424389</td>\n",
       "      <td>0.405750</td>\n",
       "      <td>0.147950</td>\n",
       "      <td>0.147950</td>\n",
       "      <td>0.147950</td>\n",
       "      <td>0.169141</td>\n",
       "      <td>0.138736</td>\n",
       "      <td>0.207576</td>\n",
       "      <td>...</td>\n",
       "      <td>0.137757</td>\n",
       "      <td>0.672775</td>\n",
       "      <td>0.147308</td>\n",
       "      <td>0.339077</td>\n",
       "      <td>0.903225</td>\n",
       "      <td>0.339077</td>\n",
       "      <td>0.118250</td>\n",
       "      <td>0.716845</td>\n",
       "      <td>0.827890</td>\n",
       "      <td>0.290202</td>\n",
       "    </tr>\n",
       "    <tr>\n",
       "      <th>1</th>\n",
       "      <td>1</td>\n",
       "      <td>0.464291</td>\n",
       "      <td>0.538214</td>\n",
       "      <td>0.516730</td>\n",
       "      <td>0.182251</td>\n",
       "      <td>0.182251</td>\n",
       "      <td>0.182251</td>\n",
       "      <td>0.208944</td>\n",
       "      <td>0.169918</td>\n",
       "      <td>0.171176</td>\n",
       "      <td>...</td>\n",
       "      <td>0.168962</td>\n",
       "      <td>0.751111</td>\n",
       "      <td>0.056963</td>\n",
       "      <td>0.329740</td>\n",
       "      <td>0.931065</td>\n",
       "      <td>0.329740</td>\n",
       "      <td>0.047775</td>\n",
       "      <td>0.795297</td>\n",
       "      <td>0.839969</td>\n",
       "      <td>0.283846</td>\n",
       "    </tr>\n",
       "    <tr>\n",
       "      <th>2</th>\n",
       "      <td>1</td>\n",
       "      <td>0.426071</td>\n",
       "      <td>0.499019</td>\n",
       "      <td>0.472295</td>\n",
       "      <td>0.177911</td>\n",
       "      <td>0.177911</td>\n",
       "      <td>0.193713</td>\n",
       "      <td>0.180581</td>\n",
       "      <td>0.142803</td>\n",
       "      <td>0.207516</td>\n",
       "      <td>...</td>\n",
       "      <td>0.148036</td>\n",
       "      <td>0.829502</td>\n",
       "      <td>0.098162</td>\n",
       "      <td>0.334777</td>\n",
       "      <td>0.909903</td>\n",
       "      <td>0.334777</td>\n",
       "      <td>0.025346</td>\n",
       "      <td>0.774670</td>\n",
       "      <td>0.836774</td>\n",
       "      <td>0.290189</td>\n",
       "    </tr>\n",
       "    <tr>\n",
       "      <th>3</th>\n",
       "      <td>1</td>\n",
       "      <td>0.399844</td>\n",
       "      <td>0.451265</td>\n",
       "      <td>0.457733</td>\n",
       "      <td>0.154187</td>\n",
       "      <td>0.154187</td>\n",
       "      <td>0.154187</td>\n",
       "      <td>0.193722</td>\n",
       "      <td>0.148603</td>\n",
       "      <td>0.151465</td>\n",
       "      <td>...</td>\n",
       "      <td>0.147561</td>\n",
       "      <td>0.725754</td>\n",
       "      <td>0.098715</td>\n",
       "      <td>0.331509</td>\n",
       "      <td>0.906902</td>\n",
       "      <td>0.331509</td>\n",
       "      <td>0.067250</td>\n",
       "      <td>0.739555</td>\n",
       "      <td>0.834697</td>\n",
       "      <td>0.281721</td>\n",
       "    </tr>\n",
       "    <tr>\n",
       "      <th>4</th>\n",
       "      <td>1</td>\n",
       "      <td>0.465022</td>\n",
       "      <td>0.538432</td>\n",
       "      <td>0.522298</td>\n",
       "      <td>0.167502</td>\n",
       "      <td>0.167502</td>\n",
       "      <td>0.167502</td>\n",
       "      <td>0.212537</td>\n",
       "      <td>0.168412</td>\n",
       "      <td>0.106509</td>\n",
       "      <td>...</td>\n",
       "      <td>0.167461</td>\n",
       "      <td>0.751822</td>\n",
       "      <td>0.110195</td>\n",
       "      <td>0.330726</td>\n",
       "      <td>0.913850</td>\n",
       "      <td>0.330726</td>\n",
       "      <td>0.047725</td>\n",
       "      <td>0.795016</td>\n",
       "      <td>0.839973</td>\n",
       "      <td>0.278514</td>\n",
       "    </tr>\n",
       "  </tbody>\n",
       "</table>\n",
       "<p>5 rows × 22 columns</p>\n",
       "</div>"
      ],
      "text/plain": [
       "   Bankrupt?   ROA(C) before interest and depreciation before interest  \\\n",
       "0          1                                           0.370594          \n",
       "1          1                                           0.464291          \n",
       "2          1                                           0.426071          \n",
       "3          1                                           0.399844          \n",
       "4          1                                           0.465022          \n",
       "\n",
       "    ROA(A) before interest and % after tax  \\\n",
       "0                                 0.424389   \n",
       "1                                 0.538214   \n",
       "2                                 0.499019   \n",
       "3                                 0.451265   \n",
       "4                                 0.538432   \n",
       "\n",
       "    ROA(B) before interest and depreciation after tax  \\\n",
       "0                                           0.405750    \n",
       "1                                           0.516730    \n",
       "2                                           0.472295    \n",
       "3                                           0.457733    \n",
       "4                                           0.522298    \n",
       "\n",
       "    Net Value Per Share (B)   Net Value Per Share (A)  \\\n",
       "0                  0.147950                  0.147950   \n",
       "1                  0.182251                  0.182251   \n",
       "2                  0.177911                  0.177911   \n",
       "3                  0.154187                  0.154187   \n",
       "4                  0.167502                  0.167502   \n",
       "\n",
       "    Net Value Per Share (C)   Persistent EPS in the Last Four Seasons  \\\n",
       "0                  0.147950                                  0.169141   \n",
       "1                  0.182251                                  0.208944   \n",
       "2                  0.193713                                  0.180581   \n",
       "3                  0.154187                                  0.193722   \n",
       "4                  0.167502                                  0.212537   \n",
       "\n",
       "    Per Share Net profit before tax (Yuan ¥)   Debt ratio %  ...  \\\n",
       "0                                   0.138736       0.207576  ...   \n",
       "1                                   0.169918       0.171176  ...   \n",
       "2                                   0.142803       0.207516  ...   \n",
       "3                                   0.148603       0.151465  ...   \n",
       "4                                   0.168412       0.106509  ...   \n",
       "\n",
       "    Net profit before tax/Paid-in capital   Working Capital to Total Assets  \\\n",
       "0                                0.137757                          0.672775   \n",
       "1                                0.168962                          0.751111   \n",
       "2                                0.148036                          0.829502   \n",
       "3                                0.147561                          0.725754   \n",
       "4                                0.167461                          0.751822   \n",
       "\n",
       "    Current Liability to Assets   Current Liabilities/Equity  \\\n",
       "0                      0.147308                     0.339077   \n",
       "1                      0.056963                     0.329740   \n",
       "2                      0.098162                     0.334777   \n",
       "3                      0.098715                     0.331509   \n",
       "4                      0.110195                     0.330726   \n",
       "\n",
       "    Retained Earnings to Total Assets   Current Liability to Equity  \\\n",
       "0                            0.903225                      0.339077   \n",
       "1                            0.931065                      0.329740   \n",
       "2                            0.909903                      0.334777   \n",
       "3                            0.906902                      0.331509   \n",
       "4                            0.913850                      0.330726   \n",
       "\n",
       "    Current Liability to Current Assets   Net Income to Total Assets  \\\n",
       "0                              0.118250                     0.716845   \n",
       "1                              0.047775                     0.795297   \n",
       "2                              0.025346                     0.774670   \n",
       "3                              0.067250                     0.739555   \n",
       "4                              0.047725                     0.795016   \n",
       "\n",
       "    Net Income to Stockholder's Equity   Liability to Equity  \n",
       "0                             0.827890              0.290202  \n",
       "1                             0.839969              0.283846  \n",
       "2                             0.836774              0.290189  \n",
       "3                             0.834697              0.281721  \n",
       "4                             0.839973              0.278514  \n",
       "\n",
       "[5 rows x 22 columns]"
      ]
     },
     "metadata": {},
     "output_type": "display_data"
    }
   ],
   "source": [
    "data = data[vars]\n",
    "display(data.head())"
   ]
  },
  {
   "cell_type": "code",
   "execution_count": 6,
   "metadata": {},
   "outputs": [],
   "source": [
    "from sklearn.preprocessing import StandardScaler\n",
    "from sklearn.model_selection import train_test_split\n",
    "\n",
    "# Check for missing n if theree is fill with median\n",
    "missing_values = data.isnull().sum()\n",
    "data.fillna(data.median(), inplace=True)\n",
    "data = data.drop_duplicates()\n",
    "\n",
    "\n",
    "#removes outliers\n",
    "\n",
    "\n",
    "for column in data.columns[1:]:  # Skip the first column as it's the target variable\n",
    "        df = data\n",
    "        Q1 = df[column].quantile(0.25)\n",
    "        Q3 = df[column].quantile(0.75)\n",
    "        IQR = Q3 - Q1\n",
    "        lower_limit = Q1 - 1.5 * IQR\n",
    "        upper_limit = Q3 + 1.5 * IQR\n",
    "        df[column] = df[column].clip(lower_limit, upper_limit)\n",
    "\n",
    "\n",
    "#feature scaling\n",
    "\n",
    "scaler = StandardScaler()\n",
    "scaled_features = scaler.fit_transform(data.drop(columns=['Bankrupt?']))\n",
    "scaled_df = pd.DataFrame(scaled_features, columns=data.columns[1:])\n"
   ]
  },
  {
   "cell_type": "code",
   "execution_count": 7,
   "metadata": {},
   "outputs": [
    {
     "data": {
      "image/png": "[encoded data removed]",
      "text/plain": [
       "<Figure size 2000x4000 with 21 Axes>"
      ]
     },
     "metadata": {},
     "output_type": "display_data"
    }
   ],
   "source": [
    "fig, axes = plt.subplots(len(vars) // 3, 3, figsize=(20, 40))\n",
    "i, j = 0, 0\n",
    "for var in vars:\n",
    "    if var == \"Bankrupt?\":\n",
    "        continue\n",
    "    sns.boxenplot(ax = axes[i, j], x=\"Bankrupt?\", y=var, data=data, palette=\"Blues\", hue = \"Bankrupt?\")\n",
    "    plt.xlabel(\"Bankrupt classes\")\n",
    "    plt.ylabel(var, fontsize= 1)\n",
    "    j += 1\n",
    "    if j == 3:\n",
    "        j = 0\n",
    "        i += 1"
   ]
  },
  {
   "cell_type": "code",
   "execution_count": 8,
   "metadata": {},
   "outputs": [
    {
     "data": {
      "text/html": [
       "<div>\n",
       "<style scoped>\n",
       "    .dataframe tbody tr th:only-of-type {\n",
       "        vertical-align: middle;\n",
       "    }\n",
       "\n",
       "    .dataframe tbody tr th {\n",
       "        vertical-align: top;\n",
       "    }\n",
       "\n",
       "    .dataframe thead th {\n",
       "        text-align: right;\n",
       "    }\n",
       "</style>\n",
       "<table border=\"1\" class=\"dataframe\">\n",
       "  <thead>\n",
       "    <tr style=\"text-align: right;\">\n",
       "      <th></th>\n",
       "      <th>Bankrupt?</th>\n",
       "      <th>ROA(C) before interest and depreciation before interest</th>\n",
       "      <th>ROA(A) before interest and % after tax</th>\n",
       "      <th>ROA(B) before interest and depreciation after tax</th>\n",
       "      <th>Net Value Per Share (B)</th>\n",
       "      <th>Net Value Per Share (A)</th>\n",
       "      <th>Net Value Per Share (C)</th>\n",
       "      <th>Persistent EPS in the Last Four Seasons</th>\n",
       "      <th>Per Share Net profit before tax (Yuan ¥)</th>\n",
       "      <th>Debt ratio %</th>\n",
       "      <th>...</th>\n",
       "      <th>Net profit before tax/Paid-in capital</th>\n",
       "      <th>Working Capital to Total Assets</th>\n",
       "      <th>Current Liability to Assets</th>\n",
       "      <th>Current Liabilities/Equity</th>\n",
       "      <th>Retained Earnings to Total Assets</th>\n",
       "      <th>Current Liability to Equity</th>\n",
       "      <th>Current Liability to Current Assets</th>\n",
       "      <th>Net Income to Total Assets</th>\n",
       "      <th>Net Income to Stockholder's Equity</th>\n",
       "      <th>Liability to Equity</th>\n",
       "    </tr>\n",
       "  </thead>\n",
       "  <tbody>\n",
       "    <tr>\n",
       "      <th>0</th>\n",
       "      <td>1</td>\n",
       "      <td>0.387973</td>\n",
       "      <td>0.455122</td>\n",
       "      <td>0.442034</td>\n",
       "      <td>0.147950</td>\n",
       "      <td>0.147950</td>\n",
       "      <td>0.147950</td>\n",
       "      <td>0.178548</td>\n",
       "      <td>0.138736</td>\n",
       "      <td>0.207576</td>\n",
       "      <td>...</td>\n",
       "      <td>0.137757</td>\n",
       "      <td>0.672775</td>\n",
       "      <td>0.147308</td>\n",
       "      <td>0.338662</td>\n",
       "      <td>0.910524</td>\n",
       "      <td>0.338662</td>\n",
       "      <td>0.068886</td>\n",
       "      <td>0.752193</td>\n",
       "      <td>0.836752</td>\n",
       "      <td>0.288207</td>\n",
       "    </tr>\n",
       "    <tr>\n",
       "      <th>1</th>\n",
       "      <td>1</td>\n",
       "      <td>0.464291</td>\n",
       "      <td>0.538214</td>\n",
       "      <td>0.516730</td>\n",
       "      <td>0.182251</td>\n",
       "      <td>0.182251</td>\n",
       "      <td>0.182251</td>\n",
       "      <td>0.208944</td>\n",
       "      <td>0.169918</td>\n",
       "      <td>0.171176</td>\n",
       "      <td>...</td>\n",
       "      <td>0.168962</td>\n",
       "      <td>0.751111</td>\n",
       "      <td>0.056963</td>\n",
       "      <td>0.329740</td>\n",
       "      <td>0.931065</td>\n",
       "      <td>0.329740</td>\n",
       "      <td>0.047775</td>\n",
       "      <td>0.795297</td>\n",
       "      <td>0.839969</td>\n",
       "      <td>0.283846</td>\n",
       "    </tr>\n",
       "    <tr>\n",
       "      <th>2</th>\n",
       "      <td>1</td>\n",
       "      <td>0.426071</td>\n",
       "      <td>0.499019</td>\n",
       "      <td>0.472295</td>\n",
       "      <td>0.177911</td>\n",
       "      <td>0.177911</td>\n",
       "      <td>0.193713</td>\n",
       "      <td>0.180581</td>\n",
       "      <td>0.142803</td>\n",
       "      <td>0.207516</td>\n",
       "      <td>...</td>\n",
       "      <td>0.148036</td>\n",
       "      <td>0.829502</td>\n",
       "      <td>0.098162</td>\n",
       "      <td>0.334777</td>\n",
       "      <td>0.910524</td>\n",
       "      <td>0.334777</td>\n",
       "      <td>0.025346</td>\n",
       "      <td>0.774670</td>\n",
       "      <td>0.836774</td>\n",
       "      <td>0.288207</td>\n",
       "    </tr>\n",
       "    <tr>\n",
       "      <th>3</th>\n",
       "      <td>1</td>\n",
       "      <td>0.399844</td>\n",
       "      <td>0.455122</td>\n",
       "      <td>0.457733</td>\n",
       "      <td>0.154187</td>\n",
       "      <td>0.154187</td>\n",
       "      <td>0.154187</td>\n",
       "      <td>0.193722</td>\n",
       "      <td>0.148603</td>\n",
       "      <td>0.151465</td>\n",
       "      <td>...</td>\n",
       "      <td>0.147561</td>\n",
       "      <td>0.725754</td>\n",
       "      <td>0.098715</td>\n",
       "      <td>0.331509</td>\n",
       "      <td>0.910524</td>\n",
       "      <td>0.331509</td>\n",
       "      <td>0.067250</td>\n",
       "      <td>0.752193</td>\n",
       "      <td>0.836752</td>\n",
       "      <td>0.281721</td>\n",
       "    </tr>\n",
       "    <tr>\n",
       "      <th>4</th>\n",
       "      <td>1</td>\n",
       "      <td>0.465022</td>\n",
       "      <td>0.538432</td>\n",
       "      <td>0.522298</td>\n",
       "      <td>0.167502</td>\n",
       "      <td>0.167502</td>\n",
       "      <td>0.167502</td>\n",
       "      <td>0.212537</td>\n",
       "      <td>0.168412</td>\n",
       "      <td>0.106509</td>\n",
       "      <td>...</td>\n",
       "      <td>0.167461</td>\n",
       "      <td>0.751822</td>\n",
       "      <td>0.110195</td>\n",
       "      <td>0.330726</td>\n",
       "      <td>0.913850</td>\n",
       "      <td>0.330726</td>\n",
       "      <td>0.047725</td>\n",
       "      <td>0.795016</td>\n",
       "      <td>0.839973</td>\n",
       "      <td>0.278514</td>\n",
       "    </tr>\n",
       "  </tbody>\n",
       "</table>\n",
       "<p>5 rows × 22 columns</p>\n",
       "</div>"
      ],
      "text/plain": [
       "   Bankrupt?   ROA(C) before interest and depreciation before interest  \\\n",
       "0          1                                           0.387973          \n",
       "1          1                                           0.464291          \n",
       "2          1                                           0.426071          \n",
       "3          1                                           0.399844          \n",
       "4          1                                           0.465022          \n",
       "\n",
       "    ROA(A) before interest and % after tax  \\\n",
       "0                                 0.455122   \n",
       "1                                 0.538214   \n",
       "2                                 0.499019   \n",
       "3                                 0.455122   \n",
       "4                                 0.538432   \n",
       "\n",
       "    ROA(B) before interest and depreciation after tax  \\\n",
       "0                                           0.442034    \n",
       "1                                           0.516730    \n",
       "2                                           0.472295    \n",
       "3                                           0.457733    \n",
       "4                                           0.522298    \n",
       "\n",
       "    Net Value Per Share (B)   Net Value Per Share (A)  \\\n",
       "0                  0.147950                  0.147950   \n",
       "1                  0.182251                  0.182251   \n",
       "2                  0.177911                  0.177911   \n",
       "3                  0.154187                  0.154187   \n",
       "4                  0.167502                  0.167502   \n",
       "\n",
       "    Net Value Per Share (C)   Persistent EPS in the Last Four Seasons  \\\n",
       "0                  0.147950                                  0.178548   \n",
       "1                  0.182251                                  0.208944   \n",
       "2                  0.193713                                  0.180581   \n",
       "3                  0.154187                                  0.193722   \n",
       "4                  0.167502                                  0.212537   \n",
       "\n",
       "    Per Share Net profit before tax (Yuan ¥)   Debt ratio %  ...  \\\n",
       "0                                   0.138736       0.207576  ...   \n",
       "1                                   0.169918       0.171176  ...   \n",
       "2                                   0.142803       0.207516  ...   \n",
       "3                                   0.148603       0.151465  ...   \n",
       "4                                   0.168412       0.106509  ...   \n",
       "\n",
       "    Net profit before tax/Paid-in capital   Working Capital to Total Assets  \\\n",
       "0                                0.137757                          0.672775   \n",
       "1                                0.168962                          0.751111   \n",
       "2                                0.148036                          0.829502   \n",
       "3                                0.147561                          0.725754   \n",
       "4                                0.167461                          0.751822   \n",
       "\n",
       "    Current Liability to Assets   Current Liabilities/Equity  \\\n",
       "0                      0.147308                     0.338662   \n",
       "1                      0.056963                     0.329740   \n",
       "2                      0.098162                     0.334777   \n",
       "3                      0.098715                     0.331509   \n",
       "4                      0.110195                     0.330726   \n",
       "\n",
       "    Retained Earnings to Total Assets   Current Liability to Equity  \\\n",
       "0                            0.910524                      0.338662   \n",
       "1                            0.931065                      0.329740   \n",
       "2                            0.910524                      0.334777   \n",
       "3                            0.910524                      0.331509   \n",
       "4                            0.913850                      0.330726   \n",
       "\n",
       "    Current Liability to Current Assets   Net Income to Total Assets  \\\n",
       "0                              0.068886                     0.752193   \n",
       "1                              0.047775                     0.795297   \n",
       "2                              0.025346                     0.774670   \n",
       "3                              0.067250                     0.752193   \n",
       "4                              0.047725                     0.795016   \n",
       "\n",
       "    Net Income to Stockholder's Equity   Liability to Equity  \n",
       "0                             0.836752              0.288207  \n",
       "1                             0.839969              0.283846  \n",
       "2                             0.836774              0.288207  \n",
       "3                             0.836752              0.281721  \n",
       "4                             0.839973              0.278514  \n",
       "\n",
       "[5 rows x 22 columns]"
      ]
     },
     "execution_count": 8,
     "metadata": {},
     "output_type": "execute_result"
    }
   ],
   "source": [
    "X = scaled_df\n",
    "y = data['Bankrupt?']\n",
    "X_train, X_test, y_train, y_test = train_test_split(X, y, test_size=0.3, random_state=21)\n",
    "\n",
    "\n",
    "df.head()"
   ]
  },
  {
   "cell_type": "markdown",
   "metadata": {},
   "source": [
    "## Oversampling and Model Selection"
   ]
  },
  {
   "cell_type": "markdown",
   "metadata": {},
   "source": [
    "Using SMOTE to see if it is a better choice or not. "
   ]
  },
  {
   "cell_type": "code",
   "execution_count": 9,
   "metadata": {},
   "outputs": [],
   "source": [
    "from imblearn.over_sampling import SMOTE\n",
    "\n",
    "ada = SMOTE()\n",
    "X_train_res, y_train_res = ada.fit_resample(X_train, y_train)"
   ]
  },
  {
   "cell_type": "code",
   "execution_count": 10,
   "metadata": {},
   "outputs": [
    {
     "name": "stdout",
     "output_type": "stream",
     "text": [
      "Logistic Regression: Mean ROC AUC = 0.9325\n",
      "Decision Tree: Mean ROC AUC = 0.6245\n",
      "Random Forest: Mean ROC AUC = 0.9135\n",
      "Gradient Boosting: Mean ROC AUC = 0.9198\n",
      "Support Vector Machine: Mean ROC AUC = 0.8028\n",
      "Neural Network: Mean ROC AUC = 0.9175\n",
      "XGBoost: Mean ROC AUC = 0.9113\n",
      "AdaBoost: Mean ROC AUC = 0.9092\n"
     ]
    }
   ],
   "source": [
    "from sklearn.linear_model import LogisticRegression\n",
    "from sklearn.tree import DecisionTreeClassifier\n",
    "from sklearn.ensemble import RandomForestClassifier, GradientBoostingClassifier\n",
    "from sklearn.svm import SVC\n",
    "from xgboost import XGBClassifier\n",
    "from sklearn.ensemble import AdaBoostClassifier\n",
    "from sklearn.model_selection import cross_val_score\n",
    "from sklearn.neural_network import MLPClassifier\n",
    "from sklearn.metrics import accuracy_score, roc_auc_score, classification_report\n",
    "\n",
    "models = {\n",
    "    \"Logistic Regression\": LogisticRegression(max_iter=1000),\n",
    "    \"Decision Tree\": DecisionTreeClassifier(criterion='entropy'),\n",
    "    \"Random Forest\": RandomForestClassifier(),\n",
    "    \"Gradient Boosting\": GradientBoostingClassifier(),\n",
    "    \"Support Vector Machine\": SVC(probability=True),\n",
    "    \"Neural Network\": MLPClassifier(learning_rate='adaptive', max_iter=1000),\n",
    "    \"XGBoost\": XGBClassifier(),\n",
    "    \"AdaBoost\": AdaBoostClassifier()\n",
    "}\n",
    "\n",
    "results = {}\n",
    "for name, model in models.items():\n",
    "    cv_scores = cross_val_score(model, X_train, y_train, cv=5, scoring='roc_auc')\n",
    "    results[name] = cv_scores.mean()\n",
    "\n",
    "for model, score in results.items():\n",
    "    print(f\"{model}: Mean ROC AUC = {score:.4f}\")\n"
   ]
  },
  {
   "cell_type": "code",
   "execution_count": 11,
   "metadata": {},
   "outputs": [
    {
     "name": "stdout",
     "output_type": "stream",
     "text": [
      "Logistic Regression:\n",
      "               precision    recall  f1-score   support\n",
      "\n",
      "           0       0.98      0.99      0.98      1985\n",
      "           1       0.48      0.23      0.31        61\n",
      "\n",
      "    accuracy                           0.97      2046\n",
      "   macro avg       0.73      0.61      0.65      2046\n",
      "weighted avg       0.96      0.97      0.96      2046\n",
      "\n",
      "Decision Tree:\n",
      "               precision    recall  f1-score   support\n",
      "\n",
      "           0       0.98      0.98      0.98      1985\n",
      "           1       0.23      0.21      0.22        61\n",
      "\n",
      "    accuracy                           0.96      2046\n",
      "   macro avg       0.60      0.60      0.60      2046\n",
      "weighted avg       0.95      0.96      0.95      2046\n",
      "\n",
      "Random Forest:\n",
      "               precision    recall  f1-score   support\n",
      "\n",
      "           0       0.97      0.99      0.98      1985\n",
      "           1       0.33      0.10      0.15        61\n",
      "\n",
      "    accuracy                           0.97      2046\n",
      "   macro avg       0.65      0.55      0.57      2046\n",
      "weighted avg       0.95      0.97      0.96      2046\n",
      "\n",
      "Gradient Boosting:\n",
      "               precision    recall  f1-score   support\n",
      "\n",
      "           0       0.97      0.99      0.98      1985\n",
      "           1       0.29      0.15      0.20        61\n",
      "\n",
      "    accuracy                           0.96      2046\n",
      "   macro avg       0.63      0.57      0.59      2046\n",
      "weighted avg       0.95      0.96      0.96      2046\n",
      "\n",
      "Support Vector Machine:\n",
      "               precision    recall  f1-score   support\n",
      "\n",
      "           0       0.97      1.00      0.99      1985\n",
      "           1       0.75      0.05      0.09        61\n",
      "\n",
      "    accuracy                           0.97      2046\n",
      "   macro avg       0.86      0.52      0.54      2046\n",
      "weighted avg       0.96      0.97      0.96      2046\n",
      "\n",
      "Neural Network:\n",
      "               precision    recall  f1-score   support\n",
      "\n",
      "           0       0.97      1.00      0.98      1985\n",
      "           1       0.50      0.13      0.21        61\n",
      "\n",
      "    accuracy                           0.97      2046\n",
      "   macro avg       0.74      0.56      0.60      2046\n",
      "weighted avg       0.96      0.97      0.96      2046\n",
      "\n",
      "XGBoost:\n",
      "               precision    recall  f1-score   support\n",
      "\n",
      "           0       0.98      0.99      0.98      1985\n",
      "           1       0.50      0.23      0.31        61\n",
      "\n",
      "    accuracy                           0.97      2046\n",
      "   macro avg       0.74      0.61      0.65      2046\n",
      "weighted avg       0.96      0.97      0.96      2046\n",
      "\n",
      "AdaBoost:\n",
      "               precision    recall  f1-score   support\n",
      "\n",
      "           0       0.97      0.99      0.98      1985\n",
      "           1       0.35      0.15      0.21        61\n",
      "\n",
      "    accuracy                           0.97      2046\n",
      "   macro avg       0.66      0.57      0.59      2046\n",
      "weighted avg       0.96      0.97      0.96      2046\n",
      "\n"
     ]
    }
   ],
   "source": [
    "from sklearn.metrics import classification_report\n",
    "\n",
    "for name, model in models.items():\n",
    "    model.fit(X_train, y_train)\n",
    "    y_pred = model.predict(X_test)\n",
    "    print(f\"{name}:\\n\", classification_report(y_test, y_pred))"
   ]
  },
  {
   "cell_type": "code",
   "execution_count": 12,
   "metadata": {},
   "outputs": [],
   "source": [
    "from sklearn.model_selection import GridSearchCV\n",
    "from sklearn.model_selection import StratifiedKFold"
   ]
  },
  {
   "cell_type": "code",
   "execution_count": 13,
   "metadata": {},
   "outputs": [],
   "source": [
    "strat_kfold = StratifiedKFold(n_splits=8)"
   ]
  },
  {
   "cell_type": "markdown",
   "metadata": {},
   "source": [
    "## Neural Network Tuning"
   ]
  },
  {
   "cell_type": "markdown",
   "metadata": {},
   "source": [
    "#### Round 1 of Hyperparameter Tuning"
   ]
  },
  {
   "cell_type": "code",
   "execution_count": 13,
   "metadata": {},
   "outputs": [
    {
     "name": "stdout",
     "output_type": "stream",
     "text": [
      "Fitting 8 folds for each of 72 candidates, totalling 576 fits\n",
      "[CV] END activation=tanh, alpha=0.0001, hidden_layer_sizes=(22,), learning_rate=constant, solver=sgd; total time=   0.6s\n",
      "[CV] END activation=tanh, alpha=0.0001, hidden_layer_sizes=(22,), learning_rate=constant, solver=sgd; total time=   0.7s\n",
      "[CV] END activation=tanh, alpha=0.0001, hidden_layer_sizes=(22,), learning_rate=constant, solver=sgd; total time=   0.6s\n",
      "[CV] END activation=tanh, alpha=0.0001, hidden_layer_sizes=(22,), learning_rate=constant, solver=sgd; total time=   0.6s\n",
      "[CV] END activation=tanh, alpha=0.0001, hidden_layer_sizes=(22,), learning_rate=constant, solver=sgd; total time=   0.7s\n",
      "[CV] END activation=tanh, alpha=0.0001, hidden_layer_sizes=(22,), learning_rate=constant, solver=sgd; total time=   0.6s\n",
      "[CV] END activation=tanh, alpha=0.0001, hidden_layer_sizes=(22,), learning_rate=constant, solver=sgd; total time=   0.7s\n",
      "[CV] END activation=tanh, alpha=0.0001, hidden_layer_sizes=(22,), learning_rate=constant, solver=sgd; total time=   0.6s\n",
      "[CV] END activation=tanh, alpha=0.0001, hidden_layer_sizes=(22,), learning_rate=constant, solver=adam; total time=   0.5s\n"
     ]
    },
    {
     "name": "stderr",
     "output_type": "stream",
     "text": [
      "/Users/arvindtawker/miniconda3/lib/python3.10/site-packages/sklearn/neural_network/_multilayer_perceptron.py:691: ConvergenceWarning: Stochastic Optimizer: Maximum iterations (200) reached and the optimization hasn't converged yet.\n",
      "  warnings.warn(\n"
     ]
    },
    {
     "name": "stdout",
     "output_type": "stream",
     "text": [
      "[CV] END activation=tanh, alpha=0.0001, hidden_layer_sizes=(22,), learning_rate=constant, solver=adam; total time=   1.0s\n",
      "[CV] END activation=tanh, alpha=0.0001, hidden_layer_sizes=(22,), learning_rate=constant, solver=adam; total time=   0.9s\n",
      "[CV] END activation=tanh, alpha=0.0001, hidden_layer_sizes=(22,), learning_rate=constant, solver=adam; total time=   1.0s\n",
      "[CV] END activation=tanh, alpha=0.0001, hidden_layer_sizes=(22,), learning_rate=constant, solver=adam; total time=   0.6s\n",
      "[CV] END activation=tanh, alpha=0.0001, hidden_layer_sizes=(22,), learning_rate=constant, solver=adam; total time=   0.7s\n"
     ]
    },
    {
     "name": "stderr",
     "output_type": "stream",
     "text": [
      "/Users/arvindtawker/miniconda3/lib/python3.10/site-packages/sklearn/neural_network/_multilayer_perceptron.py:691: ConvergenceWarning: Stochastic Optimizer: Maximum iterations (200) reached and the optimization hasn't converged yet.\n",
      "  warnings.warn(\n"
     ]
    },
    {
     "name": "stdout",
     "output_type": "stream",
     "text": [
      "[CV] END activation=tanh, alpha=0.0001, hidden_layer_sizes=(22,), learning_rate=constant, solver=adam; total time=   0.9s\n"
     ]
    },
    {
     "name": "stderr",
     "output_type": "stream",
     "text": [
      "/Users/arvindtawker/miniconda3/lib/python3.10/site-packages/sklearn/neural_network/_multilayer_perceptron.py:691: ConvergenceWarning: Stochastic Optimizer: Maximum iterations (200) reached and the optimization hasn't converged yet.\n",
      "  warnings.warn(\n"
     ]
    },
    {
     "name": "stdout",
     "output_type": "stream",
     "text": [
      "[CV] END activation=tanh, alpha=0.0001, hidden_layer_sizes=(22,), learning_rate=constant, solver=adam; total time=   1.0s\n",
      "[CV] END activation=tanh, alpha=0.0001, hidden_layer_sizes=(22,), learning_rate=adaptive, solver=sgd; total time=   0.9s\n"
     ]
    },
    {
     "name": "stderr",
     "output_type": "stream",
     "text": [
      "/Users/arvindtawker/miniconda3/lib/python3.10/site-packages/sklearn/neural_network/_multilayer_perceptron.py:691: ConvergenceWarning: Stochastic Optimizer: Maximum iterations (200) reached and the optimization hasn't converged yet.\n",
      "  warnings.warn(\n"
     ]
    },
    {
     "name": "stdout",
     "output_type": "stream",
     "text": [
      "[CV] END activation=tanh, alpha=0.0001, hidden_layer_sizes=(22,), learning_rate=adaptive, solver=sgd; total time=   0.8s\n",
      "[CV] END activation=tanh, alpha=0.0001, hidden_layer_sizes=(22,), learning_rate=adaptive, solver=sgd; total time=   0.9s\n",
      "[CV] END activation=tanh, alpha=0.0001, hidden_layer_sizes=(22,), learning_rate=adaptive, solver=sgd; total time=   0.8s\n",
      "[CV] END activation=tanh, alpha=0.0001, hidden_layer_sizes=(22,), learning_rate=adaptive, solver=sgd; total time=   0.8s\n",
      "[CV] END activation=tanh, alpha=0.0001, hidden_layer_sizes=(22,), learning_rate=adaptive, solver=sgd; total time=   0.8s\n",
      "[CV] END activation=tanh, alpha=0.0001, hidden_layer_sizes=(22,), learning_rate=adaptive, solver=sgd; total time=   0.8s\n",
      "[CV] END activation=tanh, alpha=0.0001, hidden_layer_sizes=(22,), learning_rate=adaptive, solver=sgd; total time=   0.8s\n"
     ]
    },
    {
     "name": "stderr",
     "output_type": "stream",
     "text": [
      "/Users/arvindtawker/miniconda3/lib/python3.10/site-packages/sklearn/neural_network/_multilayer_perceptron.py:691: ConvergenceWarning: Stochastic Optimizer: Maximum iterations (200) reached and the optimization hasn't converged yet.\n",
      "  warnings.warn(\n"
     ]
    },
    {
     "name": "stdout",
     "output_type": "stream",
     "text": [
      "[CV] END activation=tanh, alpha=0.0001, hidden_layer_sizes=(22,), learning_rate=adaptive, solver=adam; total time=   1.0s\n",
      "[CV] END activation=tanh, alpha=0.0001, hidden_layer_sizes=(22,), learning_rate=adaptive, solver=adam; total time=   0.7s\n",
      "[CV] END activation=tanh, alpha=0.0001, hidden_layer_sizes=(22,), learning_rate=adaptive, solver=adam; total time=   0.5s\n",
      "[CV] END activation=tanh, alpha=0.0001, hidden_layer_sizes=(22,), learning_rate=adaptive, solver=adam; total time=   0.9s\n",
      "[CV] END activation=tanh, alpha=0.0001, hidden_layer_sizes=(22,), learning_rate=adaptive, solver=adam; total time=   0.6s\n",
      "[CV] END activation=tanh, alpha=0.0001, hidden_layer_sizes=(22,), learning_rate=adaptive, solver=adam; total time=   0.6s\n",
      "[CV] END activation=tanh, alpha=0.0001, hidden_layer_sizes=(22,), learning_rate=adaptive, solver=adam; total time=   0.7s\n"
     ]
    },
    {
     "name": "stderr",
     "output_type": "stream",
     "text": [
      "/Users/arvindtawker/miniconda3/lib/python3.10/site-packages/sklearn/neural_network/_multilayer_perceptron.py:691: ConvergenceWarning: Stochastic Optimizer: Maximum iterations (200) reached and the optimization hasn't converged yet.\n",
      "  warnings.warn(\n"
     ]
    },
    {
     "name": "stdout",
     "output_type": "stream",
     "text": [
      "[CV] END activation=tanh, alpha=0.0001, hidden_layer_sizes=(22,), learning_rate=adaptive, solver=adam; total time=   1.0s\n",
      "[CV] END activation=tanh, alpha=0.0001, hidden_layer_sizes=(50, 12), learning_rate=constant, solver=sgd; total time=   0.9s\n",
      "[CV] END activation=tanh, alpha=0.0001, hidden_layer_sizes=(50, 12), learning_rate=constant, solver=sgd; total time=   1.1s\n",
      "[CV] END activation=tanh, alpha=0.0001, hidden_layer_sizes=(50, 12), learning_rate=constant, solver=sgd; total time=   1.1s\n",
      "[CV] END activation=tanh, alpha=0.0001, hidden_layer_sizes=(50, 12), learning_rate=constant, solver=sgd; total time=   1.0s\n",
      "[CV] END activation=tanh, alpha=0.0001, hidden_layer_sizes=(50, 12), learning_rate=constant, solver=sgd; total time=   1.1s\n",
      "[CV] END activation=tanh, alpha=0.0001, hidden_layer_sizes=(50, 12), learning_rate=constant, solver=sgd; total time=   1.1s\n",
      "[CV] END activation=tanh, alpha=0.0001, hidden_layer_sizes=(50, 12), learning_rate=constant, solver=sgd; total time=   1.1s\n",
      "[CV] END activation=tanh, alpha=0.0001, hidden_layer_sizes=(50, 12), learning_rate=constant, solver=sgd; total time=   1.1s\n"
     ]
    },
    {
     "name": "stderr",
     "output_type": "stream",
     "text": [
      "/Users/arvindtawker/miniconda3/lib/python3.10/site-packages/sklearn/neural_network/_multilayer_perceptron.py:691: ConvergenceWarning: Stochastic Optimizer: Maximum iterations (200) reached and the optimization hasn't converged yet.\n",
      "  warnings.warn(\n"
     ]
    },
    {
     "name": "stdout",
     "output_type": "stream",
     "text": [
      "[CV] END activation=tanh, alpha=0.0001, hidden_layer_sizes=(50, 12), learning_rate=constant, solver=adam; total time=   1.9s\n"
     ]
    },
    {
     "name": "stderr",
     "output_type": "stream",
     "text": [
      "/Users/arvindtawker/miniconda3/lib/python3.10/site-packages/sklearn/neural_network/_multilayer_perceptron.py:691: ConvergenceWarning: Stochastic Optimizer: Maximum iterations (200) reached and the optimization hasn't converged yet.\n",
      "  warnings.warn(\n"
     ]
    },
    {
     "name": "stdout",
     "output_type": "stream",
     "text": [
      "[CV] END activation=tanh, alpha=0.0001, hidden_layer_sizes=(50, 12), learning_rate=constant, solver=adam; total time=   1.8s\n"
     ]
    },
    {
     "name": "stderr",
     "output_type": "stream",
     "text": [
      "/Users/arvindtawker/miniconda3/lib/python3.10/site-packages/sklearn/neural_network/_multilayer_perceptron.py:691: ConvergenceWarning: Stochastic Optimizer: Maximum iterations (200) reached and the optimization hasn't converged yet.\n",
      "  warnings.warn(\n"
     ]
    },
    {
     "name": "stdout",
     "output_type": "stream",
     "text": [
      "[CV] END activation=tanh, alpha=0.0001, hidden_layer_sizes=(50, 12), learning_rate=constant, solver=adam; total time=   2.0s\n",
      "[CV] END activation=tanh, alpha=0.0001, hidden_layer_sizes=(50, 12), learning_rate=constant, solver=adam; total time=   0.9s\n"
     ]
    },
    {
     "name": "stderr",
     "output_type": "stream",
     "text": [
      "/Users/arvindtawker/miniconda3/lib/python3.10/site-packages/sklearn/neural_network/_multilayer_perceptron.py:691: ConvergenceWarning: Stochastic Optimizer: Maximum iterations (200) reached and the optimization hasn't converged yet.\n",
      "  warnings.warn(\n"
     ]
    },
    {
     "name": "stdout",
     "output_type": "stream",
     "text": [
      "[CV] END activation=tanh, alpha=0.0001, hidden_layer_sizes=(50, 12), learning_rate=constant, solver=adam; total time=   1.8s\n"
     ]
    },
    {
     "name": "stderr",
     "output_type": "stream",
     "text": [
      "/Users/arvindtawker/miniconda3/lib/python3.10/site-packages/sklearn/neural_network/_multilayer_perceptron.py:691: ConvergenceWarning: Stochastic Optimizer: Maximum iterations (200) reached and the optimization hasn't converged yet.\n",
      "  warnings.warn(\n"
     ]
    },
    {
     "name": "stdout",
     "output_type": "stream",
     "text": [
      "[CV] END activation=tanh, alpha=0.0001, hidden_layer_sizes=(50, 12), learning_rate=constant, solver=adam; total time=   1.9s\n",
      "[CV] END activation=tanh, alpha=0.0001, hidden_layer_sizes=(50, 12), learning_rate=constant, solver=adam; total time=   1.0s\n",
      "[CV] END activation=tanh, alpha=0.0001, hidden_layer_sizes=(50, 12), learning_rate=constant, solver=adam; total time=   0.9s\n",
      "[CV] END activation=tanh, alpha=0.0001, hidden_layer_sizes=(50, 12), learning_rate=adaptive, solver=sgd; total time=   1.7s\n"
     ]
    },
    {
     "name": "stderr",
     "output_type": "stream",
     "text": [
      "/Users/arvindtawker/miniconda3/lib/python3.10/site-packages/sklearn/neural_network/_multilayer_perceptron.py:691: ConvergenceWarning: Stochastic Optimizer: Maximum iterations (200) reached and the optimization hasn't converged yet.\n",
      "  warnings.warn(\n"
     ]
    },
    {
     "name": "stdout",
     "output_type": "stream",
     "text": [
      "[CV] END activation=tanh, alpha=0.0001, hidden_layer_sizes=(50, 12), learning_rate=adaptive, solver=sgd; total time=   1.7s\n",
      "[CV] END activation=tanh, alpha=0.0001, hidden_layer_sizes=(50, 12), learning_rate=adaptive, solver=sgd; total time=   1.6s\n",
      "[CV] END activation=tanh, alpha=0.0001, hidden_layer_sizes=(50, 12), learning_rate=adaptive, solver=sgd; total time=   2.0s\n",
      "[CV] END activation=tanh, alpha=0.0001, hidden_layer_sizes=(50, 12), learning_rate=adaptive, solver=sgd; total time=   1.3s\n",
      "[CV] END activation=tanh, alpha=0.0001, hidden_layer_sizes=(50, 12), learning_rate=adaptive, solver=sgd; total time=   1.6s\n",
      "[CV] END activation=tanh, alpha=0.0001, hidden_layer_sizes=(50, 12), learning_rate=adaptive, solver=sgd; total time=   1.5s\n",
      "[CV] END activation=tanh, alpha=0.0001, hidden_layer_sizes=(50, 12), learning_rate=adaptive, solver=sgd; total time=   1.6s\n"
     ]
    },
    {
     "name": "stderr",
     "output_type": "stream",
     "text": [
      "/Users/arvindtawker/miniconda3/lib/python3.10/site-packages/sklearn/neural_network/_multilayer_perceptron.py:691: ConvergenceWarning: Stochastic Optimizer: Maximum iterations (200) reached and the optimization hasn't converged yet.\n",
      "  warnings.warn(\n"
     ]
    },
    {
     "name": "stdout",
     "output_type": "stream",
     "text": [
      "[CV] END activation=tanh, alpha=0.0001, hidden_layer_sizes=(50, 12), learning_rate=adaptive, solver=adam; total time=   1.8s\n",
      "[CV] END activation=tanh, alpha=0.0001, hidden_layer_sizes=(50, 12), learning_rate=adaptive, solver=adam; total time=   1.5s\n",
      "[CV] END activation=tanh, alpha=0.0001, hidden_layer_sizes=(50, 12), learning_rate=adaptive, solver=adam; total time=   0.7s\n",
      "[CV] END activation=tanh, alpha=0.0001, hidden_layer_sizes=(50, 12), learning_rate=adaptive, solver=adam; total time=   1.2s\n"
     ]
    },
    {
     "name": "stderr",
     "output_type": "stream",
     "text": [
      "/Users/arvindtawker/miniconda3/lib/python3.10/site-packages/sklearn/neural_network/_multilayer_perceptron.py:691: ConvergenceWarning: Stochastic Optimizer: Maximum iterations (200) reached and the optimization hasn't converged yet.\n",
      "  warnings.warn(\n"
     ]
    },
    {
     "name": "stdout",
     "output_type": "stream",
     "text": [
      "[CV] END activation=tanh, alpha=0.0001, hidden_layer_sizes=(50, 12), learning_rate=adaptive, solver=adam; total time=   1.8s\n",
      "[CV] END activation=tanh, alpha=0.0001, hidden_layer_sizes=(50, 12), learning_rate=adaptive, solver=adam; total time=   1.0s\n",
      "[CV] END activation=tanh, alpha=0.0001, hidden_layer_sizes=(50, 12), learning_rate=adaptive, solver=adam; total time=   1.4s\n"
     ]
    },
    {
     "name": "stderr",
     "output_type": "stream",
     "text": [
      "/Users/arvindtawker/miniconda3/lib/python3.10/site-packages/sklearn/neural_network/_multilayer_perceptron.py:691: ConvergenceWarning: Stochastic Optimizer: Maximum iterations (200) reached and the optimization hasn't converged yet.\n",
      "  warnings.warn(\n"
     ]
    },
    {
     "name": "stdout",
     "output_type": "stream",
     "text": [
      "[CV] END activation=tanh, alpha=0.0001, hidden_layer_sizes=(50, 12), learning_rate=adaptive, solver=adam; total time=   2.0s\n",
      "[CV] END activation=tanh, alpha=0.0001, hidden_layer_sizes=(100, 50, 25), learning_rate=constant, solver=sgd; total time=   5.9s\n",
      "[CV] END activation=tanh, alpha=0.0001, hidden_layer_sizes=(100, 50, 25), learning_rate=constant, solver=sgd; total time=   6.6s\n",
      "[CV] END activation=tanh, alpha=0.0001, hidden_layer_sizes=(100, 50, 25), learning_rate=constant, solver=sgd; total time=   7.3s\n",
      "[CV] END activation=tanh, alpha=0.0001, hidden_layer_sizes=(100, 50, 25), learning_rate=constant, solver=sgd; total time=   4.6s\n",
      "[CV] END activation=tanh, alpha=0.0001, hidden_layer_sizes=(100, 50, 25), learning_rate=constant, solver=sgd; total time=   5.8s\n",
      "[CV] END activation=tanh, alpha=0.0001, hidden_layer_sizes=(100, 50, 25), learning_rate=constant, solver=sgd; total time=   5.9s\n",
      "[CV] END activation=tanh, alpha=0.0001, hidden_layer_sizes=(100, 50, 25), learning_rate=constant, solver=sgd; total time=   5.0s\n",
      "[CV] END activation=tanh, alpha=0.0001, hidden_layer_sizes=(100, 50, 25), learning_rate=constant, solver=sgd; total time=   5.8s\n",
      "[CV] END activation=tanh, alpha=0.0001, hidden_layer_sizes=(100, 50, 25), learning_rate=constant, solver=adam; total time=   3.5s\n"
     ]
    },
    {
     "name": "stderr",
     "output_type": "stream",
     "text": [
      "/Users/arvindtawker/miniconda3/lib/python3.10/site-packages/sklearn/neural_network/_multilayer_perceptron.py:691: ConvergenceWarning: Stochastic Optimizer: Maximum iterations (200) reached and the optimization hasn't converged yet.\n",
      "  warnings.warn(\n"
     ]
    },
    {
     "name": "stdout",
     "output_type": "stream",
     "text": [
      "[CV] END activation=tanh, alpha=0.0001, hidden_layer_sizes=(100, 50, 25), learning_rate=constant, solver=adam; total time=  11.6s\n"
     ]
    },
    {
     "name": "stderr",
     "output_type": "stream",
     "text": [
      "/Users/arvindtawker/miniconda3/lib/python3.10/site-packages/sklearn/neural_network/_multilayer_perceptron.py:691: ConvergenceWarning: Stochastic Optimizer: Maximum iterations (200) reached and the optimization hasn't converged yet.\n",
      "  warnings.warn(\n"
     ]
    },
    {
     "name": "stdout",
     "output_type": "stream",
     "text": [
      "[CV] END activation=tanh, alpha=0.0001, hidden_layer_sizes=(100, 50, 25), learning_rate=constant, solver=adam; total time=  11.7s\n"
     ]
    },
    {
     "name": "stderr",
     "output_type": "stream",
     "text": [
      "/Users/arvindtawker/miniconda3/lib/python3.10/site-packages/sklearn/neural_network/_multilayer_perceptron.py:691: ConvergenceWarning: Stochastic Optimizer: Maximum iterations (200) reached and the optimization hasn't converged yet.\n",
      "  warnings.warn(\n"
     ]
    },
    {
     "name": "stdout",
     "output_type": "stream",
     "text": [
      "[CV] END activation=tanh, alpha=0.0001, hidden_layer_sizes=(100, 50, 25), learning_rate=constant, solver=adam; total time=  10.7s\n",
      "[CV] END activation=tanh, alpha=0.0001, hidden_layer_sizes=(100, 50, 25), learning_rate=constant, solver=adam; total time=   3.4s\n"
     ]
    },
    {
     "name": "stderr",
     "output_type": "stream",
     "text": [
      "/Users/arvindtawker/miniconda3/lib/python3.10/site-packages/sklearn/neural_network/_multilayer_perceptron.py:691: ConvergenceWarning: Stochastic Optimizer: Maximum iterations (200) reached and the optimization hasn't converged yet.\n",
      "  warnings.warn(\n"
     ]
    },
    {
     "name": "stdout",
     "output_type": "stream",
     "text": [
      "[CV] END activation=tanh, alpha=0.0001, hidden_layer_sizes=(100, 50, 25), learning_rate=constant, solver=adam; total time=  11.1s\n"
     ]
    },
    {
     "name": "stderr",
     "output_type": "stream",
     "text": [
      "/Users/arvindtawker/miniconda3/lib/python3.10/site-packages/sklearn/neural_network/_multilayer_perceptron.py:691: ConvergenceWarning: Stochastic Optimizer: Maximum iterations (200) reached and the optimization hasn't converged yet.\n",
      "  warnings.warn(\n"
     ]
    },
    {
     "name": "stdout",
     "output_type": "stream",
     "text": [
      "[CV] END activation=tanh, alpha=0.0001, hidden_layer_sizes=(100, 50, 25), learning_rate=constant, solver=adam; total time=  11.3s\n"
     ]
    },
    {
     "name": "stderr",
     "output_type": "stream",
     "text": [
      "/Users/arvindtawker/miniconda3/lib/python3.10/site-packages/sklearn/neural_network/_multilayer_perceptron.py:691: ConvergenceWarning: Stochastic Optimizer: Maximum iterations (200) reached and the optimization hasn't converged yet.\n",
      "  warnings.warn(\n"
     ]
    },
    {
     "name": "stdout",
     "output_type": "stream",
     "text": [
      "[CV] END activation=tanh, alpha=0.0001, hidden_layer_sizes=(100, 50, 25), learning_rate=constant, solver=adam; total time=  11.3s\n",
      "[CV] END activation=tanh, alpha=0.0001, hidden_layer_sizes=(100, 50, 25), learning_rate=adaptive, solver=sgd; total time=   8.7s\n",
      "[CV] END activation=tanh, alpha=0.0001, hidden_layer_sizes=(100, 50, 25), learning_rate=adaptive, solver=sgd; total time=  11.2s\n",
      "[CV] END activation=tanh, alpha=0.0001, hidden_layer_sizes=(100, 50, 25), learning_rate=adaptive, solver=sgd; total time=  12.0s\n",
      "[CV] END activation=tanh, alpha=0.0001, hidden_layer_sizes=(100, 50, 25), learning_rate=adaptive, solver=sgd; total time=  15.7s\n",
      "[CV] END activation=tanh, alpha=0.0001, hidden_layer_sizes=(100, 50, 25), learning_rate=adaptive, solver=sgd; total time=  11.6s\n",
      "[CV] END activation=tanh, alpha=0.0001, hidden_layer_sizes=(100, 50, 25), learning_rate=adaptive, solver=sgd; total time=   6.2s\n",
      "[CV] END activation=tanh, alpha=0.0001, hidden_layer_sizes=(100, 50, 25), learning_rate=adaptive, solver=sgd; total time=   9.4s\n",
      "[CV] END activation=tanh, alpha=0.0001, hidden_layer_sizes=(100, 50, 25), learning_rate=adaptive, solver=sgd; total time=   7.7s\n"
     ]
    },
    {
     "name": "stderr",
     "output_type": "stream",
     "text": [
      "/Users/arvindtawker/miniconda3/lib/python3.10/site-packages/sklearn/neural_network/_multilayer_perceptron.py:691: ConvergenceWarning: Stochastic Optimizer: Maximum iterations (200) reached and the optimization hasn't converged yet.\n",
      "  warnings.warn(\n"
     ]
    },
    {
     "name": "stdout",
     "output_type": "stream",
     "text": [
      "[CV] END activation=tanh, alpha=0.0001, hidden_layer_sizes=(100, 50, 25), learning_rate=adaptive, solver=adam; total time=   9.5s\n",
      "[CV] END activation=tanh, alpha=0.0001, hidden_layer_sizes=(100, 50, 25), learning_rate=adaptive, solver=adam; total time=   1.7s\n"
     ]
    },
    {
     "name": "stderr",
     "output_type": "stream",
     "text": [
      "/Users/arvindtawker/miniconda3/lib/python3.10/site-packages/sklearn/neural_network/_multilayer_perceptron.py:691: ConvergenceWarning: Stochastic Optimizer: Maximum iterations (200) reached and the optimization hasn't converged yet.\n",
      "  warnings.warn(\n"
     ]
    },
    {
     "name": "stdout",
     "output_type": "stream",
     "text": [
      "[CV] END activation=tanh, alpha=0.0001, hidden_layer_sizes=(100, 50, 25), learning_rate=adaptive, solver=adam; total time=   9.7s\n"
     ]
    },
    {
     "name": "stderr",
     "output_type": "stream",
     "text": [
      "/Users/arvindtawker/miniconda3/lib/python3.10/site-packages/sklearn/neural_network/_multilayer_perceptron.py:691: ConvergenceWarning: Stochastic Optimizer: Maximum iterations (200) reached and the optimization hasn't converged yet.\n",
      "  warnings.warn(\n"
     ]
    },
    {
     "name": "stdout",
     "output_type": "stream",
     "text": [
      "[CV] END activation=tanh, alpha=0.0001, hidden_layer_sizes=(100, 50, 25), learning_rate=adaptive, solver=adam; total time=  12.0s\n"
     ]
    },
    {
     "name": "stderr",
     "output_type": "stream",
     "text": [
      "/Users/arvindtawker/miniconda3/lib/python3.10/site-packages/sklearn/neural_network/_multilayer_perceptron.py:691: ConvergenceWarning: Stochastic Optimizer: Maximum iterations (200) reached and the optimization hasn't converged yet.\n",
      "  warnings.warn(\n"
     ]
    },
    {
     "name": "stdout",
     "output_type": "stream",
     "text": [
      "[CV] END activation=tanh, alpha=0.0001, hidden_layer_sizes=(100, 50, 25), learning_rate=adaptive, solver=adam; total time=  11.6s\n"
     ]
    },
    {
     "name": "stderr",
     "output_type": "stream",
     "text": [
      "/Users/arvindtawker/miniconda3/lib/python3.10/site-packages/sklearn/neural_network/_multilayer_perceptron.py:691: ConvergenceWarning: Stochastic Optimizer: Maximum iterations (200) reached and the optimization hasn't converged yet.\n",
      "  warnings.warn(\n"
     ]
    },
    {
     "name": "stdout",
     "output_type": "stream",
     "text": [
      "[CV] END activation=tanh, alpha=0.0001, hidden_layer_sizes=(100, 50, 25), learning_rate=adaptive, solver=adam; total time=  11.6s\n"
     ]
    },
    {
     "name": "stderr",
     "output_type": "stream",
     "text": [
      "/Users/arvindtawker/miniconda3/lib/python3.10/site-packages/sklearn/neural_network/_multilayer_perceptron.py:691: ConvergenceWarning: Stochastic Optimizer: Maximum iterations (200) reached and the optimization hasn't converged yet.\n",
      "  warnings.warn(\n"
     ]
    },
    {
     "name": "stdout",
     "output_type": "stream",
     "text": [
      "[CV] END activation=tanh, alpha=0.0001, hidden_layer_sizes=(100, 50, 25), learning_rate=adaptive, solver=adam; total time=  11.8s\n"
     ]
    },
    {
     "name": "stderr",
     "output_type": "stream",
     "text": [
      "/Users/arvindtawker/miniconda3/lib/python3.10/site-packages/sklearn/neural_network/_multilayer_perceptron.py:691: ConvergenceWarning: Stochastic Optimizer: Maximum iterations (200) reached and the optimization hasn't converged yet.\n",
      "  warnings.warn(\n"
     ]
    },
    {
     "name": "stdout",
     "output_type": "stream",
     "text": [
      "[CV] END activation=tanh, alpha=0.0001, hidden_layer_sizes=(100, 50, 25), learning_rate=adaptive, solver=adam; total time=   9.5s\n",
      "[CV] END activation=tanh, alpha=0.05, hidden_layer_sizes=(22,), learning_rate=constant, solver=sgd; total time=   0.6s\n",
      "[CV] END activation=tanh, alpha=0.05, hidden_layer_sizes=(22,), learning_rate=constant, solver=sgd; total time=   0.6s\n",
      "[CV] END activation=tanh, alpha=0.05, hidden_layer_sizes=(22,), learning_rate=constant, solver=sgd; total time=   0.7s\n",
      "[CV] END activation=tanh, alpha=0.05, hidden_layer_sizes=(22,), learning_rate=constant, solver=sgd; total time=   0.6s\n",
      "[CV] END activation=tanh, alpha=0.05, hidden_layer_sizes=(22,), learning_rate=constant, solver=sgd; total time=   0.6s\n",
      "[CV] END activation=tanh, alpha=0.05, hidden_layer_sizes=(22,), learning_rate=constant, solver=sgd; total time=   0.6s\n",
      "[CV] END activation=tanh, alpha=0.05, hidden_layer_sizes=(22,), learning_rate=constant, solver=sgd; total time=   0.6s\n",
      "[CV] END activation=tanh, alpha=0.05, hidden_layer_sizes=(22,), learning_rate=constant, solver=sgd; total time=   0.6s\n",
      "[CV] END activation=tanh, alpha=0.05, hidden_layer_sizes=(22,), learning_rate=constant, solver=adam; total time=   0.6s\n",
      "[CV] END activation=tanh, alpha=0.05, hidden_layer_sizes=(22,), learning_rate=constant, solver=adam; total time=   0.6s\n",
      "[CV] END activation=tanh, alpha=0.05, hidden_layer_sizes=(22,), learning_rate=constant, solver=adam; total time=   0.6s\n",
      "[CV] END activation=tanh, alpha=0.05, hidden_layer_sizes=(22,), learning_rate=constant, solver=adam; total time=   0.6s\n",
      "[CV] END activation=tanh, alpha=0.05, hidden_layer_sizes=(22,), learning_rate=constant, solver=adam; total time=   0.6s\n",
      "[CV] END activation=tanh, alpha=0.05, hidden_layer_sizes=(22,), learning_rate=constant, solver=adam; total time=   0.5s\n",
      "[CV] END activation=tanh, alpha=0.05, hidden_layer_sizes=(22,), learning_rate=constant, solver=adam; total time=   0.6s\n",
      "[CV] END activation=tanh, alpha=0.05, hidden_layer_sizes=(22,), learning_rate=constant, solver=adam; total time=   0.6s\n",
      "[CV] END activation=tanh, alpha=0.05, hidden_layer_sizes=(22,), learning_rate=adaptive, solver=sgd; total time=   0.8s\n",
      "[CV] END activation=tanh, alpha=0.05, hidden_layer_sizes=(22,), learning_rate=adaptive, solver=sgd; total time=   0.8s\n"
     ]
    },
    {
     "name": "stderr",
     "output_type": "stream",
     "text": [
      "/Users/arvindtawker/miniconda3/lib/python3.10/site-packages/sklearn/neural_network/_multilayer_perceptron.py:691: ConvergenceWarning: Stochastic Optimizer: Maximum iterations (200) reached and the optimization hasn't converged yet.\n",
      "  warnings.warn(\n"
     ]
    },
    {
     "name": "stdout",
     "output_type": "stream",
     "text": [
      "[CV] END activation=tanh, alpha=0.05, hidden_layer_sizes=(22,), learning_rate=adaptive, solver=sgd; total time=   0.8s\n"
     ]
    },
    {
     "name": "stderr",
     "output_type": "stream",
     "text": [
      "/Users/arvindtawker/miniconda3/lib/python3.10/site-packages/sklearn/neural_network/_multilayer_perceptron.py:691: ConvergenceWarning: Stochastic Optimizer: Maximum iterations (200) reached and the optimization hasn't converged yet.\n",
      "  warnings.warn(\n"
     ]
    },
    {
     "name": "stdout",
     "output_type": "stream",
     "text": [
      "[CV] END activation=tanh, alpha=0.05, hidden_layer_sizes=(22,), learning_rate=adaptive, solver=sgd; total time=   0.8s\n",
      "[CV] END activation=tanh, alpha=0.05, hidden_layer_sizes=(22,), learning_rate=adaptive, solver=sgd; total time=   0.8s\n",
      "[CV] END activation=tanh, alpha=0.05, hidden_layer_sizes=(22,), learning_rate=adaptive, solver=sgd; total time=   0.7s\n",
      "[CV] END activation=tanh, alpha=0.05, hidden_layer_sizes=(22,), learning_rate=adaptive, solver=sgd; total time=   0.8s\n",
      "[CV] END activation=tanh, alpha=0.05, hidden_layer_sizes=(22,), learning_rate=adaptive, solver=sgd; total time=   0.8s\n",
      "[CV] END activation=tanh, alpha=0.05, hidden_layer_sizes=(22,), learning_rate=adaptive, solver=adam; total time=   0.5s\n",
      "[CV] END activation=tanh, alpha=0.05, hidden_layer_sizes=(22,), learning_rate=adaptive, solver=adam; total time=   0.8s\n",
      "[CV] END activation=tanh, alpha=0.05, hidden_layer_sizes=(22,), learning_rate=adaptive, solver=adam; total time=   0.6s\n",
      "[CV] END activation=tanh, alpha=0.05, hidden_layer_sizes=(22,), learning_rate=adaptive, solver=adam; total time=   0.6s\n",
      "[CV] END activation=tanh, alpha=0.05, hidden_layer_sizes=(22,), learning_rate=adaptive, solver=adam; total time=   0.7s\n",
      "[CV] END activation=tanh, alpha=0.05, hidden_layer_sizes=(22,), learning_rate=adaptive, solver=adam; total time=   0.6s\n",
      "[CV] END activation=tanh, alpha=0.05, hidden_layer_sizes=(22,), learning_rate=adaptive, solver=adam; total time=   0.5s\n",
      "[CV] END activation=tanh, alpha=0.05, hidden_layer_sizes=(22,), learning_rate=adaptive, solver=adam; total time=   0.7s\n",
      "[CV] END activation=tanh, alpha=0.05, hidden_layer_sizes=(50, 12), learning_rate=constant, solver=sgd; total time=   0.9s\n",
      "[CV] END activation=tanh, alpha=0.05, hidden_layer_sizes=(50, 12), learning_rate=constant, solver=sgd; total time=   0.9s\n",
      "[CV] END activation=tanh, alpha=0.05, hidden_layer_sizes=(50, 12), learning_rate=constant, solver=sgd; total time=   1.1s\n",
      "[CV] END activation=tanh, alpha=0.05, hidden_layer_sizes=(50, 12), learning_rate=constant, solver=sgd; total time=   0.8s\n",
      "[CV] END activation=tanh, alpha=0.05, hidden_layer_sizes=(50, 12), learning_rate=constant, solver=sgd; total time=   1.1s\n",
      "[CV] END activation=tanh, alpha=0.05, hidden_layer_sizes=(50, 12), learning_rate=constant, solver=sgd; total time=   0.9s\n",
      "[CV] END activation=tanh, alpha=0.05, hidden_layer_sizes=(50, 12), learning_rate=constant, solver=sgd; total time=   0.9s\n",
      "[CV] END activation=tanh, alpha=0.05, hidden_layer_sizes=(50, 12), learning_rate=constant, solver=sgd; total time=   1.0s\n",
      "[CV] END activation=tanh, alpha=0.05, hidden_layer_sizes=(50, 12), learning_rate=constant, solver=adam; total time=   1.3s\n",
      "[CV] END activation=tanh, alpha=0.05, hidden_layer_sizes=(50, 12), learning_rate=constant, solver=adam; total time=   2.2s\n",
      "[CV] END activation=tanh, alpha=0.05, hidden_layer_sizes=(50, 12), learning_rate=constant, solver=adam; total time=   1.5s\n",
      "[CV] END activation=tanh, alpha=0.05, hidden_layer_sizes=(50, 12), learning_rate=constant, solver=adam; total time=   1.5s\n",
      "[CV] END activation=tanh, alpha=0.05, hidden_layer_sizes=(50, 12), learning_rate=constant, solver=adam; total time=   0.7s\n",
      "[CV] END activation=tanh, alpha=0.05, hidden_layer_sizes=(50, 12), learning_rate=constant, solver=adam; total time=   1.9s\n",
      "[CV] END activation=tanh, alpha=0.05, hidden_layer_sizes=(50, 12), learning_rate=constant, solver=adam; total time=   1.0s\n",
      "[CV] END activation=tanh, alpha=0.05, hidden_layer_sizes=(50, 12), learning_rate=constant, solver=adam; total time=   1.3s\n",
      "[CV] END activation=tanh, alpha=0.05, hidden_layer_sizes=(50, 12), learning_rate=adaptive, solver=sgd; total time=   1.3s\n",
      "[CV] END activation=tanh, alpha=0.05, hidden_layer_sizes=(50, 12), learning_rate=adaptive, solver=sgd; total time=   1.4s\n",
      "[CV] END activation=tanh, alpha=0.05, hidden_layer_sizes=(50, 12), learning_rate=adaptive, solver=sgd; total time=   1.3s\n",
      "[CV] END activation=tanh, alpha=0.05, hidden_layer_sizes=(50, 12), learning_rate=adaptive, solver=sgd; total time=   1.2s\n",
      "[CV] END activation=tanh, alpha=0.05, hidden_layer_sizes=(50, 12), learning_rate=adaptive, solver=sgd; total time=   1.3s\n",
      "[CV] END activation=tanh, alpha=0.05, hidden_layer_sizes=(50, 12), learning_rate=adaptive, solver=sgd; total time=   1.2s\n",
      "[CV] END activation=tanh, alpha=0.05, hidden_layer_sizes=(50, 12), learning_rate=adaptive, solver=sgd; total time=   1.4s\n",
      "[CV] END activation=tanh, alpha=0.05, hidden_layer_sizes=(50, 12), learning_rate=adaptive, solver=sgd; total time=   1.3s\n",
      "[CV] END activation=tanh, alpha=0.05, hidden_layer_sizes=(50, 12), learning_rate=adaptive, solver=adam; total time=   2.1s\n",
      "[CV] END activation=tanh, alpha=0.05, hidden_layer_sizes=(50, 12), learning_rate=adaptive, solver=adam; total time=   1.1s\n",
      "[CV] END activation=tanh, alpha=0.05, hidden_layer_sizes=(50, 12), learning_rate=adaptive, solver=adam; total time=   0.7s\n",
      "[CV] END activation=tanh, alpha=0.05, hidden_layer_sizes=(50, 12), learning_rate=adaptive, solver=adam; total time=   1.0s\n",
      "[CV] END activation=tanh, alpha=0.05, hidden_layer_sizes=(50, 12), learning_rate=adaptive, solver=adam; total time=   1.3s\n",
      "[CV] END activation=tanh, alpha=0.05, hidden_layer_sizes=(50, 12), learning_rate=adaptive, solver=adam; total time=   1.2s\n",
      "[CV] END activation=tanh, alpha=0.05, hidden_layer_sizes=(50, 12), learning_rate=adaptive, solver=adam; total time=   1.1s\n",
      "[CV] END activation=tanh, alpha=0.05, hidden_layer_sizes=(50, 12), learning_rate=adaptive, solver=adam; total time=   0.6s\n",
      "[CV] END activation=tanh, alpha=0.05, hidden_layer_sizes=(100, 50, 25), learning_rate=constant, solver=sgd; total time=   3.9s\n",
      "[CV] END activation=tanh, alpha=0.05, hidden_layer_sizes=(100, 50, 25), learning_rate=constant, solver=sgd; total time=   3.8s\n",
      "[CV] END activation=tanh, alpha=0.05, hidden_layer_sizes=(100, 50, 25), learning_rate=constant, solver=sgd; total time=   4.9s\n",
      "[CV] END activation=tanh, alpha=0.05, hidden_layer_sizes=(100, 50, 25), learning_rate=constant, solver=sgd; total time=   3.2s\n",
      "[CV] END activation=tanh, alpha=0.05, hidden_layer_sizes=(100, 50, 25), learning_rate=constant, solver=sgd; total time=   4.2s\n",
      "[CV] END activation=tanh, alpha=0.05, hidden_layer_sizes=(100, 50, 25), learning_rate=constant, solver=sgd; total time=   5.1s\n",
      "[CV] END activation=tanh, alpha=0.05, hidden_layer_sizes=(100, 50, 25), learning_rate=constant, solver=sgd; total time=   6.0s\n",
      "[CV] END activation=tanh, alpha=0.05, hidden_layer_sizes=(100, 50, 25), learning_rate=constant, solver=sgd; total time=   4.7s\n",
      "[CV] END activation=tanh, alpha=0.05, hidden_layer_sizes=(100, 50, 25), learning_rate=constant, solver=adam; total time=  10.1s\n"
     ]
    },
    {
     "name": "stderr",
     "output_type": "stream",
     "text": [
      "/Users/arvindtawker/miniconda3/lib/python3.10/site-packages/sklearn/neural_network/_multilayer_perceptron.py:691: ConvergenceWarning: Stochastic Optimizer: Maximum iterations (200) reached and the optimization hasn't converged yet.\n",
      "  warnings.warn(\n"
     ]
    },
    {
     "name": "stdout",
     "output_type": "stream",
     "text": [
      "[CV] END activation=tanh, alpha=0.05, hidden_layer_sizes=(100, 50, 25), learning_rate=constant, solver=adam; total time=  11.5s\n",
      "[CV] END activation=tanh, alpha=0.05, hidden_layer_sizes=(100, 50, 25), learning_rate=constant, solver=adam; total time=   9.8s\n",
      "[CV] END activation=tanh, alpha=0.05, hidden_layer_sizes=(100, 50, 25), learning_rate=constant, solver=adam; total time=   4.8s\n",
      "[CV] END activation=tanh, alpha=0.05, hidden_layer_sizes=(100, 50, 25), learning_rate=constant, solver=adam; total time=   4.3s\n",
      "[CV] END activation=tanh, alpha=0.05, hidden_layer_sizes=(100, 50, 25), learning_rate=constant, solver=adam; total time=   5.9s\n",
      "[CV] END activation=tanh, alpha=0.05, hidden_layer_sizes=(100, 50, 25), learning_rate=constant, solver=adam; total time=   8.1s\n",
      "[CV] END activation=tanh, alpha=0.05, hidden_layer_sizes=(100, 50, 25), learning_rate=constant, solver=adam; total time=   4.0s\n",
      "[CV] END activation=tanh, alpha=0.05, hidden_layer_sizes=(100, 50, 25), learning_rate=adaptive, solver=sgd; total time=   8.9s\n",
      "[CV] END activation=tanh, alpha=0.05, hidden_layer_sizes=(100, 50, 25), learning_rate=adaptive, solver=sgd; total time=   8.0s\n",
      "[CV] END activation=tanh, alpha=0.05, hidden_layer_sizes=(100, 50, 25), learning_rate=adaptive, solver=sgd; total time=   7.9s\n",
      "[CV] END activation=tanh, alpha=0.05, hidden_layer_sizes=(100, 50, 25), learning_rate=adaptive, solver=sgd; total time=   6.9s\n",
      "[CV] END activation=tanh, alpha=0.05, hidden_layer_sizes=(100, 50, 25), learning_rate=adaptive, solver=sgd; total time=   6.1s\n",
      "[CV] END activation=tanh, alpha=0.05, hidden_layer_sizes=(100, 50, 25), learning_rate=adaptive, solver=sgd; total time=   6.5s\n",
      "[CV] END activation=tanh, alpha=0.05, hidden_layer_sizes=(100, 50, 25), learning_rate=adaptive, solver=sgd; total time=   8.1s\n",
      "[CV] END activation=tanh, alpha=0.05, hidden_layer_sizes=(100, 50, 25), learning_rate=adaptive, solver=sgd; total time=   9.2s\n",
      "[CV] END activation=tanh, alpha=0.05, hidden_layer_sizes=(100, 50, 25), learning_rate=adaptive, solver=adam; total time=   2.6s\n",
      "[CV] END activation=tanh, alpha=0.05, hidden_layer_sizes=(100, 50, 25), learning_rate=adaptive, solver=adam; total time=   2.9s\n",
      "[CV] END activation=tanh, alpha=0.05, hidden_layer_sizes=(100, 50, 25), learning_rate=adaptive, solver=adam; total time=   5.1s\n",
      "[CV] END activation=tanh, alpha=0.05, hidden_layer_sizes=(100, 50, 25), learning_rate=adaptive, solver=adam; total time=   3.5s\n",
      "[CV] END activation=tanh, alpha=0.05, hidden_layer_sizes=(100, 50, 25), learning_rate=adaptive, solver=adam; total time=   8.9s\n"
     ]
    },
    {
     "name": "stderr",
     "output_type": "stream",
     "text": [
      "/Users/arvindtawker/miniconda3/lib/python3.10/site-packages/sklearn/neural_network/_multilayer_perceptron.py:691: ConvergenceWarning: Stochastic Optimizer: Maximum iterations (200) reached and the optimization hasn't converged yet.\n",
      "  warnings.warn(\n"
     ]
    },
    {
     "name": "stdout",
     "output_type": "stream",
     "text": [
      "[CV] END activation=tanh, alpha=0.05, hidden_layer_sizes=(100, 50, 25), learning_rate=adaptive, solver=adam; total time=  10.5s\n",
      "[CV] END activation=tanh, alpha=0.05, hidden_layer_sizes=(100, 50, 25), learning_rate=adaptive, solver=adam; total time=   6.8s\n",
      "[CV] END activation=tanh, alpha=0.05, hidden_layer_sizes=(100, 50, 25), learning_rate=adaptive, solver=adam; total time=   4.5s\n"
     ]
    },
    {
     "name": "stderr",
     "output_type": "stream",
     "text": [
      "/Users/arvindtawker/miniconda3/lib/python3.10/site-packages/sklearn/neural_network/_multilayer_perceptron.py:691: ConvergenceWarning: Stochastic Optimizer: Maximum iterations (200) reached and the optimization hasn't converged yet.\n",
      "  warnings.warn(\n"
     ]
    },
    {
     "name": "stdout",
     "output_type": "stream",
     "text": [
      "[CV] END activation=relu, alpha=0.0001, hidden_layer_sizes=(22,), learning_rate=constant, solver=sgd; total time=   0.8s\n"
     ]
    },
    {
     "name": "stderr",
     "output_type": "stream",
     "text": [
      "/Users/arvindtawker/miniconda3/lib/python3.10/site-packages/sklearn/neural_network/_multilayer_perceptron.py:691: ConvergenceWarning: Stochastic Optimizer: Maximum iterations (200) reached and the optimization hasn't converged yet.\n",
      "  warnings.warn(\n"
     ]
    },
    {
     "name": "stdout",
     "output_type": "stream",
     "text": [
      "[CV] END activation=relu, alpha=0.0001, hidden_layer_sizes=(22,), learning_rate=constant, solver=sgd; total time=   0.8s\n"
     ]
    },
    {
     "name": "stderr",
     "output_type": "stream",
     "text": [
      "/Users/arvindtawker/miniconda3/lib/python3.10/site-packages/sklearn/neural_network/_multilayer_perceptron.py:691: ConvergenceWarning: Stochastic Optimizer: Maximum iterations (200) reached and the optimization hasn't converged yet.\n",
      "  warnings.warn(\n"
     ]
    },
    {
     "name": "stdout",
     "output_type": "stream",
     "text": [
      "[CV] END activation=relu, alpha=0.0001, hidden_layer_sizes=(22,), learning_rate=constant, solver=sgd; total time=   0.8s\n",
      "[CV] END activation=relu, alpha=0.0001, hidden_layer_sizes=(22,), learning_rate=constant, solver=sgd; total time=   0.8s\n",
      "[CV] END activation=relu, alpha=0.0001, hidden_layer_sizes=(22,), learning_rate=constant, solver=sgd; total time=   0.7s\n",
      "[CV] END activation=relu, alpha=0.0001, hidden_layer_sizes=(22,), learning_rate=constant, solver=sgd; total time=   0.6s\n"
     ]
    },
    {
     "name": "stderr",
     "output_type": "stream",
     "text": [
      "/Users/arvindtawker/miniconda3/lib/python3.10/site-packages/sklearn/neural_network/_multilayer_perceptron.py:691: ConvergenceWarning: Stochastic Optimizer: Maximum iterations (200) reached and the optimization hasn't converged yet.\n",
      "  warnings.warn(\n"
     ]
    },
    {
     "name": "stdout",
     "output_type": "stream",
     "text": [
      "[CV] END activation=relu, alpha=0.0001, hidden_layer_sizes=(22,), learning_rate=constant, solver=sgd; total time=   0.8s\n"
     ]
    },
    {
     "name": "stderr",
     "output_type": "stream",
     "text": [
      "/Users/arvindtawker/miniconda3/lib/python3.10/site-packages/sklearn/neural_network/_multilayer_perceptron.py:691: ConvergenceWarning: Stochastic Optimizer: Maximum iterations (200) reached and the optimization hasn't converged yet.\n",
      "  warnings.warn(\n"
     ]
    },
    {
     "name": "stdout",
     "output_type": "stream",
     "text": [
      "[CV] END activation=relu, alpha=0.0001, hidden_layer_sizes=(22,), learning_rate=constant, solver=sgd; total time=   0.8s\n"
     ]
    },
    {
     "name": "stderr",
     "output_type": "stream",
     "text": [
      "/Users/arvindtawker/miniconda3/lib/python3.10/site-packages/sklearn/neural_network/_multilayer_perceptron.py:691: ConvergenceWarning: Stochastic Optimizer: Maximum iterations (200) reached and the optimization hasn't converged yet.\n",
      "  warnings.warn(\n"
     ]
    },
    {
     "name": "stdout",
     "output_type": "stream",
     "text": [
      "[CV] END activation=relu, alpha=0.0001, hidden_layer_sizes=(22,), learning_rate=constant, solver=adam; total time=   0.9s\n"
     ]
    },
    {
     "name": "stderr",
     "output_type": "stream",
     "text": [
      "/Users/arvindtawker/miniconda3/lib/python3.10/site-packages/sklearn/neural_network/_multilayer_perceptron.py:691: ConvergenceWarning: Stochastic Optimizer: Maximum iterations (200) reached and the optimization hasn't converged yet.\n",
      "  warnings.warn(\n"
     ]
    },
    {
     "name": "stdout",
     "output_type": "stream",
     "text": [
      "[CV] END activation=relu, alpha=0.0001, hidden_layer_sizes=(22,), learning_rate=constant, solver=adam; total time=   0.9s\n"
     ]
    },
    {
     "name": "stderr",
     "output_type": "stream",
     "text": [
      "/Users/arvindtawker/miniconda3/lib/python3.10/site-packages/sklearn/neural_network/_multilayer_perceptron.py:691: ConvergenceWarning: Stochastic Optimizer: Maximum iterations (200) reached and the optimization hasn't converged yet.\n",
      "  warnings.warn(\n"
     ]
    },
    {
     "name": "stdout",
     "output_type": "stream",
     "text": [
      "[CV] END activation=relu, alpha=0.0001, hidden_layer_sizes=(22,), learning_rate=constant, solver=adam; total time=   0.9s\n",
      "[CV] END activation=relu, alpha=0.0001, hidden_layer_sizes=(22,), learning_rate=constant, solver=adam; total time=   0.7s\n",
      "[CV] END activation=relu, alpha=0.0001, hidden_layer_sizes=(22,), learning_rate=constant, solver=adam; total time=   0.8s\n",
      "[CV] END activation=relu, alpha=0.0001, hidden_layer_sizes=(22,), learning_rate=constant, solver=adam; total time=   0.8s\n",
      "[CV] END activation=relu, alpha=0.0001, hidden_layer_sizes=(22,), learning_rate=constant, solver=adam; total time=   0.7s\n",
      "[CV] END activation=relu, alpha=0.0001, hidden_layer_sizes=(22,), learning_rate=constant, solver=adam; total time=   0.6s\n"
     ]
    },
    {
     "name": "stderr",
     "output_type": "stream",
     "text": [
      "/Users/arvindtawker/miniconda3/lib/python3.10/site-packages/sklearn/neural_network/_multilayer_perceptron.py:691: ConvergenceWarning: Stochastic Optimizer: Maximum iterations (200) reached and the optimization hasn't converged yet.\n",
      "  warnings.warn(\n"
     ]
    },
    {
     "name": "stdout",
     "output_type": "stream",
     "text": [
      "[CV] END activation=relu, alpha=0.0001, hidden_layer_sizes=(22,), learning_rate=adaptive, solver=sgd; total time=   0.8s\n"
     ]
    },
    {
     "name": "stderr",
     "output_type": "stream",
     "text": [
      "/Users/arvindtawker/miniconda3/lib/python3.10/site-packages/sklearn/neural_network/_multilayer_perceptron.py:691: ConvergenceWarning: Stochastic Optimizer: Maximum iterations (200) reached and the optimization hasn't converged yet.\n",
      "  warnings.warn(\n"
     ]
    },
    {
     "name": "stdout",
     "output_type": "stream",
     "text": [
      "[CV] END activation=relu, alpha=0.0001, hidden_layer_sizes=(22,), learning_rate=adaptive, solver=sgd; total time=   0.8s\n"
     ]
    },
    {
     "name": "stderr",
     "output_type": "stream",
     "text": [
      "/Users/arvindtawker/miniconda3/lib/python3.10/site-packages/sklearn/neural_network/_multilayer_perceptron.py:691: ConvergenceWarning: Stochastic Optimizer: Maximum iterations (200) reached and the optimization hasn't converged yet.\n",
      "  warnings.warn(\n"
     ]
    },
    {
     "name": "stdout",
     "output_type": "stream",
     "text": [
      "[CV] END activation=relu, alpha=0.0001, hidden_layer_sizes=(22,), learning_rate=adaptive, solver=sgd; total time=   0.8s\n"
     ]
    },
    {
     "name": "stderr",
     "output_type": "stream",
     "text": [
      "/Users/arvindtawker/miniconda3/lib/python3.10/site-packages/sklearn/neural_network/_multilayer_perceptron.py:691: ConvergenceWarning: Stochastic Optimizer: Maximum iterations (200) reached and the optimization hasn't converged yet.\n",
      "  warnings.warn(\n"
     ]
    },
    {
     "name": "stdout",
     "output_type": "stream",
     "text": [
      "[CV] END activation=relu, alpha=0.0001, hidden_layer_sizes=(22,), learning_rate=adaptive, solver=sgd; total time=   0.8s\n"
     ]
    },
    {
     "name": "stderr",
     "output_type": "stream",
     "text": [
      "/Users/arvindtawker/miniconda3/lib/python3.10/site-packages/sklearn/neural_network/_multilayer_perceptron.py:691: ConvergenceWarning: Stochastic Optimizer: Maximum iterations (200) reached and the optimization hasn't converged yet.\n",
      "  warnings.warn(\n"
     ]
    },
    {
     "name": "stdout",
     "output_type": "stream",
     "text": [
      "[CV] END activation=relu, alpha=0.0001, hidden_layer_sizes=(22,), learning_rate=adaptive, solver=sgd; total time=   0.8s\n"
     ]
    },
    {
     "name": "stderr",
     "output_type": "stream",
     "text": [
      "/Users/arvindtawker/miniconda3/lib/python3.10/site-packages/sklearn/neural_network/_multilayer_perceptron.py:691: ConvergenceWarning: Stochastic Optimizer: Maximum iterations (200) reached and the optimization hasn't converged yet.\n",
      "  warnings.warn(\n"
     ]
    },
    {
     "name": "stdout",
     "output_type": "stream",
     "text": [
      "[CV] END activation=relu, alpha=0.0001, hidden_layer_sizes=(22,), learning_rate=adaptive, solver=sgd; total time=   0.8s\n"
     ]
    },
    {
     "name": "stderr",
     "output_type": "stream",
     "text": [
      "/Users/arvindtawker/miniconda3/lib/python3.10/site-packages/sklearn/neural_network/_multilayer_perceptron.py:691: ConvergenceWarning: Stochastic Optimizer: Maximum iterations (200) reached and the optimization hasn't converged yet.\n",
      "  warnings.warn(\n"
     ]
    },
    {
     "name": "stdout",
     "output_type": "stream",
     "text": [
      "[CV] END activation=relu, alpha=0.0001, hidden_layer_sizes=(22,), learning_rate=adaptive, solver=sgd; total time=   0.8s\n"
     ]
    },
    {
     "name": "stderr",
     "output_type": "stream",
     "text": [
      "/Users/arvindtawker/miniconda3/lib/python3.10/site-packages/sklearn/neural_network/_multilayer_perceptron.py:691: ConvergenceWarning: Stochastic Optimizer: Maximum iterations (200) reached and the optimization hasn't converged yet.\n",
      "  warnings.warn(\n"
     ]
    },
    {
     "name": "stdout",
     "output_type": "stream",
     "text": [
      "[CV] END activation=relu, alpha=0.0001, hidden_layer_sizes=(22,), learning_rate=adaptive, solver=sgd; total time=   0.8s\n",
      "[CV] END activation=relu, alpha=0.0001, hidden_layer_sizes=(22,), learning_rate=adaptive, solver=adam; total time=   0.9s\n",
      "[CV] END activation=relu, alpha=0.0001, hidden_layer_sizes=(22,), learning_rate=adaptive, solver=adam; total time=   0.8s\n",
      "[CV] END activation=relu, alpha=0.0001, hidden_layer_sizes=(22,), learning_rate=adaptive, solver=adam; total time=   0.8s\n"
     ]
    },
    {
     "name": "stderr",
     "output_type": "stream",
     "text": [
      "/Users/arvindtawker/miniconda3/lib/python3.10/site-packages/sklearn/neural_network/_multilayer_perceptron.py:691: ConvergenceWarning: Stochastic Optimizer: Maximum iterations (200) reached and the optimization hasn't converged yet.\n",
      "  warnings.warn(\n"
     ]
    },
    {
     "name": "stdout",
     "output_type": "stream",
     "text": [
      "[CV] END activation=relu, alpha=0.0001, hidden_layer_sizes=(22,), learning_rate=adaptive, solver=adam; total time=   0.9s\n",
      "[CV] END activation=relu, alpha=0.0001, hidden_layer_sizes=(22,), learning_rate=adaptive, solver=adam; total time=   0.7s\n",
      "[CV] END activation=relu, alpha=0.0001, hidden_layer_sizes=(22,), learning_rate=adaptive, solver=adam; total time=   0.7s\n",
      "[CV] END activation=relu, alpha=0.0001, hidden_layer_sizes=(22,), learning_rate=adaptive, solver=adam; total time=   0.8s\n",
      "[CV] END activation=relu, alpha=0.0001, hidden_layer_sizes=(22,), learning_rate=adaptive, solver=adam; total time=   0.8s\n",
      "[CV] END activation=relu, alpha=0.0001, hidden_layer_sizes=(50, 12), learning_rate=constant, solver=sgd; total time=   1.1s\n",
      "[CV] END activation=relu, alpha=0.0001, hidden_layer_sizes=(50, 12), learning_rate=constant, solver=sgd; total time=   1.1s\n",
      "[CV] END activation=relu, alpha=0.0001, hidden_layer_sizes=(50, 12), learning_rate=constant, solver=sgd; total time=   1.2s\n",
      "[CV] END activation=relu, alpha=0.0001, hidden_layer_sizes=(50, 12), learning_rate=constant, solver=sgd; total time=   1.6s\n",
      "[CV] END activation=relu, alpha=0.0001, hidden_layer_sizes=(50, 12), learning_rate=constant, solver=sgd; total time=   1.3s\n",
      "[CV] END activation=relu, alpha=0.0001, hidden_layer_sizes=(50, 12), learning_rate=constant, solver=sgd; total time=   1.3s\n"
     ]
    },
    {
     "name": "stderr",
     "output_type": "stream",
     "text": [
      "/Users/arvindtawker/miniconda3/lib/python3.10/site-packages/sklearn/neural_network/_multilayer_perceptron.py:691: ConvergenceWarning: Stochastic Optimizer: Maximum iterations (200) reached and the optimization hasn't converged yet.\n",
      "  warnings.warn(\n"
     ]
    },
    {
     "name": "stdout",
     "output_type": "stream",
     "text": [
      "[CV] END activation=relu, alpha=0.0001, hidden_layer_sizes=(50, 12), learning_rate=constant, solver=sgd; total time=   1.6s\n",
      "[CV] END activation=relu, alpha=0.0001, hidden_layer_sizes=(50, 12), learning_rate=constant, solver=sgd; total time=   1.1s\n"
     ]
    },
    {
     "name": "stderr",
     "output_type": "stream",
     "text": [
      "/Users/arvindtawker/miniconda3/lib/python3.10/site-packages/sklearn/neural_network/_multilayer_perceptron.py:691: ConvergenceWarning: Stochastic Optimizer: Maximum iterations (200) reached and the optimization hasn't converged yet.\n",
      "  warnings.warn(\n"
     ]
    },
    {
     "name": "stdout",
     "output_type": "stream",
     "text": [
      "[CV] END activation=relu, alpha=0.0001, hidden_layer_sizes=(50, 12), learning_rate=constant, solver=adam; total time=   1.7s\n"
     ]
    },
    {
     "name": "stderr",
     "output_type": "stream",
     "text": [
      "/Users/arvindtawker/miniconda3/lib/python3.10/site-packages/sklearn/neural_network/_multilayer_perceptron.py:691: ConvergenceWarning: Stochastic Optimizer: Maximum iterations (200) reached and the optimization hasn't converged yet.\n",
      "  warnings.warn(\n"
     ]
    },
    {
     "name": "stdout",
     "output_type": "stream",
     "text": [
      "[CV] END activation=relu, alpha=0.0001, hidden_layer_sizes=(50, 12), learning_rate=constant, solver=adam; total time=   1.6s\n"
     ]
    },
    {
     "name": "stderr",
     "output_type": "stream",
     "text": [
      "/Users/arvindtawker/miniconda3/lib/python3.10/site-packages/sklearn/neural_network/_multilayer_perceptron.py:691: ConvergenceWarning: Stochastic Optimizer: Maximum iterations (200) reached and the optimization hasn't converged yet.\n",
      "  warnings.warn(\n"
     ]
    },
    {
     "name": "stdout",
     "output_type": "stream",
     "text": [
      "[CV] END activation=relu, alpha=0.0001, hidden_layer_sizes=(50, 12), learning_rate=constant, solver=adam; total time=   1.6s\n"
     ]
    },
    {
     "name": "stderr",
     "output_type": "stream",
     "text": [
      "/Users/arvindtawker/miniconda3/lib/python3.10/site-packages/sklearn/neural_network/_multilayer_perceptron.py:691: ConvergenceWarning: Stochastic Optimizer: Maximum iterations (200) reached and the optimization hasn't converged yet.\n",
      "  warnings.warn(\n"
     ]
    },
    {
     "name": "stdout",
     "output_type": "stream",
     "text": [
      "[CV] END activation=relu, alpha=0.0001, hidden_layer_sizes=(50, 12), learning_rate=constant, solver=adam; total time=   1.9s\n",
      "[CV] END activation=relu, alpha=0.0001, hidden_layer_sizes=(50, 12), learning_rate=constant, solver=adam; total time=   1.4s\n"
     ]
    },
    {
     "name": "stderr",
     "output_type": "stream",
     "text": [
      "/Users/arvindtawker/miniconda3/lib/python3.10/site-packages/sklearn/neural_network/_multilayer_perceptron.py:691: ConvergenceWarning: Stochastic Optimizer: Maximum iterations (200) reached and the optimization hasn't converged yet.\n",
      "  warnings.warn(\n"
     ]
    },
    {
     "name": "stdout",
     "output_type": "stream",
     "text": [
      "[CV] END activation=relu, alpha=0.0001, hidden_layer_sizes=(50, 12), learning_rate=constant, solver=adam; total time=   1.6s\n"
     ]
    },
    {
     "name": "stderr",
     "output_type": "stream",
     "text": [
      "/Users/arvindtawker/miniconda3/lib/python3.10/site-packages/sklearn/neural_network/_multilayer_perceptron.py:691: ConvergenceWarning: Stochastic Optimizer: Maximum iterations (200) reached and the optimization hasn't converged yet.\n",
      "  warnings.warn(\n"
     ]
    },
    {
     "name": "stdout",
     "output_type": "stream",
     "text": [
      "[CV] END activation=relu, alpha=0.0001, hidden_layer_sizes=(50, 12), learning_rate=constant, solver=adam; total time=   1.8s\n"
     ]
    },
    {
     "name": "stderr",
     "output_type": "stream",
     "text": [
      "/Users/arvindtawker/miniconda3/lib/python3.10/site-packages/sklearn/neural_network/_multilayer_perceptron.py:691: ConvergenceWarning: Stochastic Optimizer: Maximum iterations (200) reached and the optimization hasn't converged yet.\n",
      "  warnings.warn(\n"
     ]
    },
    {
     "name": "stdout",
     "output_type": "stream",
     "text": [
      "[CV] END activation=relu, alpha=0.0001, hidden_layer_sizes=(50, 12), learning_rate=constant, solver=adam; total time=   1.7s\n"
     ]
    },
    {
     "name": "stderr",
     "output_type": "stream",
     "text": [
      "/Users/arvindtawker/miniconda3/lib/python3.10/site-packages/sklearn/neural_network/_multilayer_perceptron.py:691: ConvergenceWarning: Stochastic Optimizer: Maximum iterations (200) reached and the optimization hasn't converged yet.\n",
      "  warnings.warn(\n"
     ]
    },
    {
     "name": "stdout",
     "output_type": "stream",
     "text": [
      "[CV] END activation=relu, alpha=0.0001, hidden_layer_sizes=(50, 12), learning_rate=adaptive, solver=sgd; total time=   1.6s\n"
     ]
    },
    {
     "name": "stderr",
     "output_type": "stream",
     "text": [
      "/Users/arvindtawker/miniconda3/lib/python3.10/site-packages/sklearn/neural_network/_multilayer_perceptron.py:691: ConvergenceWarning: Stochastic Optimizer: Maximum iterations (200) reached and the optimization hasn't converged yet.\n",
      "  warnings.warn(\n"
     ]
    },
    {
     "name": "stdout",
     "output_type": "stream",
     "text": [
      "[CV] END activation=relu, alpha=0.0001, hidden_layer_sizes=(50, 12), learning_rate=adaptive, solver=sgd; total time=   1.6s\n",
      "[CV] END activation=relu, alpha=0.0001, hidden_layer_sizes=(50, 12), learning_rate=adaptive, solver=sgd; total time=   1.3s\n"
     ]
    },
    {
     "name": "stderr",
     "output_type": "stream",
     "text": [
      "/Users/arvindtawker/miniconda3/lib/python3.10/site-packages/sklearn/neural_network/_multilayer_perceptron.py:691: ConvergenceWarning: Stochastic Optimizer: Maximum iterations (200) reached and the optimization hasn't converged yet.\n",
      "  warnings.warn(\n"
     ]
    },
    {
     "name": "stdout",
     "output_type": "stream",
     "text": [
      "[CV] END activation=relu, alpha=0.0001, hidden_layer_sizes=(50, 12), learning_rate=adaptive, solver=sgd; total time=   1.4s\n"
     ]
    },
    {
     "name": "stderr",
     "output_type": "stream",
     "text": [
      "/Users/arvindtawker/miniconda3/lib/python3.10/site-packages/sklearn/neural_network/_multilayer_perceptron.py:691: ConvergenceWarning: Stochastic Optimizer: Maximum iterations (200) reached and the optimization hasn't converged yet.\n",
      "  warnings.warn(\n"
     ]
    },
    {
     "name": "stdout",
     "output_type": "stream",
     "text": [
      "[CV] END activation=relu, alpha=0.0001, hidden_layer_sizes=(50, 12), learning_rate=adaptive, solver=sgd; total time=   1.6s\n"
     ]
    },
    {
     "name": "stderr",
     "output_type": "stream",
     "text": [
      "/Users/arvindtawker/miniconda3/lib/python3.10/site-packages/sklearn/neural_network/_multilayer_perceptron.py:691: ConvergenceWarning: Stochastic Optimizer: Maximum iterations (200) reached and the optimization hasn't converged yet.\n",
      "  warnings.warn(\n"
     ]
    },
    {
     "name": "stdout",
     "output_type": "stream",
     "text": [
      "[CV] END activation=relu, alpha=0.0001, hidden_layer_sizes=(50, 12), learning_rate=adaptive, solver=sgd; total time=   1.5s\n"
     ]
    },
    {
     "name": "stderr",
     "output_type": "stream",
     "text": [
      "/Users/arvindtawker/miniconda3/lib/python3.10/site-packages/sklearn/neural_network/_multilayer_perceptron.py:691: ConvergenceWarning: Stochastic Optimizer: Maximum iterations (200) reached and the optimization hasn't converged yet.\n",
      "  warnings.warn(\n"
     ]
    },
    {
     "name": "stdout",
     "output_type": "stream",
     "text": [
      "[CV] END activation=relu, alpha=0.0001, hidden_layer_sizes=(50, 12), learning_rate=adaptive, solver=sgd; total time=   1.9s\n",
      "[CV] END activation=relu, alpha=0.0001, hidden_layer_sizes=(50, 12), learning_rate=adaptive, solver=sgd; total time=   1.6s\n"
     ]
    },
    {
     "name": "stderr",
     "output_type": "stream",
     "text": [
      "/Users/arvindtawker/miniconda3/lib/python3.10/site-packages/sklearn/neural_network/_multilayer_perceptron.py:691: ConvergenceWarning: Stochastic Optimizer: Maximum iterations (200) reached and the optimization hasn't converged yet.\n",
      "  warnings.warn(\n"
     ]
    },
    {
     "name": "stdout",
     "output_type": "stream",
     "text": [
      "[CV] END activation=relu, alpha=0.0001, hidden_layer_sizes=(50, 12), learning_rate=adaptive, solver=adam; total time=   1.6s\n",
      "[CV] END activation=relu, alpha=0.0001, hidden_layer_sizes=(50, 12), learning_rate=adaptive, solver=adam; total time=   1.1s\n"
     ]
    },
    {
     "name": "stderr",
     "output_type": "stream",
     "text": [
      "/Users/arvindtawker/miniconda3/lib/python3.10/site-packages/sklearn/neural_network/_multilayer_perceptron.py:691: ConvergenceWarning: Stochastic Optimizer: Maximum iterations (200) reached and the optimization hasn't converged yet.\n",
      "  warnings.warn(\n"
     ]
    },
    {
     "name": "stdout",
     "output_type": "stream",
     "text": [
      "[CV] END activation=relu, alpha=0.0001, hidden_layer_sizes=(50, 12), learning_rate=adaptive, solver=adam; total time=   1.5s\n"
     ]
    },
    {
     "name": "stderr",
     "output_type": "stream",
     "text": [
      "/Users/arvindtawker/miniconda3/lib/python3.10/site-packages/sklearn/neural_network/_multilayer_perceptron.py:691: ConvergenceWarning: Stochastic Optimizer: Maximum iterations (200) reached and the optimization hasn't converged yet.\n",
      "  warnings.warn(\n"
     ]
    },
    {
     "name": "stdout",
     "output_type": "stream",
     "text": [
      "[CV] END activation=relu, alpha=0.0001, hidden_layer_sizes=(50, 12), learning_rate=adaptive, solver=adam; total time=   1.5s\n"
     ]
    },
    {
     "name": "stderr",
     "output_type": "stream",
     "text": [
      "/Users/arvindtawker/miniconda3/lib/python3.10/site-packages/sklearn/neural_network/_multilayer_perceptron.py:691: ConvergenceWarning: Stochastic Optimizer: Maximum iterations (200) reached and the optimization hasn't converged yet.\n",
      "  warnings.warn(\n"
     ]
    },
    {
     "name": "stdout",
     "output_type": "stream",
     "text": [
      "[CV] END activation=relu, alpha=0.0001, hidden_layer_sizes=(50, 12), learning_rate=adaptive, solver=adam; total time=   1.5s\n"
     ]
    },
    {
     "name": "stderr",
     "output_type": "stream",
     "text": [
      "/Users/arvindtawker/miniconda3/lib/python3.10/site-packages/sklearn/neural_network/_multilayer_perceptron.py:691: ConvergenceWarning: Stochastic Optimizer: Maximum iterations (200) reached and the optimization hasn't converged yet.\n",
      "  warnings.warn(\n"
     ]
    },
    {
     "name": "stdout",
     "output_type": "stream",
     "text": [
      "[CV] END activation=relu, alpha=0.0001, hidden_layer_sizes=(50, 12), learning_rate=adaptive, solver=adam; total time=   1.6s\n"
     ]
    },
    {
     "name": "stderr",
     "output_type": "stream",
     "text": [
      "/Users/arvindtawker/miniconda3/lib/python3.10/site-packages/sklearn/neural_network/_multilayer_perceptron.py:691: ConvergenceWarning: Stochastic Optimizer: Maximum iterations (200) reached and the optimization hasn't converged yet.\n",
      "  warnings.warn(\n"
     ]
    },
    {
     "name": "stdout",
     "output_type": "stream",
     "text": [
      "[CV] END activation=relu, alpha=0.0001, hidden_layer_sizes=(50, 12), learning_rate=adaptive, solver=adam; total time=   1.5s\n"
     ]
    },
    {
     "name": "stderr",
     "output_type": "stream",
     "text": [
      "/Users/arvindtawker/miniconda3/lib/python3.10/site-packages/sklearn/neural_network/_multilayer_perceptron.py:691: ConvergenceWarning: Stochastic Optimizer: Maximum iterations (200) reached and the optimization hasn't converged yet.\n",
      "  warnings.warn(\n"
     ]
    },
    {
     "name": "stdout",
     "output_type": "stream",
     "text": [
      "[CV] END activation=relu, alpha=0.0001, hidden_layer_sizes=(50, 12), learning_rate=adaptive, solver=adam; total time=   1.5s\n",
      "[CV] END activation=relu, alpha=0.0001, hidden_layer_sizes=(100, 50, 25), learning_rate=constant, solver=sgd; total time=   6.0s\n",
      "[CV] END activation=relu, alpha=0.0001, hidden_layer_sizes=(100, 50, 25), learning_rate=constant, solver=sgd; total time=   5.7s\n",
      "[CV] END activation=relu, alpha=0.0001, hidden_layer_sizes=(100, 50, 25), learning_rate=constant, solver=sgd; total time=   4.8s\n",
      "[CV] END activation=relu, alpha=0.0001, hidden_layer_sizes=(100, 50, 25), learning_rate=constant, solver=sgd; total time=   5.6s\n",
      "[CV] END activation=relu, alpha=0.0001, hidden_layer_sizes=(100, 50, 25), learning_rate=constant, solver=sgd; total time=   5.9s\n",
      "[CV] END activation=relu, alpha=0.0001, hidden_layer_sizes=(100, 50, 25), learning_rate=constant, solver=sgd; total time=   4.7s\n",
      "[CV] END activation=relu, alpha=0.0001, hidden_layer_sizes=(100, 50, 25), learning_rate=constant, solver=sgd; total time=   7.0s\n",
      "[CV] END activation=relu, alpha=0.0001, hidden_layer_sizes=(100, 50, 25), learning_rate=constant, solver=sgd; total time=   5.7s\n",
      "[CV] END activation=relu, alpha=0.0001, hidden_layer_sizes=(100, 50, 25), learning_rate=constant, solver=adam; total time=   8.6s\n",
      "[CV] END activation=relu, alpha=0.0001, hidden_layer_sizes=(100, 50, 25), learning_rate=constant, solver=adam; total time=   7.0s\n",
      "[CV] END activation=relu, alpha=0.0001, hidden_layer_sizes=(100, 50, 25), learning_rate=constant, solver=adam; total time=   7.5s\n"
     ]
    },
    {
     "name": "stderr",
     "output_type": "stream",
     "text": [
      "/Users/arvindtawker/miniconda3/lib/python3.10/site-packages/sklearn/neural_network/_multilayer_perceptron.py:691: ConvergenceWarning: Stochastic Optimizer: Maximum iterations (200) reached and the optimization hasn't converged yet.\n",
      "  warnings.warn(\n"
     ]
    },
    {
     "name": "stdout",
     "output_type": "stream",
     "text": [
      "[CV] END activation=relu, alpha=0.0001, hidden_layer_sizes=(100, 50, 25), learning_rate=constant, solver=adam; total time=   9.4s\n",
      "[CV] END activation=relu, alpha=0.0001, hidden_layer_sizes=(100, 50, 25), learning_rate=constant, solver=adam; total time=   8.0s\n"
     ]
    },
    {
     "name": "stderr",
     "output_type": "stream",
     "text": [
      "/Users/arvindtawker/miniconda3/lib/python3.10/site-packages/sklearn/neural_network/_multilayer_perceptron.py:691: ConvergenceWarning: Stochastic Optimizer: Maximum iterations (200) reached and the optimization hasn't converged yet.\n",
      "  warnings.warn(\n"
     ]
    },
    {
     "name": "stdout",
     "output_type": "stream",
     "text": [
      "[CV] END activation=relu, alpha=0.0001, hidden_layer_sizes=(100, 50, 25), learning_rate=constant, solver=adam; total time=   8.7s\n",
      "[CV] END activation=relu, alpha=0.0001, hidden_layer_sizes=(100, 50, 25), learning_rate=constant, solver=adam; total time=   7.4s\n",
      "[CV] END activation=relu, alpha=0.0001, hidden_layer_sizes=(100, 50, 25), learning_rate=constant, solver=adam; total time=   8.4s\n"
     ]
    },
    {
     "name": "stderr",
     "output_type": "stream",
     "text": [
      "/Users/arvindtawker/miniconda3/lib/python3.10/site-packages/sklearn/neural_network/_multilayer_perceptron.py:691: ConvergenceWarning: Stochastic Optimizer: Maximum iterations (200) reached and the optimization hasn't converged yet.\n",
      "  warnings.warn(\n"
     ]
    },
    {
     "name": "stdout",
     "output_type": "stream",
     "text": [
      "[CV] END activation=relu, alpha=0.0001, hidden_layer_sizes=(100, 50, 25), learning_rate=adaptive, solver=sgd; total time=   9.4s\n"
     ]
    },
    {
     "name": "stderr",
     "output_type": "stream",
     "text": [
      "/Users/arvindtawker/miniconda3/lib/python3.10/site-packages/sklearn/neural_network/_multilayer_perceptron.py:691: ConvergenceWarning: Stochastic Optimizer: Maximum iterations (200) reached and the optimization hasn't converged yet.\n",
      "  warnings.warn(\n"
     ]
    },
    {
     "name": "stdout",
     "output_type": "stream",
     "text": [
      "[CV] END activation=relu, alpha=0.0001, hidden_layer_sizes=(100, 50, 25), learning_rate=adaptive, solver=sgd; total time=  10.7s\n",
      "[CV] END activation=relu, alpha=0.0001, hidden_layer_sizes=(100, 50, 25), learning_rate=adaptive, solver=sgd; total time=   9.7s\n"
     ]
    },
    {
     "name": "stderr",
     "output_type": "stream",
     "text": [
      "/Users/arvindtawker/miniconda3/lib/python3.10/site-packages/sklearn/neural_network/_multilayer_perceptron.py:691: ConvergenceWarning: Stochastic Optimizer: Maximum iterations (200) reached and the optimization hasn't converged yet.\n",
      "  warnings.warn(\n"
     ]
    },
    {
     "name": "stdout",
     "output_type": "stream",
     "text": [
      "[CV] END activation=relu, alpha=0.0001, hidden_layer_sizes=(100, 50, 25), learning_rate=adaptive, solver=sgd; total time=   8.2s\n"
     ]
    },
    {
     "name": "stderr",
     "output_type": "stream",
     "text": [
      "/Users/arvindtawker/miniconda3/lib/python3.10/site-packages/sklearn/neural_network/_multilayer_perceptron.py:691: ConvergenceWarning: Stochastic Optimizer: Maximum iterations (200) reached and the optimization hasn't converged yet.\n",
      "  warnings.warn(\n"
     ]
    },
    {
     "name": "stdout",
     "output_type": "stream",
     "text": [
      "[CV] END activation=relu, alpha=0.0001, hidden_layer_sizes=(100, 50, 25), learning_rate=adaptive, solver=sgd; total time=   8.6s\n",
      "[CV] END activation=relu, alpha=0.0001, hidden_layer_sizes=(100, 50, 25), learning_rate=adaptive, solver=sgd; total time=   9.2s\n",
      "[CV] END activation=relu, alpha=0.0001, hidden_layer_sizes=(100, 50, 25), learning_rate=adaptive, solver=sgd; total time=   8.5s\n",
      "[CV] END activation=relu, alpha=0.0001, hidden_layer_sizes=(100, 50, 25), learning_rate=adaptive, solver=sgd; total time=   9.0s\n",
      "[CV] END activation=relu, alpha=0.0001, hidden_layer_sizes=(100, 50, 25), learning_rate=adaptive, solver=adam; total time=   7.3s\n",
      "[CV] END activation=relu, alpha=0.0001, hidden_layer_sizes=(100, 50, 25), learning_rate=adaptive, solver=adam; total time=  10.0s\n",
      "[CV] END activation=relu, alpha=0.0001, hidden_layer_sizes=(100, 50, 25), learning_rate=adaptive, solver=adam; total time=   5.7s\n",
      "[CV] END activation=relu, alpha=0.0001, hidden_layer_sizes=(100, 50, 25), learning_rate=adaptive, solver=adam; total time=   7.4s\n",
      "[CV] END activation=relu, alpha=0.0001, hidden_layer_sizes=(100, 50, 25), learning_rate=adaptive, solver=adam; total time=   8.3s\n",
      "[CV] END activation=relu, alpha=0.0001, hidden_layer_sizes=(100, 50, 25), learning_rate=adaptive, solver=adam; total time=   7.7s\n"
     ]
    },
    {
     "name": "stderr",
     "output_type": "stream",
     "text": [
      "/Users/arvindtawker/miniconda3/lib/python3.10/site-packages/sklearn/neural_network/_multilayer_perceptron.py:691: ConvergenceWarning: Stochastic Optimizer: Maximum iterations (200) reached and the optimization hasn't converged yet.\n",
      "  warnings.warn(\n"
     ]
    },
    {
     "name": "stdout",
     "output_type": "stream",
     "text": [
      "[CV] END activation=relu, alpha=0.0001, hidden_layer_sizes=(100, 50, 25), learning_rate=adaptive, solver=adam; total time=   9.6s\n",
      "[CV] END activation=relu, alpha=0.0001, hidden_layer_sizes=(100, 50, 25), learning_rate=adaptive, solver=adam; total time=   6.6s\n"
     ]
    },
    {
     "name": "stderr",
     "output_type": "stream",
     "text": [
      "/Users/arvindtawker/miniconda3/lib/python3.10/site-packages/sklearn/neural_network/_multilayer_perceptron.py:691: ConvergenceWarning: Stochastic Optimizer: Maximum iterations (200) reached and the optimization hasn't converged yet.\n",
      "  warnings.warn(\n"
     ]
    },
    {
     "name": "stdout",
     "output_type": "stream",
     "text": [
      "[CV] END activation=relu, alpha=0.05, hidden_layer_sizes=(22,), learning_rate=constant, solver=sgd; total time=   0.8s\n",
      "[CV] END activation=relu, alpha=0.05, hidden_layer_sizes=(22,), learning_rate=constant, solver=sgd; total time=   0.8s\n",
      "[CV] END activation=relu, alpha=0.05, hidden_layer_sizes=(22,), learning_rate=constant, solver=sgd; total time=   0.8s\n"
     ]
    },
    {
     "name": "stderr",
     "output_type": "stream",
     "text": [
      "/Users/arvindtawker/miniconda3/lib/python3.10/site-packages/sklearn/neural_network/_multilayer_perceptron.py:691: ConvergenceWarning: Stochastic Optimizer: Maximum iterations (200) reached and the optimization hasn't converged yet.\n",
      "  warnings.warn(\n"
     ]
    },
    {
     "name": "stdout",
     "output_type": "stream",
     "text": [
      "[CV] END activation=relu, alpha=0.05, hidden_layer_sizes=(22,), learning_rate=constant, solver=sgd; total time=   0.8s\n",
      "[CV] END activation=relu, alpha=0.05, hidden_layer_sizes=(22,), learning_rate=constant, solver=sgd; total time=   0.8s\n",
      "[CV] END activation=relu, alpha=0.05, hidden_layer_sizes=(22,), learning_rate=constant, solver=sgd; total time=   0.8s\n",
      "[CV] END activation=relu, alpha=0.05, hidden_layer_sizes=(22,), learning_rate=constant, solver=sgd; total time=   0.8s\n",
      "[CV] END activation=relu, alpha=0.05, hidden_layer_sizes=(22,), learning_rate=constant, solver=sgd; total time=   0.8s\n",
      "[CV] END activation=relu, alpha=0.05, hidden_layer_sizes=(22,), learning_rate=constant, solver=adam; total time=   0.7s\n",
      "[CV] END activation=relu, alpha=0.05, hidden_layer_sizes=(22,), learning_rate=constant, solver=adam; total time=   0.7s\n"
     ]
    },
    {
     "name": "stderr",
     "output_type": "stream",
     "text": [
      "/Users/arvindtawker/miniconda3/lib/python3.10/site-packages/sklearn/neural_network/_multilayer_perceptron.py:691: ConvergenceWarning: Stochastic Optimizer: Maximum iterations (200) reached and the optimization hasn't converged yet.\n",
      "  warnings.warn(\n"
     ]
    },
    {
     "name": "stdout",
     "output_type": "stream",
     "text": [
      "[CV] END activation=relu, alpha=0.05, hidden_layer_sizes=(22,), learning_rate=constant, solver=adam; total time=   0.9s\n",
      "[CV] END activation=relu, alpha=0.05, hidden_layer_sizes=(22,), learning_rate=constant, solver=adam; total time=   0.7s\n"
     ]
    },
    {
     "name": "stderr",
     "output_type": "stream",
     "text": [
      "/Users/arvindtawker/miniconda3/lib/python3.10/site-packages/sklearn/neural_network/_multilayer_perceptron.py:691: ConvergenceWarning: Stochastic Optimizer: Maximum iterations (200) reached and the optimization hasn't converged yet.\n",
      "  warnings.warn(\n"
     ]
    },
    {
     "name": "stdout",
     "output_type": "stream",
     "text": [
      "[CV] END activation=relu, alpha=0.05, hidden_layer_sizes=(22,), learning_rate=constant, solver=adam; total time=   0.9s\n"
     ]
    },
    {
     "name": "stderr",
     "output_type": "stream",
     "text": [
      "/Users/arvindtawker/miniconda3/lib/python3.10/site-packages/sklearn/neural_network/_multilayer_perceptron.py:691: ConvergenceWarning: Stochastic Optimizer: Maximum iterations (200) reached and the optimization hasn't converged yet.\n",
      "  warnings.warn(\n"
     ]
    },
    {
     "name": "stdout",
     "output_type": "stream",
     "text": [
      "[CV] END activation=relu, alpha=0.05, hidden_layer_sizes=(22,), learning_rate=constant, solver=adam; total time=   0.9s\n",
      "[CV] END activation=relu, alpha=0.05, hidden_layer_sizes=(22,), learning_rate=constant, solver=adam; total time=   0.9s\n"
     ]
    },
    {
     "name": "stderr",
     "output_type": "stream",
     "text": [
      "/Users/arvindtawker/miniconda3/lib/python3.10/site-packages/sklearn/neural_network/_multilayer_perceptron.py:691: ConvergenceWarning: Stochastic Optimizer: Maximum iterations (200) reached and the optimization hasn't converged yet.\n",
      "  warnings.warn(\n"
     ]
    },
    {
     "name": "stdout",
     "output_type": "stream",
     "text": [
      "[CV] END activation=relu, alpha=0.05, hidden_layer_sizes=(22,), learning_rate=constant, solver=adam; total time=   0.9s\n"
     ]
    },
    {
     "name": "stderr",
     "output_type": "stream",
     "text": [
      "/Users/arvindtawker/miniconda3/lib/python3.10/site-packages/sklearn/neural_network/_multilayer_perceptron.py:691: ConvergenceWarning: Stochastic Optimizer: Maximum iterations (200) reached and the optimization hasn't converged yet.\n",
      "  warnings.warn(\n"
     ]
    },
    {
     "name": "stdout",
     "output_type": "stream",
     "text": [
      "[CV] END activation=relu, alpha=0.05, hidden_layer_sizes=(22,), learning_rate=adaptive, solver=sgd; total time=   0.8s\n"
     ]
    },
    {
     "name": "stderr",
     "output_type": "stream",
     "text": [
      "/Users/arvindtawker/miniconda3/lib/python3.10/site-packages/sklearn/neural_network/_multilayer_perceptron.py:691: ConvergenceWarning: Stochastic Optimizer: Maximum iterations (200) reached and the optimization hasn't converged yet.\n",
      "  warnings.warn(\n"
     ]
    },
    {
     "name": "stdout",
     "output_type": "stream",
     "text": [
      "[CV] END activation=relu, alpha=0.05, hidden_layer_sizes=(22,), learning_rate=adaptive, solver=sgd; total time=   0.8s\n"
     ]
    },
    {
     "name": "stderr",
     "output_type": "stream",
     "text": [
      "/Users/arvindtawker/miniconda3/lib/python3.10/site-packages/sklearn/neural_network/_multilayer_perceptron.py:691: ConvergenceWarning: Stochastic Optimizer: Maximum iterations (200) reached and the optimization hasn't converged yet.\n",
      "  warnings.warn(\n"
     ]
    },
    {
     "name": "stdout",
     "output_type": "stream",
     "text": [
      "[CV] END activation=relu, alpha=0.05, hidden_layer_sizes=(22,), learning_rate=adaptive, solver=sgd; total time=   0.8s\n"
     ]
    },
    {
     "name": "stderr",
     "output_type": "stream",
     "text": [
      "/Users/arvindtawker/miniconda3/lib/python3.10/site-packages/sklearn/neural_network/_multilayer_perceptron.py:691: ConvergenceWarning: Stochastic Optimizer: Maximum iterations (200) reached and the optimization hasn't converged yet.\n",
      "  warnings.warn(\n"
     ]
    },
    {
     "name": "stdout",
     "output_type": "stream",
     "text": [
      "[CV] END activation=relu, alpha=0.05, hidden_layer_sizes=(22,), learning_rate=adaptive, solver=sgd; total time=   0.8s\n"
     ]
    },
    {
     "name": "stderr",
     "output_type": "stream",
     "text": [
      "/Users/arvindtawker/miniconda3/lib/python3.10/site-packages/sklearn/neural_network/_multilayer_perceptron.py:691: ConvergenceWarning: Stochastic Optimizer: Maximum iterations (200) reached and the optimization hasn't converged yet.\n",
      "  warnings.warn(\n"
     ]
    },
    {
     "name": "stdout",
     "output_type": "stream",
     "text": [
      "[CV] END activation=relu, alpha=0.05, hidden_layer_sizes=(22,), learning_rate=adaptive, solver=sgd; total time=   0.8s\n"
     ]
    },
    {
     "name": "stderr",
     "output_type": "stream",
     "text": [
      "/Users/arvindtawker/miniconda3/lib/python3.10/site-packages/sklearn/neural_network/_multilayer_perceptron.py:691: ConvergenceWarning: Stochastic Optimizer: Maximum iterations (200) reached and the optimization hasn't converged yet.\n",
      "  warnings.warn(\n"
     ]
    },
    {
     "name": "stdout",
     "output_type": "stream",
     "text": [
      "[CV] END activation=relu, alpha=0.05, hidden_layer_sizes=(22,), learning_rate=adaptive, solver=sgd; total time=   0.8s\n"
     ]
    },
    {
     "name": "stderr",
     "output_type": "stream",
     "text": [
      "/Users/arvindtawker/miniconda3/lib/python3.10/site-packages/sklearn/neural_network/_multilayer_perceptron.py:691: ConvergenceWarning: Stochastic Optimizer: Maximum iterations (200) reached and the optimization hasn't converged yet.\n",
      "  warnings.warn(\n"
     ]
    },
    {
     "name": "stdout",
     "output_type": "stream",
     "text": [
      "[CV] END activation=relu, alpha=0.05, hidden_layer_sizes=(22,), learning_rate=adaptive, solver=sgd; total time=   0.8s\n"
     ]
    },
    {
     "name": "stderr",
     "output_type": "stream",
     "text": [
      "/Users/arvindtawker/miniconda3/lib/python3.10/site-packages/sklearn/neural_network/_multilayer_perceptron.py:691: ConvergenceWarning: Stochastic Optimizer: Maximum iterations (200) reached and the optimization hasn't converged yet.\n",
      "  warnings.warn(\n"
     ]
    },
    {
     "name": "stdout",
     "output_type": "stream",
     "text": [
      "[CV] END activation=relu, alpha=0.05, hidden_layer_sizes=(22,), learning_rate=adaptive, solver=sgd; total time=   0.8s\n",
      "[CV] END activation=relu, alpha=0.05, hidden_layer_sizes=(22,), learning_rate=adaptive, solver=adam; total time=   0.8s\n",
      "[CV] END activation=relu, alpha=0.05, hidden_layer_sizes=(22,), learning_rate=adaptive, solver=adam; total time=   0.7s\n",
      "[CV] END activation=relu, alpha=0.05, hidden_layer_sizes=(22,), learning_rate=adaptive, solver=adam; total time=   0.8s\n",
      "[CV] END activation=relu, alpha=0.05, hidden_layer_sizes=(22,), learning_rate=adaptive, solver=adam; total time=   0.8s\n"
     ]
    },
    {
     "name": "stderr",
     "output_type": "stream",
     "text": [
      "/Users/arvindtawker/miniconda3/lib/python3.10/site-packages/sklearn/neural_network/_multilayer_perceptron.py:691: ConvergenceWarning: Stochastic Optimizer: Maximum iterations (200) reached and the optimization hasn't converged yet.\n",
      "  warnings.warn(\n"
     ]
    },
    {
     "name": "stdout",
     "output_type": "stream",
     "text": [
      "[CV] END activation=relu, alpha=0.05, hidden_layer_sizes=(22,), learning_rate=adaptive, solver=adam; total time=   0.9s\n",
      "[CV] END activation=relu, alpha=0.05, hidden_layer_sizes=(22,), learning_rate=adaptive, solver=adam; total time=   0.8s\n",
      "[CV] END activation=relu, alpha=0.05, hidden_layer_sizes=(22,), learning_rate=adaptive, solver=adam; total time=   0.7s\n",
      "[CV] END activation=relu, alpha=0.05, hidden_layer_sizes=(22,), learning_rate=adaptive, solver=adam; total time=   0.8s\n",
      "[CV] END activation=relu, alpha=0.05, hidden_layer_sizes=(50, 12), learning_rate=constant, solver=sgd; total time=   1.3s\n",
      "[CV] END activation=relu, alpha=0.05, hidden_layer_sizes=(50, 12), learning_rate=constant, solver=sgd; total time=   1.1s\n",
      "[CV] END activation=relu, alpha=0.05, hidden_layer_sizes=(50, 12), learning_rate=constant, solver=sgd; total time=   1.3s\n",
      "[CV] END activation=relu, alpha=0.05, hidden_layer_sizes=(50, 12), learning_rate=constant, solver=sgd; total time=   1.4s\n",
      "[CV] END activation=relu, alpha=0.05, hidden_layer_sizes=(50, 12), learning_rate=constant, solver=sgd; total time=   0.9s\n",
      "[CV] END activation=relu, alpha=0.05, hidden_layer_sizes=(50, 12), learning_rate=constant, solver=sgd; total time=   1.2s\n",
      "[CV] END activation=relu, alpha=0.05, hidden_layer_sizes=(50, 12), learning_rate=constant, solver=sgd; total time=   1.2s\n",
      "[CV] END activation=relu, alpha=0.05, hidden_layer_sizes=(50, 12), learning_rate=constant, solver=sgd; total time=   1.4s\n"
     ]
    },
    {
     "name": "stderr",
     "output_type": "stream",
     "text": [
      "/Users/arvindtawker/miniconda3/lib/python3.10/site-packages/sklearn/neural_network/_multilayer_perceptron.py:691: ConvergenceWarning: Stochastic Optimizer: Maximum iterations (200) reached and the optimization hasn't converged yet.\n",
      "  warnings.warn(\n"
     ]
    },
    {
     "name": "stdout",
     "output_type": "stream",
     "text": [
      "[CV] END activation=relu, alpha=0.05, hidden_layer_sizes=(50, 12), learning_rate=constant, solver=adam; total time=   1.7s\n",
      "[CV] END activation=relu, alpha=0.05, hidden_layer_sizes=(50, 12), learning_rate=constant, solver=adam; total time=   1.4s\n"
     ]
    },
    {
     "name": "stderr",
     "output_type": "stream",
     "text": [
      "/Users/arvindtawker/miniconda3/lib/python3.10/site-packages/sklearn/neural_network/_multilayer_perceptron.py:691: ConvergenceWarning: Stochastic Optimizer: Maximum iterations (200) reached and the optimization hasn't converged yet.\n",
      "  warnings.warn(\n"
     ]
    },
    {
     "name": "stdout",
     "output_type": "stream",
     "text": [
      "[CV] END activation=relu, alpha=0.05, hidden_layer_sizes=(50, 12), learning_rate=constant, solver=adam; total time=   1.7s\n"
     ]
    },
    {
     "name": "stderr",
     "output_type": "stream",
     "text": [
      "/Users/arvindtawker/miniconda3/lib/python3.10/site-packages/sklearn/neural_network/_multilayer_perceptron.py:691: ConvergenceWarning: Stochastic Optimizer: Maximum iterations (200) reached and the optimization hasn't converged yet.\n",
      "  warnings.warn(\n"
     ]
    },
    {
     "name": "stdout",
     "output_type": "stream",
     "text": [
      "[CV] END activation=relu, alpha=0.05, hidden_layer_sizes=(50, 12), learning_rate=constant, solver=adam; total time=   1.7s\n"
     ]
    },
    {
     "name": "stderr",
     "output_type": "stream",
     "text": [
      "/Users/arvindtawker/miniconda3/lib/python3.10/site-packages/sklearn/neural_network/_multilayer_perceptron.py:691: ConvergenceWarning: Stochastic Optimizer: Maximum iterations (200) reached and the optimization hasn't converged yet.\n",
      "  warnings.warn(\n"
     ]
    },
    {
     "name": "stdout",
     "output_type": "stream",
     "text": [
      "[CV] END activation=relu, alpha=0.05, hidden_layer_sizes=(50, 12), learning_rate=constant, solver=adam; total time=   1.6s\n",
      "[CV] END activation=relu, alpha=0.05, hidden_layer_sizes=(50, 12), learning_rate=constant, solver=adam; total time=   1.4s\n"
     ]
    },
    {
     "name": "stderr",
     "output_type": "stream",
     "text": [
      "/Users/arvindtawker/miniconda3/lib/python3.10/site-packages/sklearn/neural_network/_multilayer_perceptron.py:691: ConvergenceWarning: Stochastic Optimizer: Maximum iterations (200) reached and the optimization hasn't converged yet.\n",
      "  warnings.warn(\n"
     ]
    },
    {
     "name": "stdout",
     "output_type": "stream",
     "text": [
      "[CV] END activation=relu, alpha=0.05, hidden_layer_sizes=(50, 12), learning_rate=constant, solver=adam; total time=   1.6s\n"
     ]
    },
    {
     "name": "stderr",
     "output_type": "stream",
     "text": [
      "/Users/arvindtawker/miniconda3/lib/python3.10/site-packages/sklearn/neural_network/_multilayer_perceptron.py:691: ConvergenceWarning: Stochastic Optimizer: Maximum iterations (200) reached and the optimization hasn't converged yet.\n",
      "  warnings.warn(\n"
     ]
    },
    {
     "name": "stdout",
     "output_type": "stream",
     "text": [
      "[CV] END activation=relu, alpha=0.05, hidden_layer_sizes=(50, 12), learning_rate=constant, solver=adam; total time=   1.8s\n"
     ]
    },
    {
     "name": "stderr",
     "output_type": "stream",
     "text": [
      "/Users/arvindtawker/miniconda3/lib/python3.10/site-packages/sklearn/neural_network/_multilayer_perceptron.py:691: ConvergenceWarning: Stochastic Optimizer: Maximum iterations (200) reached and the optimization hasn't converged yet.\n",
      "  warnings.warn(\n"
     ]
    },
    {
     "name": "stdout",
     "output_type": "stream",
     "text": [
      "[CV] END activation=relu, alpha=0.05, hidden_layer_sizes=(50, 12), learning_rate=adaptive, solver=sgd; total time=   1.6s\n"
     ]
    },
    {
     "name": "stderr",
     "output_type": "stream",
     "text": [
      "/Users/arvindtawker/miniconda3/lib/python3.10/site-packages/sklearn/neural_network/_multilayer_perceptron.py:691: ConvergenceWarning: Stochastic Optimizer: Maximum iterations (200) reached and the optimization hasn't converged yet.\n",
      "  warnings.warn(\n"
     ]
    },
    {
     "name": "stdout",
     "output_type": "stream",
     "text": [
      "[CV] END activation=relu, alpha=0.05, hidden_layer_sizes=(50, 12), learning_rate=adaptive, solver=sgd; total time=   1.5s\n",
      "[CV] END activation=relu, alpha=0.05, hidden_layer_sizes=(50, 12), learning_rate=adaptive, solver=sgd; total time=   1.5s\n"
     ]
    },
    {
     "name": "stderr",
     "output_type": "stream",
     "text": [
      "/Users/arvindtawker/miniconda3/lib/python3.10/site-packages/sklearn/neural_network/_multilayer_perceptron.py:691: ConvergenceWarning: Stochastic Optimizer: Maximum iterations (200) reached and the optimization hasn't converged yet.\n",
      "  warnings.warn(\n"
     ]
    },
    {
     "name": "stdout",
     "output_type": "stream",
     "text": [
      "[CV] END activation=relu, alpha=0.05, hidden_layer_sizes=(50, 12), learning_rate=adaptive, solver=sgd; total time=   1.6s\n"
     ]
    },
    {
     "name": "stderr",
     "output_type": "stream",
     "text": [
      "/Users/arvindtawker/miniconda3/lib/python3.10/site-packages/sklearn/neural_network/_multilayer_perceptron.py:691: ConvergenceWarning: Stochastic Optimizer: Maximum iterations (200) reached and the optimization hasn't converged yet.\n",
      "  warnings.warn(\n"
     ]
    },
    {
     "name": "stdout",
     "output_type": "stream",
     "text": [
      "[CV] END activation=relu, alpha=0.05, hidden_layer_sizes=(50, 12), learning_rate=adaptive, solver=sgd; total time=   1.6s\n",
      "[CV] END activation=relu, alpha=0.05, hidden_layer_sizes=(50, 12), learning_rate=adaptive, solver=sgd; total time=   1.4s\n"
     ]
    },
    {
     "name": "stderr",
     "output_type": "stream",
     "text": [
      "/Users/arvindtawker/miniconda3/lib/python3.10/site-packages/sklearn/neural_network/_multilayer_perceptron.py:691: ConvergenceWarning: Stochastic Optimizer: Maximum iterations (200) reached and the optimization hasn't converged yet.\n",
      "  warnings.warn(\n"
     ]
    },
    {
     "name": "stdout",
     "output_type": "stream",
     "text": [
      "[CV] END activation=relu, alpha=0.05, hidden_layer_sizes=(50, 12), learning_rate=adaptive, solver=sgd; total time=   1.5s\n"
     ]
    },
    {
     "name": "stderr",
     "output_type": "stream",
     "text": [
      "/Users/arvindtawker/miniconda3/lib/python3.10/site-packages/sklearn/neural_network/_multilayer_perceptron.py:691: ConvergenceWarning: Stochastic Optimizer: Maximum iterations (200) reached and the optimization hasn't converged yet.\n",
      "  warnings.warn(\n"
     ]
    },
    {
     "name": "stdout",
     "output_type": "stream",
     "text": [
      "[CV] END activation=relu, alpha=0.05, hidden_layer_sizes=(50, 12), learning_rate=adaptive, solver=sgd; total time=   1.6s\n",
      "[CV] END activation=relu, alpha=0.05, hidden_layer_sizes=(50, 12), learning_rate=adaptive, solver=adam; total time=   1.5s\n"
     ]
    },
    {
     "name": "stderr",
     "output_type": "stream",
     "text": [
      "/Users/arvindtawker/miniconda3/lib/python3.10/site-packages/sklearn/neural_network/_multilayer_perceptron.py:691: ConvergenceWarning: Stochastic Optimizer: Maximum iterations (200) reached and the optimization hasn't converged yet.\n",
      "  warnings.warn(\n"
     ]
    },
    {
     "name": "stdout",
     "output_type": "stream",
     "text": [
      "[CV] END activation=relu, alpha=0.05, hidden_layer_sizes=(50, 12), learning_rate=adaptive, solver=adam; total time=   1.7s\n"
     ]
    },
    {
     "name": "stderr",
     "output_type": "stream",
     "text": [
      "/Users/arvindtawker/miniconda3/lib/python3.10/site-packages/sklearn/neural_network/_multilayer_perceptron.py:691: ConvergenceWarning: Stochastic Optimizer: Maximum iterations (200) reached and the optimization hasn't converged yet.\n",
      "  warnings.warn(\n"
     ]
    },
    {
     "name": "stdout",
     "output_type": "stream",
     "text": [
      "[CV] END activation=relu, alpha=0.05, hidden_layer_sizes=(50, 12), learning_rate=adaptive, solver=adam; total time=   1.8s\n",
      "[CV] END activation=relu, alpha=0.05, hidden_layer_sizes=(50, 12), learning_rate=adaptive, solver=adam; total time=   1.4s\n"
     ]
    },
    {
     "name": "stderr",
     "output_type": "stream",
     "text": [
      "/Users/arvindtawker/miniconda3/lib/python3.10/site-packages/sklearn/neural_network/_multilayer_perceptron.py:691: ConvergenceWarning: Stochastic Optimizer: Maximum iterations (200) reached and the optimization hasn't converged yet.\n",
      "  warnings.warn(\n"
     ]
    },
    {
     "name": "stdout",
     "output_type": "stream",
     "text": [
      "[CV] END activation=relu, alpha=0.05, hidden_layer_sizes=(50, 12), learning_rate=adaptive, solver=adam; total time=   1.6s\n"
     ]
    },
    {
     "name": "stderr",
     "output_type": "stream",
     "text": [
      "/Users/arvindtawker/miniconda3/lib/python3.10/site-packages/sklearn/neural_network/_multilayer_perceptron.py:691: ConvergenceWarning: Stochastic Optimizer: Maximum iterations (200) reached and the optimization hasn't converged yet.\n",
      "  warnings.warn(\n"
     ]
    },
    {
     "name": "stdout",
     "output_type": "stream",
     "text": [
      "[CV] END activation=relu, alpha=0.05, hidden_layer_sizes=(50, 12), learning_rate=adaptive, solver=adam; total time=   1.7s\n"
     ]
    },
    {
     "name": "stderr",
     "output_type": "stream",
     "text": [
      "/Users/arvindtawker/miniconda3/lib/python3.10/site-packages/sklearn/neural_network/_multilayer_perceptron.py:691: ConvergenceWarning: Stochastic Optimizer: Maximum iterations (200) reached and the optimization hasn't converged yet.\n",
      "  warnings.warn(\n"
     ]
    },
    {
     "name": "stdout",
     "output_type": "stream",
     "text": [
      "[CV] END activation=relu, alpha=0.05, hidden_layer_sizes=(50, 12), learning_rate=adaptive, solver=adam; total time=   1.7s\n"
     ]
    },
    {
     "name": "stderr",
     "output_type": "stream",
     "text": [
      "/Users/arvindtawker/miniconda3/lib/python3.10/site-packages/sklearn/neural_network/_multilayer_perceptron.py:691: ConvergenceWarning: Stochastic Optimizer: Maximum iterations (200) reached and the optimization hasn't converged yet.\n",
      "  warnings.warn(\n"
     ]
    },
    {
     "name": "stdout",
     "output_type": "stream",
     "text": [
      "[CV] END activation=relu, alpha=0.05, hidden_layer_sizes=(50, 12), learning_rate=adaptive, solver=adam; total time=   1.7s\n",
      "[CV] END activation=relu, alpha=0.05, hidden_layer_sizes=(100, 50, 25), learning_rate=constant, solver=sgd; total time=   7.5s\n",
      "[CV] END activation=relu, alpha=0.05, hidden_layer_sizes=(100, 50, 25), learning_rate=constant, solver=sgd; total time=   6.9s\n",
      "[CV] END activation=relu, alpha=0.05, hidden_layer_sizes=(100, 50, 25), learning_rate=constant, solver=sgd; total time=   6.5s\n",
      "[CV] END activation=relu, alpha=0.05, hidden_layer_sizes=(100, 50, 25), learning_rate=constant, solver=sgd; total time=   7.4s\n",
      "[CV] END activation=relu, alpha=0.05, hidden_layer_sizes=(100, 50, 25), learning_rate=constant, solver=sgd; total time=   6.3s\n",
      "[CV] END activation=relu, alpha=0.05, hidden_layer_sizes=(100, 50, 25), learning_rate=constant, solver=sgd; total time=   5.7s\n",
      "[CV] END activation=relu, alpha=0.05, hidden_layer_sizes=(100, 50, 25), learning_rate=constant, solver=sgd; total time=   9.7s\n",
      "[CV] END activation=relu, alpha=0.05, hidden_layer_sizes=(100, 50, 25), learning_rate=constant, solver=sgd; total time=   7.3s\n",
      "[CV] END activation=relu, alpha=0.05, hidden_layer_sizes=(100, 50, 25), learning_rate=constant, solver=adam; total time=   9.2s\n"
     ]
    },
    {
     "name": "stderr",
     "output_type": "stream",
     "text": [
      "/Users/arvindtawker/miniconda3/lib/python3.10/site-packages/sklearn/neural_network/_multilayer_perceptron.py:691: ConvergenceWarning: Stochastic Optimizer: Maximum iterations (200) reached and the optimization hasn't converged yet.\n",
      "  warnings.warn(\n"
     ]
    },
    {
     "name": "stdout",
     "output_type": "stream",
     "text": [
      "[CV] END activation=relu, alpha=0.05, hidden_layer_sizes=(100, 50, 25), learning_rate=constant, solver=adam; total time=   9.9s\n"
     ]
    },
    {
     "name": "stderr",
     "output_type": "stream",
     "text": [
      "/Users/arvindtawker/miniconda3/lib/python3.10/site-packages/sklearn/neural_network/_multilayer_perceptron.py:691: ConvergenceWarning: Stochastic Optimizer: Maximum iterations (200) reached and the optimization hasn't converged yet.\n",
      "  warnings.warn(\n"
     ]
    },
    {
     "name": "stdout",
     "output_type": "stream",
     "text": [
      "[CV] END activation=relu, alpha=0.05, hidden_layer_sizes=(100, 50, 25), learning_rate=constant, solver=adam; total time=   9.7s\n"
     ]
    },
    {
     "name": "stderr",
     "output_type": "stream",
     "text": [
      "/Users/arvindtawker/miniconda3/lib/python3.10/site-packages/sklearn/neural_network/_multilayer_perceptron.py:691: ConvergenceWarning: Stochastic Optimizer: Maximum iterations (200) reached and the optimization hasn't converged yet.\n",
      "  warnings.warn(\n"
     ]
    },
    {
     "name": "stdout",
     "output_type": "stream",
     "text": [
      "[CV] END activation=relu, alpha=0.05, hidden_layer_sizes=(100, 50, 25), learning_rate=constant, solver=adam; total time=  17.6s\n"
     ]
    },
    {
     "name": "stderr",
     "output_type": "stream",
     "text": [
      "/Users/arvindtawker/miniconda3/lib/python3.10/site-packages/sklearn/neural_network/_multilayer_perceptron.py:691: ConvergenceWarning: Stochastic Optimizer: Maximum iterations (200) reached and the optimization hasn't converged yet.\n",
      "  warnings.warn(\n"
     ]
    },
    {
     "name": "stdout",
     "output_type": "stream",
     "text": [
      "[CV] END activation=relu, alpha=0.05, hidden_layer_sizes=(100, 50, 25), learning_rate=constant, solver=adam; total time=  12.6s\n"
     ]
    },
    {
     "name": "stderr",
     "output_type": "stream",
     "text": [
      "/Users/arvindtawker/miniconda3/lib/python3.10/site-packages/sklearn/neural_network/_multilayer_perceptron.py:691: ConvergenceWarning: Stochastic Optimizer: Maximum iterations (200) reached and the optimization hasn't converged yet.\n",
      "  warnings.warn(\n"
     ]
    },
    {
     "name": "stdout",
     "output_type": "stream",
     "text": [
      "[CV] END activation=relu, alpha=0.05, hidden_layer_sizes=(100, 50, 25), learning_rate=constant, solver=adam; total time=  10.5s\n",
      "[CV] END activation=relu, alpha=0.05, hidden_layer_sizes=(100, 50, 25), learning_rate=constant, solver=adam; total time=   7.8s\n",
      "[CV] END activation=relu, alpha=0.05, hidden_layer_sizes=(100, 50, 25), learning_rate=constant, solver=adam; total time=   7.2s\n"
     ]
    },
    {
     "name": "stderr",
     "output_type": "stream",
     "text": [
      "/Users/arvindtawker/miniconda3/lib/python3.10/site-packages/sklearn/neural_network/_multilayer_perceptron.py:691: ConvergenceWarning: Stochastic Optimizer: Maximum iterations (200) reached and the optimization hasn't converged yet.\n",
      "  warnings.warn(\n"
     ]
    },
    {
     "name": "stdout",
     "output_type": "stream",
     "text": [
      "[CV] END activation=relu, alpha=0.05, hidden_layer_sizes=(100, 50, 25), learning_rate=adaptive, solver=sgd; total time=   8.4s\n"
     ]
    },
    {
     "name": "stderr",
     "output_type": "stream",
     "text": [
      "/Users/arvindtawker/miniconda3/lib/python3.10/site-packages/sklearn/neural_network/_multilayer_perceptron.py:691: ConvergenceWarning: Stochastic Optimizer: Maximum iterations (200) reached and the optimization hasn't converged yet.\n",
      "  warnings.warn(\n"
     ]
    },
    {
     "name": "stdout",
     "output_type": "stream",
     "text": [
      "[CV] END activation=relu, alpha=0.05, hidden_layer_sizes=(100, 50, 25), learning_rate=adaptive, solver=sgd; total time=   7.8s\n"
     ]
    },
    {
     "name": "stderr",
     "output_type": "stream",
     "text": [
      "/Users/arvindtawker/miniconda3/lib/python3.10/site-packages/sklearn/neural_network/_multilayer_perceptron.py:691: ConvergenceWarning: Stochastic Optimizer: Maximum iterations (200) reached and the optimization hasn't converged yet.\n",
      "  warnings.warn(\n"
     ]
    },
    {
     "name": "stdout",
     "output_type": "stream",
     "text": [
      "[CV] END activation=relu, alpha=0.05, hidden_layer_sizes=(100, 50, 25), learning_rate=adaptive, solver=sgd; total time=   8.3s\n"
     ]
    },
    {
     "name": "stderr",
     "output_type": "stream",
     "text": [
      "/Users/arvindtawker/miniconda3/lib/python3.10/site-packages/sklearn/neural_network/_multilayer_perceptron.py:691: ConvergenceWarning: Stochastic Optimizer: Maximum iterations (200) reached and the optimization hasn't converged yet.\n",
      "  warnings.warn(\n"
     ]
    },
    {
     "name": "stdout",
     "output_type": "stream",
     "text": [
      "[CV] END activation=relu, alpha=0.05, hidden_layer_sizes=(100, 50, 25), learning_rate=adaptive, solver=sgd; total time=   8.0s\n"
     ]
    },
    {
     "name": "stderr",
     "output_type": "stream",
     "text": [
      "/Users/arvindtawker/miniconda3/lib/python3.10/site-packages/sklearn/neural_network/_multilayer_perceptron.py:691: ConvergenceWarning: Stochastic Optimizer: Maximum iterations (200) reached and the optimization hasn't converged yet.\n",
      "  warnings.warn(\n"
     ]
    },
    {
     "name": "stdout",
     "output_type": "stream",
     "text": [
      "[CV] END activation=relu, alpha=0.05, hidden_layer_sizes=(100, 50, 25), learning_rate=adaptive, solver=sgd; total time=   8.0s\n",
      "[CV] END activation=relu, alpha=0.05, hidden_layer_sizes=(100, 50, 25), learning_rate=adaptive, solver=sgd; total time=   8.2s\n",
      "[CV] END activation=relu, alpha=0.05, hidden_layer_sizes=(100, 50, 25), learning_rate=adaptive, solver=sgd; total time=   7.9s\n",
      "[CV] END activation=relu, alpha=0.05, hidden_layer_sizes=(100, 50, 25), learning_rate=adaptive, solver=sgd; total time=   7.2s\n"
     ]
    },
    {
     "name": "stderr",
     "output_type": "stream",
     "text": [
      "/Users/arvindtawker/miniconda3/lib/python3.10/site-packages/sklearn/neural_network/_multilayer_perceptron.py:691: ConvergenceWarning: Stochastic Optimizer: Maximum iterations (200) reached and the optimization hasn't converged yet.\n",
      "  warnings.warn(\n"
     ]
    },
    {
     "name": "stdout",
     "output_type": "stream",
     "text": [
      "[CV] END activation=relu, alpha=0.05, hidden_layer_sizes=(100, 50, 25), learning_rate=adaptive, solver=adam; total time=   8.5s\n"
     ]
    },
    {
     "name": "stderr",
     "output_type": "stream",
     "text": [
      "/Users/arvindtawker/miniconda3/lib/python3.10/site-packages/sklearn/neural_network/_multilayer_perceptron.py:691: ConvergenceWarning: Stochastic Optimizer: Maximum iterations (200) reached and the optimization hasn't converged yet.\n",
      "  warnings.warn(\n"
     ]
    },
    {
     "name": "stdout",
     "output_type": "stream",
     "text": [
      "[CV] END activation=relu, alpha=0.05, hidden_layer_sizes=(100, 50, 25), learning_rate=adaptive, solver=adam; total time=   8.6s\n",
      "[CV] END activation=relu, alpha=0.05, hidden_layer_sizes=(100, 50, 25), learning_rate=adaptive, solver=adam; total time=   7.0s\n",
      "[CV] END activation=relu, alpha=0.05, hidden_layer_sizes=(100, 50, 25), learning_rate=adaptive, solver=adam; total time=   7.4s\n",
      "[CV] END activation=relu, alpha=0.05, hidden_layer_sizes=(100, 50, 25), learning_rate=adaptive, solver=adam; total time=   8.5s\n"
     ]
    },
    {
     "name": "stderr",
     "output_type": "stream",
     "text": [
      "/Users/arvindtawker/miniconda3/lib/python3.10/site-packages/sklearn/neural_network/_multilayer_perceptron.py:691: ConvergenceWarning: Stochastic Optimizer: Maximum iterations (200) reached and the optimization hasn't converged yet.\n",
      "  warnings.warn(\n"
     ]
    },
    {
     "name": "stdout",
     "output_type": "stream",
     "text": [
      "[CV] END activation=relu, alpha=0.05, hidden_layer_sizes=(100, 50, 25), learning_rate=adaptive, solver=adam; total time=   8.2s\n"
     ]
    },
    {
     "name": "stderr",
     "output_type": "stream",
     "text": [
      "/Users/arvindtawker/miniconda3/lib/python3.10/site-packages/sklearn/neural_network/_multilayer_perceptron.py:691: ConvergenceWarning: Stochastic Optimizer: Maximum iterations (200) reached and the optimization hasn't converged yet.\n",
      "  warnings.warn(\n"
     ]
    },
    {
     "name": "stdout",
     "output_type": "stream",
     "text": [
      "[CV] END activation=relu, alpha=0.05, hidden_layer_sizes=(100, 50, 25), learning_rate=adaptive, solver=adam; total time=   8.3s\n",
      "[CV] END activation=relu, alpha=0.05, hidden_layer_sizes=(100, 50, 25), learning_rate=adaptive, solver=adam; total time=  11.4s\n",
      "[CV] END activation=logistic, alpha=0.0001, hidden_layer_sizes=(22,), learning_rate=constant, solver=sgd; total time=   0.7s\n",
      "[CV] END activation=logistic, alpha=0.0001, hidden_layer_sizes=(22,), learning_rate=constant, solver=sgd; total time=   0.6s\n",
      "[CV] END activation=logistic, alpha=0.0001, hidden_layer_sizes=(22,), learning_rate=constant, solver=sgd; total time=   0.6s\n",
      "[CV] END activation=logistic, alpha=0.0001, hidden_layer_sizes=(22,), learning_rate=constant, solver=sgd; total time=   0.6s\n",
      "[CV] END activation=logistic, alpha=0.0001, hidden_layer_sizes=(22,), learning_rate=constant, solver=sgd; total time=   0.6s\n",
      "[CV] END activation=logistic, alpha=0.0001, hidden_layer_sizes=(22,), learning_rate=constant, solver=sgd; total time=   0.7s\n",
      "[CV] END activation=logistic, alpha=0.0001, hidden_layer_sizes=(22,), learning_rate=constant, solver=sgd; total time=   0.7s\n",
      "[CV] END activation=logistic, alpha=0.0001, hidden_layer_sizes=(22,), learning_rate=constant, solver=sgd; total time=   0.7s\n",
      "[CV] END activation=logistic, alpha=0.0001, hidden_layer_sizes=(22,), learning_rate=constant, solver=adam; total time=   0.5s\n",
      "[CV] END activation=logistic, alpha=0.0001, hidden_layer_sizes=(22,), learning_rate=constant, solver=adam; total time=   0.5s\n",
      "[CV] END activation=logistic, alpha=0.0001, hidden_layer_sizes=(22,), learning_rate=constant, solver=adam; total time=   0.5s\n",
      "[CV] END activation=logistic, alpha=0.0001, hidden_layer_sizes=(22,), learning_rate=constant, solver=adam; total time=   0.6s\n",
      "[CV] END activation=logistic, alpha=0.0001, hidden_layer_sizes=(22,), learning_rate=constant, solver=adam; total time=   0.6s\n",
      "[CV] END activation=logistic, alpha=0.0001, hidden_layer_sizes=(22,), learning_rate=constant, solver=adam; total time=   0.5s\n",
      "[CV] END activation=logistic, alpha=0.0001, hidden_layer_sizes=(22,), learning_rate=constant, solver=adam; total time=   0.5s\n",
      "[CV] END activation=logistic, alpha=0.0001, hidden_layer_sizes=(22,), learning_rate=constant, solver=adam; total time=   0.7s\n",
      "[CV] END activation=logistic, alpha=0.0001, hidden_layer_sizes=(22,), learning_rate=adaptive, solver=sgd; total time=   0.9s\n"
     ]
    },
    {
     "name": "stderr",
     "output_type": "stream",
     "text": [
      "/Users/arvindtawker/miniconda3/lib/python3.10/site-packages/sklearn/neural_network/_multilayer_perceptron.py:691: ConvergenceWarning: Stochastic Optimizer: Maximum iterations (200) reached and the optimization hasn't converged yet.\n",
      "  warnings.warn(\n"
     ]
    },
    {
     "name": "stdout",
     "output_type": "stream",
     "text": [
      "[CV] END activation=logistic, alpha=0.0001, hidden_layer_sizes=(22,), learning_rate=adaptive, solver=sgd; total time=   0.9s\n"
     ]
    },
    {
     "name": "stderr",
     "output_type": "stream",
     "text": [
      "/Users/arvindtawker/miniconda3/lib/python3.10/site-packages/sklearn/neural_network/_multilayer_perceptron.py:691: ConvergenceWarning: Stochastic Optimizer: Maximum iterations (200) reached and the optimization hasn't converged yet.\n",
      "  warnings.warn(\n"
     ]
    },
    {
     "name": "stdout",
     "output_type": "stream",
     "text": [
      "[CV] END activation=logistic, alpha=0.0001, hidden_layer_sizes=(22,), learning_rate=adaptive, solver=sgd; total time=   0.9s\n",
      "[CV] END activation=logistic, alpha=0.0001, hidden_layer_sizes=(22,), learning_rate=adaptive, solver=sgd; total time=   0.8s\n",
      "[CV] END activation=logistic, alpha=0.0001, hidden_layer_sizes=(22,), learning_rate=adaptive, solver=sgd; total time=   0.9s\n",
      "[CV] END activation=logistic, alpha=0.0001, hidden_layer_sizes=(22,), learning_rate=adaptive, solver=sgd; total time=   0.8s\n",
      "[CV] END activation=logistic, alpha=0.0001, hidden_layer_sizes=(22,), learning_rate=adaptive, solver=sgd; total time=   0.9s\n",
      "[CV] END activation=logistic, alpha=0.0001, hidden_layer_sizes=(22,), learning_rate=adaptive, solver=sgd; total time=   0.9s\n",
      "[CV] END activation=logistic, alpha=0.0001, hidden_layer_sizes=(22,), learning_rate=adaptive, solver=adam; total time=   0.5s\n",
      "[CV] END activation=logistic, alpha=0.0001, hidden_layer_sizes=(22,), learning_rate=adaptive, solver=adam; total time=   0.6s\n",
      "[CV] END activation=logistic, alpha=0.0001, hidden_layer_sizes=(22,), learning_rate=adaptive, solver=adam; total time=   0.6s\n",
      "[CV] END activation=logistic, alpha=0.0001, hidden_layer_sizes=(22,), learning_rate=adaptive, solver=adam; total time=   0.8s\n",
      "[CV] END activation=logistic, alpha=0.0001, hidden_layer_sizes=(22,), learning_rate=adaptive, solver=adam; total time=   0.7s\n",
      "[CV] END activation=logistic, alpha=0.0001, hidden_layer_sizes=(22,), learning_rate=adaptive, solver=adam; total time=   0.6s\n",
      "[CV] END activation=logistic, alpha=0.0001, hidden_layer_sizes=(22,), learning_rate=adaptive, solver=adam; total time=   0.7s\n",
      "[CV] END activation=logistic, alpha=0.0001, hidden_layer_sizes=(22,), learning_rate=adaptive, solver=adam; total time=   0.6s\n",
      "[CV] END activation=logistic, alpha=0.0001, hidden_layer_sizes=(50, 12), learning_rate=constant, solver=sgd; total time=   0.6s\n",
      "[CV] END activation=logistic, alpha=0.0001, hidden_layer_sizes=(50, 12), learning_rate=constant, solver=sgd; total time=   0.6s\n",
      "[CV] END activation=logistic, alpha=0.0001, hidden_layer_sizes=(50, 12), learning_rate=constant, solver=sgd; total time=   0.7s\n",
      "[CV] END activation=logistic, alpha=0.0001, hidden_layer_sizes=(50, 12), learning_rate=constant, solver=sgd; total time=   0.7s\n",
      "[CV] END activation=logistic, alpha=0.0001, hidden_layer_sizes=(50, 12), learning_rate=constant, solver=sgd; total time=   0.6s\n",
      "[CV] END activation=logistic, alpha=0.0001, hidden_layer_sizes=(50, 12), learning_rate=constant, solver=sgd; total time=   0.7s\n",
      "[CV] END activation=logistic, alpha=0.0001, hidden_layer_sizes=(50, 12), learning_rate=constant, solver=sgd; total time=   0.6s\n",
      "[CV] END activation=logistic, alpha=0.0001, hidden_layer_sizes=(50, 12), learning_rate=constant, solver=sgd; total time=   0.6s\n",
      "[CV] END activation=logistic, alpha=0.0001, hidden_layer_sizes=(50, 12), learning_rate=constant, solver=adam; total time=   1.1s\n",
      "[CV] END activation=logistic, alpha=0.0001, hidden_layer_sizes=(50, 12), learning_rate=constant, solver=adam; total time=   1.5s\n",
      "[CV] END activation=logistic, alpha=0.0001, hidden_layer_sizes=(50, 12), learning_rate=constant, solver=adam; total time=   1.6s\n",
      "[CV] END activation=logistic, alpha=0.0001, hidden_layer_sizes=(50, 12), learning_rate=constant, solver=adam; total time=   1.0s\n",
      "[CV] END activation=logistic, alpha=0.0001, hidden_layer_sizes=(50, 12), learning_rate=constant, solver=adam; total time=   1.5s\n"
     ]
    },
    {
     "name": "stderr",
     "output_type": "stream",
     "text": [
      "/Users/arvindtawker/miniconda3/lib/python3.10/site-packages/sklearn/neural_network/_multilayer_perceptron.py:691: ConvergenceWarning: Stochastic Optimizer: Maximum iterations (200) reached and the optimization hasn't converged yet.\n",
      "  warnings.warn(\n"
     ]
    },
    {
     "name": "stdout",
     "output_type": "stream",
     "text": [
      "[CV] END activation=logistic, alpha=0.0001, hidden_layer_sizes=(50, 12), learning_rate=constant, solver=adam; total time=   1.7s\n",
      "[CV] END activation=logistic, alpha=0.0001, hidden_layer_sizes=(50, 12), learning_rate=constant, solver=adam; total time=   1.3s\n",
      "[CV] END activation=logistic, alpha=0.0001, hidden_layer_sizes=(50, 12), learning_rate=constant, solver=adam; total time=   1.5s\n",
      "[CV] END activation=logistic, alpha=0.0001, hidden_layer_sizes=(50, 12), learning_rate=adaptive, solver=sgd; total time=   1.2s\n",
      "[CV] END activation=logistic, alpha=0.0001, hidden_layer_sizes=(50, 12), learning_rate=adaptive, solver=sgd; total time=   1.2s\n",
      "[CV] END activation=logistic, alpha=0.0001, hidden_layer_sizes=(50, 12), learning_rate=adaptive, solver=sgd; total time=   1.1s\n",
      "[CV] END activation=logistic, alpha=0.0001, hidden_layer_sizes=(50, 12), learning_rate=adaptive, solver=sgd; total time=   1.1s\n",
      "[CV] END activation=logistic, alpha=0.0001, hidden_layer_sizes=(50, 12), learning_rate=adaptive, solver=sgd; total time=   1.0s\n",
      "[CV] END activation=logistic, alpha=0.0001, hidden_layer_sizes=(50, 12), learning_rate=adaptive, solver=sgd; total time=   1.0s\n",
      "[CV] END activation=logistic, alpha=0.0001, hidden_layer_sizes=(50, 12), learning_rate=adaptive, solver=sgd; total time=   1.0s\n",
      "[CV] END activation=logistic, alpha=0.0001, hidden_layer_sizes=(50, 12), learning_rate=adaptive, solver=sgd; total time=   1.0s\n",
      "[CV] END activation=logistic, alpha=0.0001, hidden_layer_sizes=(50, 12), learning_rate=adaptive, solver=adam; total time=   1.4s\n",
      "[CV] END activation=logistic, alpha=0.0001, hidden_layer_sizes=(50, 12), learning_rate=adaptive, solver=adam; total time=   1.3s\n",
      "[CV] END activation=logistic, alpha=0.0001, hidden_layer_sizes=(50, 12), learning_rate=adaptive, solver=adam; total time=   1.3s\n",
      "[CV] END activation=logistic, alpha=0.0001, hidden_layer_sizes=(50, 12), learning_rate=adaptive, solver=adam; total time=   1.5s\n",
      "[CV] END activation=logistic, alpha=0.0001, hidden_layer_sizes=(50, 12), learning_rate=adaptive, solver=adam; total time=   1.7s\n",
      "[CV] END activation=logistic, alpha=0.0001, hidden_layer_sizes=(50, 12), learning_rate=adaptive, solver=adam; total time=   1.8s\n"
     ]
    },
    {
     "name": "stderr",
     "output_type": "stream",
     "text": [
      "/Users/arvindtawker/miniconda3/lib/python3.10/site-packages/sklearn/neural_network/_multilayer_perceptron.py:691: ConvergenceWarning: Stochastic Optimizer: Maximum iterations (200) reached and the optimization hasn't converged yet.\n",
      "  warnings.warn(\n"
     ]
    },
    {
     "name": "stdout",
     "output_type": "stream",
     "text": [
      "[CV] END activation=logistic, alpha=0.0001, hidden_layer_sizes=(50, 12), learning_rate=adaptive, solver=adam; total time=   1.9s\n",
      "[CV] END activation=logistic, alpha=0.0001, hidden_layer_sizes=(50, 12), learning_rate=adaptive, solver=adam; total time=   1.3s\n",
      "[CV] END activation=logistic, alpha=0.0001, hidden_layer_sizes=(100, 50, 25), learning_rate=constant, solver=sgd; total time=   1.6s\n",
      "[CV] END activation=logistic, alpha=0.0001, hidden_layer_sizes=(100, 50, 25), learning_rate=constant, solver=sgd; total time=   1.9s\n",
      "[CV] END activation=logistic, alpha=0.0001, hidden_layer_sizes=(100, 50, 25), learning_rate=constant, solver=sgd; total time=   2.5s\n",
      "[CV] END activation=logistic, alpha=0.0001, hidden_layer_sizes=(100, 50, 25), learning_rate=constant, solver=sgd; total time=   2.5s\n",
      "[CV] END activation=logistic, alpha=0.0001, hidden_layer_sizes=(100, 50, 25), learning_rate=constant, solver=sgd; total time=   2.0s\n",
      "[CV] END activation=logistic, alpha=0.0001, hidden_layer_sizes=(100, 50, 25), learning_rate=constant, solver=sgd; total time=   2.1s\n",
      "[CV] END activation=logistic, alpha=0.0001, hidden_layer_sizes=(100, 50, 25), learning_rate=constant, solver=sgd; total time=   2.1s\n",
      "[CV] END activation=logistic, alpha=0.0001, hidden_layer_sizes=(100, 50, 25), learning_rate=constant, solver=sgd; total time=   2.1s\n",
      "[CV] END activation=logistic, alpha=0.0001, hidden_layer_sizes=(100, 50, 25), learning_rate=constant, solver=adam; total time=   6.2s\n",
      "[CV] END activation=logistic, alpha=0.0001, hidden_layer_sizes=(100, 50, 25), learning_rate=constant, solver=adam; total time=   5.8s\n",
      "[CV] END activation=logistic, alpha=0.0001, hidden_layer_sizes=(100, 50, 25), learning_rate=constant, solver=adam; total time=   6.6s\n",
      "[CV] END activation=logistic, alpha=0.0001, hidden_layer_sizes=(100, 50, 25), learning_rate=constant, solver=adam; total time=   6.7s\n",
      "[CV] END activation=logistic, alpha=0.0001, hidden_layer_sizes=(100, 50, 25), learning_rate=constant, solver=adam; total time=   8.5s\n",
      "[CV] END activation=logistic, alpha=0.0001, hidden_layer_sizes=(100, 50, 25), learning_rate=constant, solver=adam; total time=   6.3s\n",
      "[CV] END activation=logistic, alpha=0.0001, hidden_layer_sizes=(100, 50, 25), learning_rate=constant, solver=adam; total time=   5.4s\n",
      "[CV] END activation=logistic, alpha=0.0001, hidden_layer_sizes=(100, 50, 25), learning_rate=constant, solver=adam; total time=   4.9s\n",
      "[CV] END activation=logistic, alpha=0.0001, hidden_layer_sizes=(100, 50, 25), learning_rate=adaptive, solver=sgd; total time=   4.8s\n",
      "[CV] END activation=logistic, alpha=0.0001, hidden_layer_sizes=(100, 50, 25), learning_rate=adaptive, solver=sgd; total time=   4.5s\n",
      "[CV] END activation=logistic, alpha=0.0001, hidden_layer_sizes=(100, 50, 25), learning_rate=adaptive, solver=sgd; total time=   4.6s\n",
      "[CV] END activation=logistic, alpha=0.0001, hidden_layer_sizes=(100, 50, 25), learning_rate=adaptive, solver=sgd; total time=   4.4s\n",
      "[CV] END activation=logistic, alpha=0.0001, hidden_layer_sizes=(100, 50, 25), learning_rate=adaptive, solver=sgd; total time=   4.4s\n",
      "[CV] END activation=logistic, alpha=0.0001, hidden_layer_sizes=(100, 50, 25), learning_rate=adaptive, solver=sgd; total time=   4.3s\n",
      "[CV] END activation=logistic, alpha=0.0001, hidden_layer_sizes=(100, 50, 25), learning_rate=adaptive, solver=sgd; total time=   4.7s\n",
      "[CV] END activation=logistic, alpha=0.0001, hidden_layer_sizes=(100, 50, 25), learning_rate=adaptive, solver=sgd; total time=   4.6s\n",
      "[CV] END activation=logistic, alpha=0.0001, hidden_layer_sizes=(100, 50, 25), learning_rate=adaptive, solver=adam; total time=   4.8s\n",
      "[CV] END activation=logistic, alpha=0.0001, hidden_layer_sizes=(100, 50, 25), learning_rate=adaptive, solver=adam; total time=   8.8s\n",
      "[CV] END activation=logistic, alpha=0.0001, hidden_layer_sizes=(100, 50, 25), learning_rate=adaptive, solver=adam; total time=   8.3s\n",
      "[CV] END activation=logistic, alpha=0.0001, hidden_layer_sizes=(100, 50, 25), learning_rate=adaptive, solver=adam; total time=   7.9s\n"
     ]
    },
    {
     "name": "stderr",
     "output_type": "stream",
     "text": [
      "/Users/arvindtawker/miniconda3/lib/python3.10/site-packages/sklearn/neural_network/_multilayer_perceptron.py:691: ConvergenceWarning: Stochastic Optimizer: Maximum iterations (200) reached and the optimization hasn't converged yet.\n",
      "  warnings.warn(\n"
     ]
    },
    {
     "name": "stdout",
     "output_type": "stream",
     "text": [
      "[CV] END activation=logistic, alpha=0.0001, hidden_layer_sizes=(100, 50, 25), learning_rate=adaptive, solver=adam; total time=  11.2s\n",
      "[CV] END activation=logistic, alpha=0.0001, hidden_layer_sizes=(100, 50, 25), learning_rate=adaptive, solver=adam; total time=   6.7s\n",
      "[CV] END activation=logistic, alpha=0.0001, hidden_layer_sizes=(100, 50, 25), learning_rate=adaptive, solver=adam; total time=   5.7s\n"
     ]
    },
    {
     "name": "stderr",
     "output_type": "stream",
     "text": [
      "/Users/arvindtawker/miniconda3/lib/python3.10/site-packages/sklearn/neural_network/_multilayer_perceptron.py:691: ConvergenceWarning: Stochastic Optimizer: Maximum iterations (200) reached and the optimization hasn't converged yet.\n",
      "  warnings.warn(\n"
     ]
    },
    {
     "name": "stdout",
     "output_type": "stream",
     "text": [
      "[CV] END activation=logistic, alpha=0.0001, hidden_layer_sizes=(100, 50, 25), learning_rate=adaptive, solver=adam; total time=   9.0s\n",
      "[CV] END activation=logistic, alpha=0.05, hidden_layer_sizes=(22,), learning_rate=constant, solver=sgd; total time=   0.7s\n",
      "[CV] END activation=logistic, alpha=0.05, hidden_layer_sizes=(22,), learning_rate=constant, solver=sgd; total time=   0.7s\n",
      "[CV] END activation=logistic, alpha=0.05, hidden_layer_sizes=(22,), learning_rate=constant, solver=sgd; total time=   0.7s\n",
      "[CV] END activation=logistic, alpha=0.05, hidden_layer_sizes=(22,), learning_rate=constant, solver=sgd; total time=   0.7s\n",
      "[CV] END activation=logistic, alpha=0.05, hidden_layer_sizes=(22,), learning_rate=constant, solver=sgd; total time=   0.6s\n",
      "[CV] END activation=logistic, alpha=0.05, hidden_layer_sizes=(22,), learning_rate=constant, solver=sgd; total time=   0.7s\n",
      "[CV] END activation=logistic, alpha=0.05, hidden_layer_sizes=(22,), learning_rate=constant, solver=sgd; total time=   0.7s\n",
      "[CV] END activation=logistic, alpha=0.05, hidden_layer_sizes=(22,), learning_rate=constant, solver=sgd; total time=   0.7s\n",
      "[CV] END activation=logistic, alpha=0.05, hidden_layer_sizes=(22,), learning_rate=constant, solver=adam; total time=   0.5s\n",
      "[CV] END activation=logistic, alpha=0.05, hidden_layer_sizes=(22,), learning_rate=constant, solver=adam; total time=   0.5s\n",
      "[CV] END activation=logistic, alpha=0.05, hidden_layer_sizes=(22,), learning_rate=constant, solver=adam; total time=   0.6s\n",
      "[CV] END activation=logistic, alpha=0.05, hidden_layer_sizes=(22,), learning_rate=constant, solver=adam; total time=   0.5s\n",
      "[CV] END activation=logistic, alpha=0.05, hidden_layer_sizes=(22,), learning_rate=constant, solver=adam; total time=   0.6s\n",
      "[CV] END activation=logistic, alpha=0.05, hidden_layer_sizes=(22,), learning_rate=constant, solver=adam; total time=   0.4s\n",
      "[CV] END activation=logistic, alpha=0.05, hidden_layer_sizes=(22,), learning_rate=constant, solver=adam; total time=   0.5s\n",
      "[CV] END activation=logistic, alpha=0.05, hidden_layer_sizes=(22,), learning_rate=constant, solver=adam; total time=   0.5s\n"
     ]
    },
    {
     "name": "stderr",
     "output_type": "stream",
     "text": [
      "/Users/arvindtawker/miniconda3/lib/python3.10/site-packages/sklearn/neural_network/_multilayer_perceptron.py:691: ConvergenceWarning: Stochastic Optimizer: Maximum iterations (200) reached and the optimization hasn't converged yet.\n",
      "  warnings.warn(\n"
     ]
    },
    {
     "name": "stdout",
     "output_type": "stream",
     "text": [
      "[CV] END activation=logistic, alpha=0.05, hidden_layer_sizes=(22,), learning_rate=adaptive, solver=sgd; total time=   0.9s\n"
     ]
    },
    {
     "name": "stderr",
     "output_type": "stream",
     "text": [
      "/Users/arvindtawker/miniconda3/lib/python3.10/site-packages/sklearn/neural_network/_multilayer_perceptron.py:691: ConvergenceWarning: Stochastic Optimizer: Maximum iterations (200) reached and the optimization hasn't converged yet.\n",
      "  warnings.warn(\n"
     ]
    },
    {
     "name": "stdout",
     "output_type": "stream",
     "text": [
      "[CV] END activation=logistic, alpha=0.05, hidden_layer_sizes=(22,), learning_rate=adaptive, solver=sgd; total time=   0.9s\n",
      "[CV] END activation=logistic, alpha=0.05, hidden_layer_sizes=(22,), learning_rate=adaptive, solver=sgd; total time=   0.9s\n",
      "[CV] END activation=logistic, alpha=0.05, hidden_layer_sizes=(22,), learning_rate=adaptive, solver=sgd; total time=   0.9s\n"
     ]
    },
    {
     "name": "stderr",
     "output_type": "stream",
     "text": [
      "/Users/arvindtawker/miniconda3/lib/python3.10/site-packages/sklearn/neural_network/_multilayer_perceptron.py:691: ConvergenceWarning: Stochastic Optimizer: Maximum iterations (200) reached and the optimization hasn't converged yet.\n",
      "  warnings.warn(\n"
     ]
    },
    {
     "name": "stdout",
     "output_type": "stream",
     "text": [
      "[CV] END activation=logistic, alpha=0.05, hidden_layer_sizes=(22,), learning_rate=adaptive, solver=sgd; total time=   0.9s\n"
     ]
    },
    {
     "name": "stderr",
     "output_type": "stream",
     "text": [
      "/Users/arvindtawker/miniconda3/lib/python3.10/site-packages/sklearn/neural_network/_multilayer_perceptron.py:691: ConvergenceWarning: Stochastic Optimizer: Maximum iterations (200) reached and the optimization hasn't converged yet.\n",
      "  warnings.warn(\n"
     ]
    },
    {
     "name": "stdout",
     "output_type": "stream",
     "text": [
      "[CV] END activation=logistic, alpha=0.05, hidden_layer_sizes=(22,), learning_rate=adaptive, solver=sgd; total time=   0.9s\n"
     ]
    },
    {
     "name": "stderr",
     "output_type": "stream",
     "text": [
      "/Users/arvindtawker/miniconda3/lib/python3.10/site-packages/sklearn/neural_network/_multilayer_perceptron.py:691: ConvergenceWarning: Stochastic Optimizer: Maximum iterations (200) reached and the optimization hasn't converged yet.\n",
      "  warnings.warn(\n"
     ]
    },
    {
     "name": "stdout",
     "output_type": "stream",
     "text": [
      "[CV] END activation=logistic, alpha=0.05, hidden_layer_sizes=(22,), learning_rate=adaptive, solver=sgd; total time=   0.9s\n",
      "[CV] END activation=logistic, alpha=0.05, hidden_layer_sizes=(22,), learning_rate=adaptive, solver=sgd; total time=   0.8s\n",
      "[CV] END activation=logistic, alpha=0.05, hidden_layer_sizes=(22,), learning_rate=adaptive, solver=adam; total time=   0.5s\n",
      "[CV] END activation=logistic, alpha=0.05, hidden_layer_sizes=(22,), learning_rate=adaptive, solver=adam; total time=   0.5s\n",
      "[CV] END activation=logistic, alpha=0.05, hidden_layer_sizes=(22,), learning_rate=adaptive, solver=adam; total time=   0.5s\n",
      "[CV] END activation=logistic, alpha=0.05, hidden_layer_sizes=(22,), learning_rate=adaptive, solver=adam; total time=   0.6s\n",
      "[CV] END activation=logistic, alpha=0.05, hidden_layer_sizes=(22,), learning_rate=adaptive, solver=adam; total time=   0.5s\n",
      "[CV] END activation=logistic, alpha=0.05, hidden_layer_sizes=(22,), learning_rate=adaptive, solver=adam; total time=   0.5s\n",
      "[CV] END activation=logistic, alpha=0.05, hidden_layer_sizes=(22,), learning_rate=adaptive, solver=adam; total time=   0.6s\n",
      "[CV] END activation=logistic, alpha=0.05, hidden_layer_sizes=(22,), learning_rate=adaptive, solver=adam; total time=   0.6s\n",
      "[CV] END activation=logistic, alpha=0.05, hidden_layer_sizes=(50, 12), learning_rate=constant, solver=sgd; total time=   0.6s\n",
      "[CV] END activation=logistic, alpha=0.05, hidden_layer_sizes=(50, 12), learning_rate=constant, solver=sgd; total time=   0.6s\n",
      "[CV] END activation=logistic, alpha=0.05, hidden_layer_sizes=(50, 12), learning_rate=constant, solver=sgd; total time=   0.6s\n",
      "[CV] END activation=logistic, alpha=0.05, hidden_layer_sizes=(50, 12), learning_rate=constant, solver=sgd; total time=   0.6s\n",
      "[CV] END activation=logistic, alpha=0.05, hidden_layer_sizes=(50, 12), learning_rate=constant, solver=sgd; total time=   0.6s\n",
      "[CV] END activation=logistic, alpha=0.05, hidden_layer_sizes=(50, 12), learning_rate=constant, solver=sgd; total time=   0.6s\n",
      "[CV] END activation=logistic, alpha=0.05, hidden_layer_sizes=(50, 12), learning_rate=constant, solver=sgd; total time=   0.6s\n",
      "[CV] END activation=logistic, alpha=0.05, hidden_layer_sizes=(50, 12), learning_rate=constant, solver=sgd; total time=   0.6s\n",
      "[CV] END activation=logistic, alpha=0.05, hidden_layer_sizes=(50, 12), learning_rate=constant, solver=adam; total time=   1.6s\n",
      "[CV] END activation=logistic, alpha=0.05, hidden_layer_sizes=(50, 12), learning_rate=constant, solver=adam; total time=   1.4s\n",
      "[CV] END activation=logistic, alpha=0.05, hidden_layer_sizes=(50, 12), learning_rate=constant, solver=adam; total time=   1.2s\n"
     ]
    },
    {
     "name": "stderr",
     "output_type": "stream",
     "text": [
      "/Users/arvindtawker/miniconda3/lib/python3.10/site-packages/sklearn/neural_network/_multilayer_perceptron.py:691: ConvergenceWarning: Stochastic Optimizer: Maximum iterations (200) reached and the optimization hasn't converged yet.\n",
      "  warnings.warn(\n"
     ]
    },
    {
     "name": "stdout",
     "output_type": "stream",
     "text": [
      "[CV] END activation=logistic, alpha=0.05, hidden_layer_sizes=(50, 12), learning_rate=constant, solver=adam; total time=   1.6s\n",
      "[CV] END activation=logistic, alpha=0.05, hidden_layer_sizes=(50, 12), learning_rate=constant, solver=adam; total time=   1.5s\n",
      "[CV] END activation=logistic, alpha=0.05, hidden_layer_sizes=(50, 12), learning_rate=constant, solver=adam; total time=   1.5s\n"
     ]
    },
    {
     "name": "stderr",
     "output_type": "stream",
     "text": [
      "/Users/arvindtawker/miniconda3/lib/python3.10/site-packages/sklearn/neural_network/_multilayer_perceptron.py:691: ConvergenceWarning: Stochastic Optimizer: Maximum iterations (200) reached and the optimization hasn't converged yet.\n",
      "  warnings.warn(\n"
     ]
    },
    {
     "name": "stdout",
     "output_type": "stream",
     "text": [
      "[CV] END activation=logistic, alpha=0.05, hidden_layer_sizes=(50, 12), learning_rate=constant, solver=adam; total time=   1.6s\n",
      "[CV] END activation=logistic, alpha=0.05, hidden_layer_sizes=(50, 12), learning_rate=constant, solver=adam; total time=   1.5s\n",
      "[CV] END activation=logistic, alpha=0.05, hidden_layer_sizes=(50, 12), learning_rate=adaptive, solver=sgd; total time=   1.2s\n",
      "[CV] END activation=logistic, alpha=0.05, hidden_layer_sizes=(50, 12), learning_rate=adaptive, solver=sgd; total time=   1.2s\n",
      "[CV] END activation=logistic, alpha=0.05, hidden_layer_sizes=(50, 12), learning_rate=adaptive, solver=sgd; total time=   1.3s\n",
      "[CV] END activation=logistic, alpha=0.05, hidden_layer_sizes=(50, 12), learning_rate=adaptive, solver=sgd; total time=   1.0s\n",
      "[CV] END activation=logistic, alpha=0.05, hidden_layer_sizes=(50, 12), learning_rate=adaptive, solver=sgd; total time=   1.0s\n",
      "[CV] END activation=logistic, alpha=0.05, hidden_layer_sizes=(50, 12), learning_rate=adaptive, solver=sgd; total time=   1.0s\n",
      "[CV] END activation=logistic, alpha=0.05, hidden_layer_sizes=(50, 12), learning_rate=adaptive, solver=sgd; total time=   1.0s\n",
      "[CV] END activation=logistic, alpha=0.05, hidden_layer_sizes=(50, 12), learning_rate=adaptive, solver=sgd; total time=   1.1s\n",
      "[CV] END activation=logistic, alpha=0.05, hidden_layer_sizes=(50, 12), learning_rate=adaptive, solver=adam; total time=   1.8s\n",
      "[CV] END activation=logistic, alpha=0.05, hidden_layer_sizes=(50, 12), learning_rate=adaptive, solver=adam; total time=   1.1s\n",
      "[CV] END activation=logistic, alpha=0.05, hidden_layer_sizes=(50, 12), learning_rate=adaptive, solver=adam; total time=   1.6s\n",
      "[CV] END activation=logistic, alpha=0.05, hidden_layer_sizes=(50, 12), learning_rate=adaptive, solver=adam; total time=   1.3s\n",
      "[CV] END activation=logistic, alpha=0.05, hidden_layer_sizes=(50, 12), learning_rate=adaptive, solver=adam; total time=   0.9s\n",
      "[CV] END activation=logistic, alpha=0.05, hidden_layer_sizes=(50, 12), learning_rate=adaptive, solver=adam; total time=   1.5s\n",
      "[CV] END activation=logistic, alpha=0.05, hidden_layer_sizes=(50, 12), learning_rate=adaptive, solver=adam; total time=   1.4s\n",
      "[CV] END activation=logistic, alpha=0.05, hidden_layer_sizes=(50, 12), learning_rate=adaptive, solver=adam; total time=   1.5s\n",
      "[CV] END activation=logistic, alpha=0.05, hidden_layer_sizes=(100, 50, 25), learning_rate=constant, solver=sgd; total time=   1.6s\n",
      "[CV] END activation=logistic, alpha=0.05, hidden_layer_sizes=(100, 50, 25), learning_rate=constant, solver=sgd; total time=   2.1s\n",
      "[CV] END activation=logistic, alpha=0.05, hidden_layer_sizes=(100, 50, 25), learning_rate=constant, solver=sgd; total time=   1.7s\n",
      "[CV] END activation=logistic, alpha=0.05, hidden_layer_sizes=(100, 50, 25), learning_rate=constant, solver=sgd; total time=   1.9s\n",
      "[CV] END activation=logistic, alpha=0.05, hidden_layer_sizes=(100, 50, 25), learning_rate=constant, solver=sgd; total time=   1.9s\n",
      "[CV] END activation=logistic, alpha=0.05, hidden_layer_sizes=(100, 50, 25), learning_rate=constant, solver=sgd; total time=   2.0s\n",
      "[CV] END activation=logistic, alpha=0.05, hidden_layer_sizes=(100, 50, 25), learning_rate=constant, solver=sgd; total time=   1.8s\n",
      "[CV] END activation=logistic, alpha=0.05, hidden_layer_sizes=(100, 50, 25), learning_rate=constant, solver=sgd; total time=   1.9s\n",
      "[CV] END activation=logistic, alpha=0.05, hidden_layer_sizes=(100, 50, 25), learning_rate=constant, solver=adam; total time=   5.7s\n",
      "[CV] END activation=logistic, alpha=0.05, hidden_layer_sizes=(100, 50, 25), learning_rate=constant, solver=adam; total time=   5.4s\n",
      "[CV] END activation=logistic, alpha=0.05, hidden_layer_sizes=(100, 50, 25), learning_rate=constant, solver=adam; total time=   4.8s\n",
      "[CV] END activation=logistic, alpha=0.05, hidden_layer_sizes=(100, 50, 25), learning_rate=constant, solver=adam; total time=   7.1s\n",
      "[CV] END activation=logistic, alpha=0.05, hidden_layer_sizes=(100, 50, 25), learning_rate=constant, solver=adam; total time=   5.1s\n",
      "[CV] END activation=logistic, alpha=0.05, hidden_layer_sizes=(100, 50, 25), learning_rate=constant, solver=adam; total time=   5.8s\n",
      "[CV] END activation=logistic, alpha=0.05, hidden_layer_sizes=(100, 50, 25), learning_rate=constant, solver=adam; total time=   8.2s\n",
      "[CV] END activation=logistic, alpha=0.05, hidden_layer_sizes=(100, 50, 25), learning_rate=constant, solver=adam; total time=   5.3s\n",
      "[CV] END activation=logistic, alpha=0.05, hidden_layer_sizes=(100, 50, 25), learning_rate=adaptive, solver=sgd; total time=   4.6s\n",
      "[CV] END activation=logistic, alpha=0.05, hidden_layer_sizes=(100, 50, 25), learning_rate=adaptive, solver=sgd; total time=   4.9s\n",
      "[CV] END activation=logistic, alpha=0.05, hidden_layer_sizes=(100, 50, 25), learning_rate=adaptive, solver=sgd; total time=   4.4s\n",
      "[CV] END activation=logistic, alpha=0.05, hidden_layer_sizes=(100, 50, 25), learning_rate=adaptive, solver=sgd; total time=   4.4s\n",
      "[CV] END activation=logistic, alpha=0.05, hidden_layer_sizes=(100, 50, 25), learning_rate=adaptive, solver=sgd; total time=   4.6s\n",
      "[CV] END activation=logistic, alpha=0.05, hidden_layer_sizes=(100, 50, 25), learning_rate=adaptive, solver=sgd; total time=   4.5s\n",
      "[CV] END activation=logistic, alpha=0.05, hidden_layer_sizes=(100, 50, 25), learning_rate=adaptive, solver=sgd; total time=   4.5s\n",
      "[CV] END activation=logistic, alpha=0.05, hidden_layer_sizes=(100, 50, 25), learning_rate=adaptive, solver=sgd; total time=   4.5s\n",
      "[CV] END activation=logistic, alpha=0.05, hidden_layer_sizes=(100, 50, 25), learning_rate=adaptive, solver=adam; total time=   6.8s\n",
      "[CV] END activation=logistic, alpha=0.05, hidden_layer_sizes=(100, 50, 25), learning_rate=adaptive, solver=adam; total time=   5.2s\n",
      "[CV] END activation=logistic, alpha=0.05, hidden_layer_sizes=(100, 50, 25), learning_rate=adaptive, solver=adam; total time=   5.2s\n",
      "[CV] END activation=logistic, alpha=0.05, hidden_layer_sizes=(100, 50, 25), learning_rate=adaptive, solver=adam; total time=   6.0s\n",
      "[CV] END activation=logistic, alpha=0.05, hidden_layer_sizes=(100, 50, 25), learning_rate=adaptive, solver=adam; total time=   5.1s\n",
      "[CV] END activation=logistic, alpha=0.05, hidden_layer_sizes=(100, 50, 25), learning_rate=adaptive, solver=adam; total time=   6.4s\n",
      "[CV] END activation=logistic, alpha=0.05, hidden_layer_sizes=(100, 50, 25), learning_rate=adaptive, solver=adam; total time=   5.7s\n",
      "[CV] END activation=logistic, alpha=0.05, hidden_layer_sizes=(100, 50, 25), learning_rate=adaptive, solver=adam; total time=   7.8s\n",
      "{'activation': 'relu', 'alpha': 0.0001, 'hidden_layer_sizes': (100, 50, 25), 'learning_rate': 'adaptive', 'solver': 'adam'}\n",
      "MLPClassifier(hidden_layer_sizes=(100, 50, 25), learning_rate='adaptive')\n",
      "0.3715393378551274\n",
      "              precision    recall  f1-score   support\n",
      "\n",
      "           0       0.98      0.98      0.98      1985\n",
      "           1       0.37      0.41      0.39        61\n",
      "\n",
      "    accuracy                           0.96      2046\n",
      "   macro avg       0.68      0.69      0.69      2046\n",
      "weighted avg       0.96      0.96      0.96      2046\n",
      "\n"
     ]
    }
   ],
   "source": [
    "\n",
    "param_grid = {\n",
    "    'hidden_layer_sizes': [(22,), (50, 12), (100, 50, 25)],\n",
    "    'activation': ['tanh', 'relu', 'logistic'],\n",
    "    'solver': ['sgd', 'adam'],\n",
    "    'alpha': [0.0001, 0.05],\n",
    "    'learning_rate': ['constant','adaptive'],\n",
    "}\n",
    "\n",
    "grid = GridSearchCV(MLPClassifier(max_iter=200), param_grid, refit=True, verbose=2, cv=strat_kfold, scoring='f1')\n",
    "grid.fit(X_train, y_train)\n",
    "\n",
    "print(grid.best_params_)\n",
    "print(grid.best_estimator_)\n",
    "print(grid.best_score_)\n",
    "\n",
    "# Using the best parameters to predict the test data\n",
    "grid_predictions = grid.predict(X_test)\n",
    "\n",
    "print(classification_report(y_test, grid_predictions))"
   ]
  },
  {
   "cell_type": "markdown",
   "metadata": {},
   "source": [
    "#### Round 2 of Hyperparameter Tuning"
   ]
  },
  {
   "cell_type": "code",
   "execution_count": 14,
   "metadata": {},
   "outputs": [
    {
     "name": "stdout",
     "output_type": "stream",
     "text": [
      "Fitting 8 folds for each of 6 candidates, totalling 48 fits\n"
     ]
    },
    {
     "name": "stderr",
     "output_type": "stream",
     "text": [
      "/Users/arvindtawker/miniconda3/lib/python3.10/site-packages/sklearn/neural_network/_multilayer_perceptron.py:691: ConvergenceWarning: Stochastic Optimizer: Maximum iterations (200) reached and the optimization hasn't converged yet.\n",
      "  warnings.warn(\n"
     ]
    },
    {
     "name": "stdout",
     "output_type": "stream",
     "text": [
      "[CV] END activation=relu, alpha=0.0001, hidden_layer_sizes=(100, 100), learning_rate=adaptive, solver=adam; total time=  16.6s\n"
     ]
    },
    {
     "name": "stderr",
     "output_type": "stream",
     "text": [
      "/Users/arvindtawker/miniconda3/lib/python3.10/site-packages/sklearn/neural_network/_multilayer_perceptron.py:691: ConvergenceWarning: Stochastic Optimizer: Maximum iterations (200) reached and the optimization hasn't converged yet.\n",
      "  warnings.warn(\n"
     ]
    },
    {
     "name": "stdout",
     "output_type": "stream",
     "text": [
      "[CV] END activation=relu, alpha=0.0001, hidden_layer_sizes=(100, 100), learning_rate=adaptive, solver=adam; total time=  17.7s\n"
     ]
    },
    {
     "name": "stderr",
     "output_type": "stream",
     "text": [
      "/Users/arvindtawker/miniconda3/lib/python3.10/site-packages/sklearn/neural_network/_multilayer_perceptron.py:691: ConvergenceWarning: Stochastic Optimizer: Maximum iterations (200) reached and the optimization hasn't converged yet.\n",
      "  warnings.warn(\n"
     ]
    },
    {
     "name": "stdout",
     "output_type": "stream",
     "text": [
      "[CV] END activation=relu, alpha=0.0001, hidden_layer_sizes=(100, 100), learning_rate=adaptive, solver=adam; total time=  16.8s\n"
     ]
    },
    {
     "name": "stderr",
     "output_type": "stream",
     "text": [
      "/Users/arvindtawker/miniconda3/lib/python3.10/site-packages/sklearn/neural_network/_multilayer_perceptron.py:691: ConvergenceWarning: Stochastic Optimizer: Maximum iterations (200) reached and the optimization hasn't converged yet.\n",
      "  warnings.warn(\n"
     ]
    },
    {
     "name": "stdout",
     "output_type": "stream",
     "text": [
      "[CV] END activation=relu, alpha=0.0001, hidden_layer_sizes=(100, 100), learning_rate=adaptive, solver=adam; total time=  19.5s\n"
     ]
    },
    {
     "name": "stderr",
     "output_type": "stream",
     "text": [
      "/Users/arvindtawker/miniconda3/lib/python3.10/site-packages/sklearn/neural_network/_multilayer_perceptron.py:691: ConvergenceWarning: Stochastic Optimizer: Maximum iterations (200) reached and the optimization hasn't converged yet.\n",
      "  warnings.warn(\n"
     ]
    },
    {
     "name": "stdout",
     "output_type": "stream",
     "text": [
      "[CV] END activation=relu, alpha=0.0001, hidden_layer_sizes=(100, 100), learning_rate=adaptive, solver=adam; total time=  28.8s\n",
      "[CV] END activation=relu, alpha=0.0001, hidden_layer_sizes=(100, 100), learning_rate=adaptive, solver=adam; total time=  20.4s\n"
     ]
    },
    {
     "name": "stderr",
     "output_type": "stream",
     "text": [
      "/Users/arvindtawker/miniconda3/lib/python3.10/site-packages/sklearn/neural_network/_multilayer_perceptron.py:691: ConvergenceWarning: Stochastic Optimizer: Maximum iterations (200) reached and the optimization hasn't converged yet.\n",
      "  warnings.warn(\n"
     ]
    },
    {
     "name": "stdout",
     "output_type": "stream",
     "text": [
      "[CV] END activation=relu, alpha=0.0001, hidden_layer_sizes=(100, 100), learning_rate=adaptive, solver=adam; total time=  17.1s\n"
     ]
    },
    {
     "name": "stderr",
     "output_type": "stream",
     "text": [
      "/Users/arvindtawker/miniconda3/lib/python3.10/site-packages/sklearn/neural_network/_multilayer_perceptron.py:691: ConvergenceWarning: Stochastic Optimizer: Maximum iterations (200) reached and the optimization hasn't converged yet.\n",
      "  warnings.warn(\n"
     ]
    },
    {
     "name": "stdout",
     "output_type": "stream",
     "text": [
      "[CV] END activation=relu, alpha=0.0001, hidden_layer_sizes=(100, 100), learning_rate=adaptive, solver=adam; total time=  13.2s\n"
     ]
    },
    {
     "name": "stderr",
     "output_type": "stream",
     "text": [
      "/Users/arvindtawker/miniconda3/lib/python3.10/site-packages/sklearn/neural_network/_multilayer_perceptron.py:691: ConvergenceWarning: Stochastic Optimizer: Maximum iterations (200) reached and the optimization hasn't converged yet.\n",
      "  warnings.warn(\n"
     ]
    },
    {
     "name": "stdout",
     "output_type": "stream",
     "text": [
      "[CV] END activation=relu, alpha=0.0001, hidden_layer_sizes=(100, 50, 25), learning_rate=adaptive, solver=adam; total time=  12.9s\n"
     ]
    },
    {
     "name": "stderr",
     "output_type": "stream",
     "text": [
      "/Users/arvindtawker/miniconda3/lib/python3.10/site-packages/sklearn/neural_network/_multilayer_perceptron.py:691: ConvergenceWarning: Stochastic Optimizer: Maximum iterations (200) reached and the optimization hasn't converged yet.\n",
      "  warnings.warn(\n"
     ]
    },
    {
     "name": "stdout",
     "output_type": "stream",
     "text": [
      "[CV] END activation=relu, alpha=0.0001, hidden_layer_sizes=(100, 50, 25), learning_rate=adaptive, solver=adam; total time=  12.2s\n",
      "[CV] END activation=relu, alpha=0.0001, hidden_layer_sizes=(100, 50, 25), learning_rate=adaptive, solver=adam; total time=  11.6s\n",
      "[CV] END activation=relu, alpha=0.0001, hidden_layer_sizes=(100, 50, 25), learning_rate=adaptive, solver=adam; total time=  10.2s\n"
     ]
    },
    {
     "name": "stderr",
     "output_type": "stream",
     "text": [
      "/Users/arvindtawker/miniconda3/lib/python3.10/site-packages/sklearn/neural_network/_multilayer_perceptron.py:691: ConvergenceWarning: Stochastic Optimizer: Maximum iterations (200) reached and the optimization hasn't converged yet.\n",
      "  warnings.warn(\n"
     ]
    },
    {
     "name": "stdout",
     "output_type": "stream",
     "text": [
      "[CV] END activation=relu, alpha=0.0001, hidden_layer_sizes=(100, 50, 25), learning_rate=adaptive, solver=adam; total time=  12.6s\n"
     ]
    },
    {
     "name": "stderr",
     "output_type": "stream",
     "text": [
      "/Users/arvindtawker/miniconda3/lib/python3.10/site-packages/sklearn/neural_network/_multilayer_perceptron.py:691: ConvergenceWarning: Stochastic Optimizer: Maximum iterations (200) reached and the optimization hasn't converged yet.\n",
      "  warnings.warn(\n"
     ]
    },
    {
     "name": "stdout",
     "output_type": "stream",
     "text": [
      "[CV] END activation=relu, alpha=0.0001, hidden_layer_sizes=(100, 50, 25), learning_rate=adaptive, solver=adam; total time=  12.2s\n",
      "[CV] END activation=relu, alpha=0.0001, hidden_layer_sizes=(100, 50, 25), learning_rate=adaptive, solver=adam; total time=  10.1s\n",
      "[CV] END activation=relu, alpha=0.0001, hidden_layer_sizes=(100, 50, 25), learning_rate=adaptive, solver=adam; total time=  12.3s\n",
      "[CV] END activation=relu, alpha=0.0001, hidden_layer_sizes=(100, 100, 100), learning_rate=adaptive, solver=adam; total time=  11.9s\n",
      "[CV] END activation=relu, alpha=0.0001, hidden_layer_sizes=(100, 100, 100), learning_rate=adaptive, solver=adam; total time=  12.5s\n",
      "[CV] END activation=relu, alpha=0.0001, hidden_layer_sizes=(100, 100, 100), learning_rate=adaptive, solver=adam; total time=  18.4s\n",
      "[CV] END activation=relu, alpha=0.0001, hidden_layer_sizes=(100, 100, 100), learning_rate=adaptive, solver=adam; total time=  11.7s\n",
      "[CV] END activation=relu, alpha=0.0001, hidden_layer_sizes=(100, 100, 100), learning_rate=adaptive, solver=adam; total time=  15.3s\n",
      "[CV] END activation=relu, alpha=0.0001, hidden_layer_sizes=(100, 100, 100), learning_rate=adaptive, solver=adam; total time=  13.4s\n",
      "[CV] END activation=relu, alpha=0.0001, hidden_layer_sizes=(100, 100, 100), learning_rate=adaptive, solver=adam; total time=  15.4s\n",
      "[CV] END activation=relu, alpha=0.0001, hidden_layer_sizes=(100, 100, 100), learning_rate=adaptive, solver=adam; total time=  16.5s\n"
     ]
    },
    {
     "name": "stderr",
     "output_type": "stream",
     "text": [
      "/Users/arvindtawker/miniconda3/lib/python3.10/site-packages/sklearn/neural_network/_multilayer_perceptron.py:691: ConvergenceWarning: Stochastic Optimizer: Maximum iterations (200) reached and the optimization hasn't converged yet.\n",
      "  warnings.warn(\n"
     ]
    },
    {
     "name": "stdout",
     "output_type": "stream",
     "text": [
      "[CV] END activation=relu, alpha=0.001, hidden_layer_sizes=(100, 100), learning_rate=adaptive, solver=adam; total time=  13.3s\n",
      "[CV] END activation=relu, alpha=0.001, hidden_layer_sizes=(100, 100), learning_rate=adaptive, solver=adam; total time=  12.0s\n"
     ]
    },
    {
     "name": "stderr",
     "output_type": "stream",
     "text": [
      "/Users/arvindtawker/miniconda3/lib/python3.10/site-packages/sklearn/neural_network/_multilayer_perceptron.py:691: ConvergenceWarning: Stochastic Optimizer: Maximum iterations (200) reached and the optimization hasn't converged yet.\n",
      "  warnings.warn(\n"
     ]
    },
    {
     "name": "stdout",
     "output_type": "stream",
     "text": [
      "[CV] END activation=relu, alpha=0.001, hidden_layer_sizes=(100, 100), learning_rate=adaptive, solver=adam; total time=  12.9s\n"
     ]
    },
    {
     "name": "stderr",
     "output_type": "stream",
     "text": [
      "/Users/arvindtawker/miniconda3/lib/python3.10/site-packages/sklearn/neural_network/_multilayer_perceptron.py:691: ConvergenceWarning: Stochastic Optimizer: Maximum iterations (200) reached and the optimization hasn't converged yet.\n",
      "  warnings.warn(\n"
     ]
    },
    {
     "name": "stdout",
     "output_type": "stream",
     "text": [
      "[CV] END activation=relu, alpha=0.001, hidden_layer_sizes=(100, 100), learning_rate=adaptive, solver=adam; total time=  12.8s\n"
     ]
    },
    {
     "name": "stderr",
     "output_type": "stream",
     "text": [
      "/Users/arvindtawker/miniconda3/lib/python3.10/site-packages/sklearn/neural_network/_multilayer_perceptron.py:691: ConvergenceWarning: Stochastic Optimizer: Maximum iterations (200) reached and the optimization hasn't converged yet.\n",
      "  warnings.warn(\n"
     ]
    },
    {
     "name": "stdout",
     "output_type": "stream",
     "text": [
      "[CV] END activation=relu, alpha=0.001, hidden_layer_sizes=(100, 100), learning_rate=adaptive, solver=adam; total time=  12.3s\n"
     ]
    },
    {
     "name": "stderr",
     "output_type": "stream",
     "text": [
      "/Users/arvindtawker/miniconda3/lib/python3.10/site-packages/sklearn/neural_network/_multilayer_perceptron.py:691: ConvergenceWarning: Stochastic Optimizer: Maximum iterations (200) reached and the optimization hasn't converged yet.\n",
      "  warnings.warn(\n"
     ]
    },
    {
     "name": "stdout",
     "output_type": "stream",
     "text": [
      "[CV] END activation=relu, alpha=0.001, hidden_layer_sizes=(100, 100), learning_rate=adaptive, solver=adam; total time=  12.6s\n"
     ]
    },
    {
     "name": "stderr",
     "output_type": "stream",
     "text": [
      "/Users/arvindtawker/miniconda3/lib/python3.10/site-packages/sklearn/neural_network/_multilayer_perceptron.py:691: ConvergenceWarning: Stochastic Optimizer: Maximum iterations (200) reached and the optimization hasn't converged yet.\n",
      "  warnings.warn(\n"
     ]
    },
    {
     "name": "stdout",
     "output_type": "stream",
     "text": [
      "[CV] END activation=relu, alpha=0.001, hidden_layer_sizes=(100, 100), learning_rate=adaptive, solver=adam; total time=  14.2s\n"
     ]
    },
    {
     "name": "stderr",
     "output_type": "stream",
     "text": [
      "/Users/arvindtawker/miniconda3/lib/python3.10/site-packages/sklearn/neural_network/_multilayer_perceptron.py:691: ConvergenceWarning: Stochastic Optimizer: Maximum iterations (200) reached and the optimization hasn't converged yet.\n",
      "  warnings.warn(\n"
     ]
    },
    {
     "name": "stdout",
     "output_type": "stream",
     "text": [
      "[CV] END activation=relu, alpha=0.001, hidden_layer_sizes=(100, 100), learning_rate=adaptive, solver=adam; total time=  12.8s\n",
      "[CV] END activation=relu, alpha=0.001, hidden_layer_sizes=(100, 50, 25), learning_rate=adaptive, solver=adam; total time=  11.2s\n",
      "[CV] END activation=relu, alpha=0.001, hidden_layer_sizes=(100, 50, 25), learning_rate=adaptive, solver=adam; total time=  11.7s\n"
     ]
    },
    {
     "name": "stderr",
     "output_type": "stream",
     "text": [
      "/Users/arvindtawker/miniconda3/lib/python3.10/site-packages/sklearn/neural_network/_multilayer_perceptron.py:691: ConvergenceWarning: Stochastic Optimizer: Maximum iterations (200) reached and the optimization hasn't converged yet.\n",
      "  warnings.warn(\n"
     ]
    },
    {
     "name": "stdout",
     "output_type": "stream",
     "text": [
      "[CV] END activation=relu, alpha=0.001, hidden_layer_sizes=(100, 50, 25), learning_rate=adaptive, solver=adam; total time=  13.1s\n",
      "[CV] END activation=relu, alpha=0.001, hidden_layer_sizes=(100, 50, 25), learning_rate=adaptive, solver=adam; total time=  12.8s\n",
      "[CV] END activation=relu, alpha=0.001, hidden_layer_sizes=(100, 50, 25), learning_rate=adaptive, solver=adam; total time=   9.9s\n",
      "[CV] END activation=relu, alpha=0.001, hidden_layer_sizes=(100, 50, 25), learning_rate=adaptive, solver=adam; total time=  11.1s\n",
      "[CV] END activation=relu, alpha=0.001, hidden_layer_sizes=(100, 50, 25), learning_rate=adaptive, solver=adam; total time=  12.6s\n",
      "[CV] END activation=relu, alpha=0.001, hidden_layer_sizes=(100, 50, 25), learning_rate=adaptive, solver=adam; total time=  11.5s\n",
      "[CV] END activation=relu, alpha=0.001, hidden_layer_sizes=(100, 100, 100), learning_rate=adaptive, solver=adam; total time=  14.1s\n",
      "[CV] END activation=relu, alpha=0.001, hidden_layer_sizes=(100, 100, 100), learning_rate=adaptive, solver=adam; total time=  14.7s\n",
      "[CV] END activation=relu, alpha=0.001, hidden_layer_sizes=(100, 100, 100), learning_rate=adaptive, solver=adam; total time=  13.6s\n",
      "[CV] END activation=relu, alpha=0.001, hidden_layer_sizes=(100, 100, 100), learning_rate=adaptive, solver=adam; total time=  16.8s\n",
      "[CV] END activation=relu, alpha=0.001, hidden_layer_sizes=(100, 100, 100), learning_rate=adaptive, solver=adam; total time=  23.5s\n",
      "[CV] END activation=relu, alpha=0.001, hidden_layer_sizes=(100, 100, 100), learning_rate=adaptive, solver=adam; total time=  18.4s\n",
      "[CV] END activation=relu, alpha=0.001, hidden_layer_sizes=(100, 100, 100), learning_rate=adaptive, solver=adam; total time=  17.2s\n",
      "[CV] END activation=relu, alpha=0.001, hidden_layer_sizes=(100, 100, 100), learning_rate=adaptive, solver=adam; total time=  16.6s\n",
      "{'activation': 'relu', 'alpha': 0.001, 'hidden_layer_sizes': (100, 100, 100), 'learning_rate': 'adaptive', 'solver': 'adam'}\n",
      "MLPClassifier(alpha=0.001, hidden_layer_sizes=(100, 100, 100),\n",
      "              learning_rate='adaptive')\n",
      "0.35164473684210523\n",
      "              precision    recall  f1-score   support\n",
      "\n",
      "           0       0.98      0.98      0.98      1985\n",
      "           1       0.43      0.38      0.40        61\n",
      "\n",
      "    accuracy                           0.97      2046\n",
      "   macro avg       0.70      0.68      0.69      2046\n",
      "weighted avg       0.96      0.97      0.97      2046\n",
      "\n"
     ]
    }
   ],
   "source": [
    "param_grid = {\n",
    "    'hidden_layer_sizes': [(100, 100), (100, 50, 25), (100, 100, 100)],\n",
    "    'activation': ['relu'],\n",
    "    'solver': ['adam'],\n",
    "    'alpha': [0.0001, 0.001],\n",
    "    'learning_rate': ['adaptive'],\n",
    "}\n",
    "\n",
    "grid = GridSearchCV(MLPClassifier(max_iter=200), param_grid, refit=True, verbose=2, cv=strat_kfold, scoring='recall')\n",
    "grid.fit(X_train, y_train)\n",
    "\n",
    "print(grid.best_params_)\n",
    "print(grid.best_estimator_)\n",
    "print(grid.best_score_)\n",
    "\n",
    "# Using the best parameters to predict the test data\n",
    "grid_predictions = grid.predict(X_test)\n",
    "\n",
    "print(classification_report(y_test, grid_predictions))"
   ]
  },
  {
   "cell_type": "markdown",
   "metadata": {},
   "source": [
    "#### Round 3 of Hyperparameter Tuning"
   ]
  },
  {
   "cell_type": "code",
   "execution_count": 15,
   "metadata": {},
   "outputs": [
    {
     "name": "stdout",
     "output_type": "stream",
     "text": [
      "Fitting 8 folds for each of 4 candidates, totalling 32 fits\n",
      "[CV] END activation=relu, alpha=0.001, hidden_layer_sizes=(100, 100, 100), learning_rate=adaptive, solver=adam; total time=  13.8s\n",
      "[CV] END activation=relu, alpha=0.001, hidden_layer_sizes=(100, 100, 100), learning_rate=adaptive, solver=adam; total time=  12.4s\n",
      "[CV] END activation=relu, alpha=0.001, hidden_layer_sizes=(100, 100, 100), learning_rate=adaptive, solver=adam; total time=  11.4s\n",
      "[CV] END activation=relu, alpha=0.001, hidden_layer_sizes=(100, 100, 100), learning_rate=adaptive, solver=adam; total time=  15.4s\n",
      "[CV] END activation=relu, alpha=0.001, hidden_layer_sizes=(100, 100, 100), learning_rate=adaptive, solver=adam; total time=  20.2s\n",
      "[CV] END activation=relu, alpha=0.001, hidden_layer_sizes=(100, 100, 100), learning_rate=adaptive, solver=adam; total time=  21.1s\n",
      "[CV] END activation=relu, alpha=0.001, hidden_layer_sizes=(100, 100, 100), learning_rate=adaptive, solver=adam; total time=  11.8s\n",
      "[CV] END activation=relu, alpha=0.001, hidden_layer_sizes=(100, 100, 100), learning_rate=adaptive, solver=adam; total time=   9.3s\n",
      "[CV] END activation=relu, alpha=0.001, hidden_layer_sizes=(100, 100, 100, 100), learning_rate=adaptive, solver=adam; total time=   8.8s\n",
      "[CV] END activation=relu, alpha=0.001, hidden_layer_sizes=(100, 100, 100, 100), learning_rate=adaptive, solver=adam; total time=   7.3s\n",
      "[CV] END activation=relu, alpha=0.001, hidden_layer_sizes=(100, 100, 100, 100), learning_rate=adaptive, solver=adam; total time=  13.1s\n",
      "[CV] END activation=relu, alpha=0.001, hidden_layer_sizes=(100, 100, 100, 100), learning_rate=adaptive, solver=adam; total time=  11.1s\n",
      "[CV] END activation=relu, alpha=0.001, hidden_layer_sizes=(100, 100, 100, 100), learning_rate=adaptive, solver=adam; total time=  10.6s\n",
      "[CV] END activation=relu, alpha=0.001, hidden_layer_sizes=(100, 100, 100, 100), learning_rate=adaptive, solver=adam; total time=  11.8s\n",
      "[CV] END activation=relu, alpha=0.001, hidden_layer_sizes=(100, 100, 100, 100), learning_rate=adaptive, solver=adam; total time=  11.9s\n",
      "[CV] END activation=relu, alpha=0.001, hidden_layer_sizes=(100, 100, 100, 100), learning_rate=adaptive, solver=adam; total time=  21.8s\n",
      "[CV] END activation=relu, alpha=0.01, hidden_layer_sizes=(100, 100, 100), learning_rate=adaptive, solver=adam; total time=  22.1s\n",
      "[CV] END activation=relu, alpha=0.01, hidden_layer_sizes=(100, 100, 100), learning_rate=adaptive, solver=adam; total time=   9.5s\n",
      "[CV] END activation=relu, alpha=0.01, hidden_layer_sizes=(100, 100, 100), learning_rate=adaptive, solver=adam; total time=  12.3s\n",
      "[CV] END activation=relu, alpha=0.01, hidden_layer_sizes=(100, 100, 100), learning_rate=adaptive, solver=adam; total time=  11.1s\n",
      "[CV] END activation=relu, alpha=0.01, hidden_layer_sizes=(100, 100, 100), learning_rate=adaptive, solver=adam; total time=  15.3s\n",
      "[CV] END activation=relu, alpha=0.01, hidden_layer_sizes=(100, 100, 100), learning_rate=adaptive, solver=adam; total time=  14.6s\n",
      "[CV] END activation=relu, alpha=0.01, hidden_layer_sizes=(100, 100, 100), learning_rate=adaptive, solver=adam; total time=  10.3s\n",
      "[CV] END activation=relu, alpha=0.01, hidden_layer_sizes=(100, 100, 100), learning_rate=adaptive, solver=adam; total time=  10.8s\n",
      "[CV] END activation=relu, alpha=0.01, hidden_layer_sizes=(100, 100, 100, 100), learning_rate=adaptive, solver=adam; total time=  13.3s\n",
      "[CV] END activation=relu, alpha=0.01, hidden_layer_sizes=(100, 100, 100, 100), learning_rate=adaptive, solver=adam; total time=  16.7s\n",
      "[CV] END activation=relu, alpha=0.01, hidden_layer_sizes=(100, 100, 100, 100), learning_rate=adaptive, solver=adam; total time=  11.9s\n",
      "[CV] END activation=relu, alpha=0.01, hidden_layer_sizes=(100, 100, 100, 100), learning_rate=adaptive, solver=adam; total time=  15.2s\n",
      "[CV] END activation=relu, alpha=0.01, hidden_layer_sizes=(100, 100, 100, 100), learning_rate=adaptive, solver=adam; total time=  16.0s\n",
      "[CV] END activation=relu, alpha=0.01, hidden_layer_sizes=(100, 100, 100, 100), learning_rate=adaptive, solver=adam; total time=  11.4s\n",
      "[CV] END activation=relu, alpha=0.01, hidden_layer_sizes=(100, 100, 100, 100), learning_rate=adaptive, solver=adam; total time=  11.8s\n",
      "[CV] END activation=relu, alpha=0.01, hidden_layer_sizes=(100, 100, 100, 100), learning_rate=adaptive, solver=adam; total time=   7.7s\n",
      "{'activation': 'relu', 'alpha': 0.001, 'hidden_layer_sizes': (100, 100, 100), 'learning_rate': 'adaptive', 'solver': 'adam'}\n",
      "MLPClassifier(alpha=0.001, hidden_layer_sizes=(100, 100, 100),\n",
      "              learning_rate='adaptive')\n",
      "0.3279605263157894\n",
      "              precision    recall  f1-score   support\n",
      "\n",
      "           0       0.98      0.99      0.98      1985\n",
      "           1       0.39      0.26      0.31        61\n",
      "\n",
      "    accuracy                           0.97      2046\n",
      "   macro avg       0.68      0.62      0.65      2046\n",
      "weighted avg       0.96      0.97      0.96      2046\n",
      "\n"
     ]
    }
   ],
   "source": [
    "param_grid = {\n",
    "    'hidden_layer_sizes': [(100, 100, 100), (100, 100, 100, 100)],\n",
    "    'activation': ['relu'],\n",
    "    'solver': ['adam'],\n",
    "    'alpha': [0.001, 0.01],\n",
    "    'learning_rate': ['adaptive'],\n",
    "}\n",
    "\n",
    "grid = GridSearchCV(MLPClassifier(max_iter=200), param_grid, refit=True, verbose=2, cv=strat_kfold, scoring='recall')\n",
    "grid.fit(X_train, y_train)\n",
    "\n",
    "print(grid.best_params_)\n",
    "print(grid.best_estimator_)\n",
    "print(grid.best_score_)\n",
    "\n",
    "# Using the best parameters to predict the test data\n",
    "grid_predictions = grid.predict(X_test)\n",
    "\n",
    "print(classification_report(y_test, grid_predictions))"
   ]
  },
  {
   "cell_type": "markdown",
   "metadata": {},
   "source": [
    "<i>We see that the performance of the Neural Networks does not improve too much with tuning, so let's look at SVMs</i>"
   ]
  },
  {
   "cell_type": "markdown",
   "metadata": {},
   "source": [
    "### Training the SVM with the SMOTE data"
   ]
  },
  {
   "cell_type": "code",
   "execution_count": null,
   "metadata": {},
   "outputs": [],
   "source": []
  }
 ],
 "metadata": {
  "kernelspec": {
   "display_name": "base",
   "language": "python",
   "name": "python3"
  },
  "language_info": {
   "codemirror_mode": {
    "name": "ipython",
    "version": 3
   },
   "file_extension": ".py",
   "mimetype": "text/x-python",
   "name": "python",
   "nbconvert_exporter": "python",
   "pygments_lexer": "ipython3",
   "version": "3.10.9"
  }
 },
 "nbformat": 4,
 "nbformat_minor": 2
}
